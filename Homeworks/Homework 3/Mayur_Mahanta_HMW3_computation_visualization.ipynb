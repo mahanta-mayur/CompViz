{
  "cells": [
    {
      "cell_type": "markdown",
      "source": [
        "#Homework 3\n",
        "#Course - Computation and Visualization \n",
        "\n",
        "\n",
        "*   Name - Mayur Mahanta\n",
        "*   Section - 14075 (03)\n",
        "\n",
        "\n",
        "\n"
      ],
      "metadata": {
        "id": "goO6roMuvhcp"
      }
    },
    {
      "cell_type": "code",
      "execution_count": null,
      "metadata": {
        "jupyter": {
          "source_hidden": true
        },
        "id": "V_G6ulGDq7fD",
        "outputId": "884a34fe-94cb-4202-ad21-894a7b1672fd"
      },
      "outputs": [
        {
          "name": "stdout",
          "output_type": "stream",
          "text": [
            "\n",
            "For section 1: You need to write your code in order to regenerate the exact result as shown under each question\n",
            "For section 2: You need to generate the answers based on the questions without having the sample results.\n",
            "\n",
            "\n"
          ]
        }
      ],
      "source": [
        "\"\"\"\n",
        "For section 1: You need to write your code in order to regenerate the exact result as shown under each question\n",
        "For section 2: You need to generate the answers based on the questions without having the sample results.\n",
        "\n",
        "\"\"\"\n",
        "\n",
        "print(__doc__)"
      ]
    },
    {
      "cell_type": "markdown",
      "metadata": {
        "id": "aS3go7kDq7fE"
      },
      "source": [
        "# Section 1"
      ]
    },
    {
      "cell_type": "markdown",
      "metadata": {
        "id": "sljrN0Ovq7fF"
      },
      "source": [
        "### Note\n",
        "* Instructions have been included for each segment. You do not have to follow them exactly, but they are included to help you think through the steps."
      ]
    },
    {
      "cell_type": "code",
      "execution_count": 39,
      "metadata": {
        "colab": {
          "base_uri": "https://localhost:8080/",
          "height": 206
        },
        "id": "RffrLvhQq7fF",
        "outputId": "bb8ad2a9-db24-4d93-c06f-aca78df3c4b2"
      },
      "outputs": [
        {
          "output_type": "execute_result",
          "data": {
            "text/plain": [
              "   Purchase ID             SN  Age Gender  Item ID  \\\n",
              "0            0        Lisim78   20   Male      108   \n",
              "1            1    Lisovynya38   40   Male      143   \n",
              "2            2     Ithergue48   24   Male       92   \n",
              "3            3  Chamassasya86   24   Male      100   \n",
              "4            4      Iskosia90   23   Male      131   \n",
              "\n",
              "                                   Item Name  Price  \n",
              "0  Extraction, Quickblade Of Trembling Hands   3.53  \n",
              "1                          Frenzied Scimitar   1.56  \n",
              "2                               Final Critic   4.88  \n",
              "3                                Blindscythe   3.27  \n",
              "4                                       Fury   1.44  "
            ],
            "text/html": [
              "\n",
              "  <div id=\"df-83942efe-1d57-43f9-870d-723858df1bf4\">\n",
              "    <div class=\"colab-df-container\">\n",
              "      <div>\n",
              "<style scoped>\n",
              "    .dataframe tbody tr th:only-of-type {\n",
              "        vertical-align: middle;\n",
              "    }\n",
              "\n",
              "    .dataframe tbody tr th {\n",
              "        vertical-align: top;\n",
              "    }\n",
              "\n",
              "    .dataframe thead th {\n",
              "        text-align: right;\n",
              "    }\n",
              "</style>\n",
              "<table border=\"1\" class=\"dataframe\">\n",
              "  <thead>\n",
              "    <tr style=\"text-align: right;\">\n",
              "      <th></th>\n",
              "      <th>Purchase ID</th>\n",
              "      <th>SN</th>\n",
              "      <th>Age</th>\n",
              "      <th>Gender</th>\n",
              "      <th>Item ID</th>\n",
              "      <th>Item Name</th>\n",
              "      <th>Price</th>\n",
              "    </tr>\n",
              "  </thead>\n",
              "  <tbody>\n",
              "    <tr>\n",
              "      <th>0</th>\n",
              "      <td>0</td>\n",
              "      <td>Lisim78</td>\n",
              "      <td>20</td>\n",
              "      <td>Male</td>\n",
              "      <td>108</td>\n",
              "      <td>Extraction, Quickblade Of Trembling Hands</td>\n",
              "      <td>3.53</td>\n",
              "    </tr>\n",
              "    <tr>\n",
              "      <th>1</th>\n",
              "      <td>1</td>\n",
              "      <td>Lisovynya38</td>\n",
              "      <td>40</td>\n",
              "      <td>Male</td>\n",
              "      <td>143</td>\n",
              "      <td>Frenzied Scimitar</td>\n",
              "      <td>1.56</td>\n",
              "    </tr>\n",
              "    <tr>\n",
              "      <th>2</th>\n",
              "      <td>2</td>\n",
              "      <td>Ithergue48</td>\n",
              "      <td>24</td>\n",
              "      <td>Male</td>\n",
              "      <td>92</td>\n",
              "      <td>Final Critic</td>\n",
              "      <td>4.88</td>\n",
              "    </tr>\n",
              "    <tr>\n",
              "      <th>3</th>\n",
              "      <td>3</td>\n",
              "      <td>Chamassasya86</td>\n",
              "      <td>24</td>\n",
              "      <td>Male</td>\n",
              "      <td>100</td>\n",
              "      <td>Blindscythe</td>\n",
              "      <td>3.27</td>\n",
              "    </tr>\n",
              "    <tr>\n",
              "      <th>4</th>\n",
              "      <td>4</td>\n",
              "      <td>Iskosia90</td>\n",
              "      <td>23</td>\n",
              "      <td>Male</td>\n",
              "      <td>131</td>\n",
              "      <td>Fury</td>\n",
              "      <td>1.44</td>\n",
              "    </tr>\n",
              "  </tbody>\n",
              "</table>\n",
              "</div>\n",
              "      <button class=\"colab-df-convert\" onclick=\"convertToInteractive('df-83942efe-1d57-43f9-870d-723858df1bf4')\"\n",
              "              title=\"Convert this dataframe to an interactive table.\"\n",
              "              style=\"display:none;\">\n",
              "        \n",
              "  <svg xmlns=\"http://www.w3.org/2000/svg\" height=\"24px\"viewBox=\"0 0 24 24\"\n",
              "       width=\"24px\">\n",
              "    <path d=\"M0 0h24v24H0V0z\" fill=\"none\"/>\n",
              "    <path d=\"M18.56 5.44l.94 2.06.94-2.06 2.06-.94-2.06-.94-.94-2.06-.94 2.06-2.06.94zm-11 1L8.5 8.5l.94-2.06 2.06-.94-2.06-.94L8.5 2.5l-.94 2.06-2.06.94zm10 10l.94 2.06.94-2.06 2.06-.94-2.06-.94-.94-2.06-.94 2.06-2.06.94z\"/><path d=\"M17.41 7.96l-1.37-1.37c-.4-.4-.92-.59-1.43-.59-.52 0-1.04.2-1.43.59L10.3 9.45l-7.72 7.72c-.78.78-.78 2.05 0 2.83L4 21.41c.39.39.9.59 1.41.59.51 0 1.02-.2 1.41-.59l7.78-7.78 2.81-2.81c.8-.78.8-2.07 0-2.86zM5.41 20L4 18.59l7.72-7.72 1.47 1.35L5.41 20z\"/>\n",
              "  </svg>\n",
              "      </button>\n",
              "      \n",
              "  <style>\n",
              "    .colab-df-container {\n",
              "      display:flex;\n",
              "      flex-wrap:wrap;\n",
              "      gap: 12px;\n",
              "    }\n",
              "\n",
              "    .colab-df-convert {\n",
              "      background-color: #E8F0FE;\n",
              "      border: none;\n",
              "      border-radius: 50%;\n",
              "      cursor: pointer;\n",
              "      display: none;\n",
              "      fill: #1967D2;\n",
              "      height: 32px;\n",
              "      padding: 0 0 0 0;\n",
              "      width: 32px;\n",
              "    }\n",
              "\n",
              "    .colab-df-convert:hover {\n",
              "      background-color: #E2EBFA;\n",
              "      box-shadow: 0px 1px 2px rgba(60, 64, 67, 0.3), 0px 1px 3px 1px rgba(60, 64, 67, 0.15);\n",
              "      fill: #174EA6;\n",
              "    }\n",
              "\n",
              "    [theme=dark] .colab-df-convert {\n",
              "      background-color: #3B4455;\n",
              "      fill: #D2E3FC;\n",
              "    }\n",
              "\n",
              "    [theme=dark] .colab-df-convert:hover {\n",
              "      background-color: #434B5C;\n",
              "      box-shadow: 0px 1px 3px 1px rgba(0, 0, 0, 0.15);\n",
              "      filter: drop-shadow(0px 1px 2px rgba(0, 0, 0, 0.3));\n",
              "      fill: #FFFFFF;\n",
              "    }\n",
              "  </style>\n",
              "\n",
              "      <script>\n",
              "        const buttonEl =\n",
              "          document.querySelector('#df-83942efe-1d57-43f9-870d-723858df1bf4 button.colab-df-convert');\n",
              "        buttonEl.style.display =\n",
              "          google.colab.kernel.accessAllowed ? 'block' : 'none';\n",
              "\n",
              "        async function convertToInteractive(key) {\n",
              "          const element = document.querySelector('#df-83942efe-1d57-43f9-870d-723858df1bf4');\n",
              "          const dataTable =\n",
              "            await google.colab.kernel.invokeFunction('convertToInteractive',\n",
              "                                                     [key], {});\n",
              "          if (!dataTable) return;\n",
              "\n",
              "          const docLinkHtml = 'Like what you see? Visit the ' +\n",
              "            '<a target=\"_blank\" href=https://colab.research.google.com/notebooks/data_table.ipynb>data table notebook</a>'\n",
              "            + ' to learn more about interactive tables.';\n",
              "          element.innerHTML = '';\n",
              "          dataTable['output_type'] = 'display_data';\n",
              "          await google.colab.output.renderOutput(dataTable, element);\n",
              "          const docLink = document.createElement('div');\n",
              "          docLink.innerHTML = docLinkHtml;\n",
              "          element.appendChild(docLink);\n",
              "        }\n",
              "      </script>\n",
              "    </div>\n",
              "  </div>\n",
              "  "
            ]
          },
          "metadata": {},
          "execution_count": 39
        }
      ],
      "source": [
        "# Dependencies and Setup\n",
        "import pandas as pd\n",
        "import numpy as np\n",
        "\n",
        "# File to Load (Remember to Change These)\n",
        "file_to_load = \"purchase_data.csv\"\n",
        "\n",
        "# Read Purchasing File and store into Pandas data frame\n",
        "purchase_data = pd.read_csv(file_to_load)\n",
        "\n",
        "purchase_data.head()"
      ]
    },
    {
      "cell_type": "markdown",
      "metadata": {
        "id": "LpPwItUqq7fG"
      },
      "source": [
        "### Q1 - check for missing data"
      ]
    },
    {
      "cell_type": "code",
      "execution_count": 40,
      "metadata": {
        "colab": {
          "base_uri": "https://localhost:8080/"
        },
        "id": "QXo3nzU9q7fG",
        "outputId": "483621c3-faeb-4be3-fc55-e411ac0610eb"
      },
      "outputs": [
        {
          "output_type": "stream",
          "name": "stdout",
          "text": [
            "Purchase ID    780\n",
            "SN             780\n",
            "Age            780\n",
            "Gender         780\n",
            "Item ID        780\n",
            "Item Name      780\n",
            "Price          780\n",
            "dtype: int64\n"
          ]
        }
      ],
      "source": [
        "#for null data chech, using the notnull() method and summed it over the values \n",
        "#to obtain total number of missing values\n",
        "print(purchase_data.notnull().sum())"
      ]
    },
    {
      "cell_type": "markdown",
      "metadata": {
        "id": "DP1YJktWq7fH"
      },
      "source": [
        "## Player Count"
      ]
    },
    {
      "cell_type": "markdown",
      "metadata": {
        "id": "sxuur1l4q7fH"
      },
      "source": [
        "### Q2 - Display the total number of players\n"
      ]
    },
    {
      "cell_type": "code",
      "execution_count": 41,
      "metadata": {
        "colab": {
          "base_uri": "https://localhost:8080/",
          "height": 80
        },
        "id": "Jfoox272q7fI",
        "outputId": "afb0230a-6505-4fc0-efad-84a2690bef87"
      },
      "outputs": [
        {
          "output_type": "execute_result",
          "data": {
            "text/plain": [
              "   Total Number of Players\n",
              "0                      576"
            ],
            "text/html": [
              "\n",
              "  <div id=\"df-e1d0aae2-b2eb-4f01-9d36-3a28948196a6\">\n",
              "    <div class=\"colab-df-container\">\n",
              "      <div>\n",
              "<style scoped>\n",
              "    .dataframe tbody tr th:only-of-type {\n",
              "        vertical-align: middle;\n",
              "    }\n",
              "\n",
              "    .dataframe tbody tr th {\n",
              "        vertical-align: top;\n",
              "    }\n",
              "\n",
              "    .dataframe thead th {\n",
              "        text-align: right;\n",
              "    }\n",
              "</style>\n",
              "<table border=\"1\" class=\"dataframe\">\n",
              "  <thead>\n",
              "    <tr style=\"text-align: right;\">\n",
              "      <th></th>\n",
              "      <th>Total Number of Players</th>\n",
              "    </tr>\n",
              "  </thead>\n",
              "  <tbody>\n",
              "    <tr>\n",
              "      <th>0</th>\n",
              "      <td>576</td>\n",
              "    </tr>\n",
              "  </tbody>\n",
              "</table>\n",
              "</div>\n",
              "      <button class=\"colab-df-convert\" onclick=\"convertToInteractive('df-e1d0aae2-b2eb-4f01-9d36-3a28948196a6')\"\n",
              "              title=\"Convert this dataframe to an interactive table.\"\n",
              "              style=\"display:none;\">\n",
              "        \n",
              "  <svg xmlns=\"http://www.w3.org/2000/svg\" height=\"24px\"viewBox=\"0 0 24 24\"\n",
              "       width=\"24px\">\n",
              "    <path d=\"M0 0h24v24H0V0z\" fill=\"none\"/>\n",
              "    <path d=\"M18.56 5.44l.94 2.06.94-2.06 2.06-.94-2.06-.94-.94-2.06-.94 2.06-2.06.94zm-11 1L8.5 8.5l.94-2.06 2.06-.94-2.06-.94L8.5 2.5l-.94 2.06-2.06.94zm10 10l.94 2.06.94-2.06 2.06-.94-2.06-.94-.94-2.06-.94 2.06-2.06.94z\"/><path d=\"M17.41 7.96l-1.37-1.37c-.4-.4-.92-.59-1.43-.59-.52 0-1.04.2-1.43.59L10.3 9.45l-7.72 7.72c-.78.78-.78 2.05 0 2.83L4 21.41c.39.39.9.59 1.41.59.51 0 1.02-.2 1.41-.59l7.78-7.78 2.81-2.81c.8-.78.8-2.07 0-2.86zM5.41 20L4 18.59l7.72-7.72 1.47 1.35L5.41 20z\"/>\n",
              "  </svg>\n",
              "      </button>\n",
              "      \n",
              "  <style>\n",
              "    .colab-df-container {\n",
              "      display:flex;\n",
              "      flex-wrap:wrap;\n",
              "      gap: 12px;\n",
              "    }\n",
              "\n",
              "    .colab-df-convert {\n",
              "      background-color: #E8F0FE;\n",
              "      border: none;\n",
              "      border-radius: 50%;\n",
              "      cursor: pointer;\n",
              "      display: none;\n",
              "      fill: #1967D2;\n",
              "      height: 32px;\n",
              "      padding: 0 0 0 0;\n",
              "      width: 32px;\n",
              "    }\n",
              "\n",
              "    .colab-df-convert:hover {\n",
              "      background-color: #E2EBFA;\n",
              "      box-shadow: 0px 1px 2px rgba(60, 64, 67, 0.3), 0px 1px 3px 1px rgba(60, 64, 67, 0.15);\n",
              "      fill: #174EA6;\n",
              "    }\n",
              "\n",
              "    [theme=dark] .colab-df-convert {\n",
              "      background-color: #3B4455;\n",
              "      fill: #D2E3FC;\n",
              "    }\n",
              "\n",
              "    [theme=dark] .colab-df-convert:hover {\n",
              "      background-color: #434B5C;\n",
              "      box-shadow: 0px 1px 3px 1px rgba(0, 0, 0, 0.15);\n",
              "      filter: drop-shadow(0px 1px 2px rgba(0, 0, 0, 0.3));\n",
              "      fill: #FFFFFF;\n",
              "    }\n",
              "  </style>\n",
              "\n",
              "      <script>\n",
              "        const buttonEl =\n",
              "          document.querySelector('#df-e1d0aae2-b2eb-4f01-9d36-3a28948196a6 button.colab-df-convert');\n",
              "        buttonEl.style.display =\n",
              "          google.colab.kernel.accessAllowed ? 'block' : 'none';\n",
              "\n",
              "        async function convertToInteractive(key) {\n",
              "          const element = document.querySelector('#df-e1d0aae2-b2eb-4f01-9d36-3a28948196a6');\n",
              "          const dataTable =\n",
              "            await google.colab.kernel.invokeFunction('convertToInteractive',\n",
              "                                                     [key], {});\n",
              "          if (!dataTable) return;\n",
              "\n",
              "          const docLinkHtml = 'Like what you see? Visit the ' +\n",
              "            '<a target=\"_blank\" href=https://colab.research.google.com/notebooks/data_table.ipynb>data table notebook</a>'\n",
              "            + ' to learn more about interactive tables.';\n",
              "          element.innerHTML = '';\n",
              "          dataTable['output_type'] = 'display_data';\n",
              "          await google.colab.output.renderOutput(dataTable, element);\n",
              "          const docLink = document.createElement('div');\n",
              "          docLink.innerHTML = docLinkHtml;\n",
              "          element.appendChild(docLink);\n",
              "        }\n",
              "      </script>\n",
              "    </div>\n",
              "  </div>\n",
              "  "
            ]
          },
          "metadata": {},
          "execution_count": 41
        }
      ],
      "source": [
        "#Code for counting the total number of players and \n",
        "#assigning it to to a new column to show in a dataframe\n",
        "data=[purchase_data.SN.unique().size]\n",
        "df=pd.DataFrame(data,columns=['Total Number of Players'])\n",
        "df"
      ]
    },
    {
      "cell_type": "markdown",
      "metadata": {
        "id": "ng4fkzdxq7fI"
      },
      "source": [
        "### Q3- Purchasing Analysis (Total)"
      ]
    },
    {
      "cell_type": "markdown",
      "metadata": {
        "id": "zjKJYIx2q7fI"
      },
      "source": [
        "* Obtain number of unique items, average price, etc.\n",
        "\n",
        "\n",
        "* Create a summary data frame to hold the results\n",
        "\n",
        "\n",
        "* Optional: give the displayed data cleaner formatting\n",
        "\n",
        "\n",
        "* Display the summary data frame\n"
      ]
    },
    {
      "cell_type": "code",
      "execution_count": 42,
      "metadata": {
        "colab": {
          "base_uri": "https://localhost:8080/",
          "height": 80
        },
        "id": "zikGY61Oq7fJ",
        "outputId": "ae7763fb-a441-4a6d-cf31-b2152bfe27b3"
      },
      "outputs": [
        {
          "output_type": "execute_result",
          "data": {
            "text/plain": [
              "   Unique items Average Price  Total Purchases Total Revenue\n",
              "0           183         $3.05              780      $2379.77"
            ],
            "text/html": [
              "\n",
              "  <div id=\"df-d6a2d57b-f899-4b5a-9072-b88649a10a14\">\n",
              "    <div class=\"colab-df-container\">\n",
              "      <div>\n",
              "<style scoped>\n",
              "    .dataframe tbody tr th:only-of-type {\n",
              "        vertical-align: middle;\n",
              "    }\n",
              "\n",
              "    .dataframe tbody tr th {\n",
              "        vertical-align: top;\n",
              "    }\n",
              "\n",
              "    .dataframe thead th {\n",
              "        text-align: right;\n",
              "    }\n",
              "</style>\n",
              "<table border=\"1\" class=\"dataframe\">\n",
              "  <thead>\n",
              "    <tr style=\"text-align: right;\">\n",
              "      <th></th>\n",
              "      <th>Unique items</th>\n",
              "      <th>Average Price</th>\n",
              "      <th>Total Purchases</th>\n",
              "      <th>Total Revenue</th>\n",
              "    </tr>\n",
              "  </thead>\n",
              "  <tbody>\n",
              "    <tr>\n",
              "      <th>0</th>\n",
              "      <td>183</td>\n",
              "      <td>$3.05</td>\n",
              "      <td>780</td>\n",
              "      <td>$2379.77</td>\n",
              "    </tr>\n",
              "  </tbody>\n",
              "</table>\n",
              "</div>\n",
              "      <button class=\"colab-df-convert\" onclick=\"convertToInteractive('df-d6a2d57b-f899-4b5a-9072-b88649a10a14')\"\n",
              "              title=\"Convert this dataframe to an interactive table.\"\n",
              "              style=\"display:none;\">\n",
              "        \n",
              "  <svg xmlns=\"http://www.w3.org/2000/svg\" height=\"24px\"viewBox=\"0 0 24 24\"\n",
              "       width=\"24px\">\n",
              "    <path d=\"M0 0h24v24H0V0z\" fill=\"none\"/>\n",
              "    <path d=\"M18.56 5.44l.94 2.06.94-2.06 2.06-.94-2.06-.94-.94-2.06-.94 2.06-2.06.94zm-11 1L8.5 8.5l.94-2.06 2.06-.94-2.06-.94L8.5 2.5l-.94 2.06-2.06.94zm10 10l.94 2.06.94-2.06 2.06-.94-2.06-.94-.94-2.06-.94 2.06-2.06.94z\"/><path d=\"M17.41 7.96l-1.37-1.37c-.4-.4-.92-.59-1.43-.59-.52 0-1.04.2-1.43.59L10.3 9.45l-7.72 7.72c-.78.78-.78 2.05 0 2.83L4 21.41c.39.39.9.59 1.41.59.51 0 1.02-.2 1.41-.59l7.78-7.78 2.81-2.81c.8-.78.8-2.07 0-2.86zM5.41 20L4 18.59l7.72-7.72 1.47 1.35L5.41 20z\"/>\n",
              "  </svg>\n",
              "      </button>\n",
              "      \n",
              "  <style>\n",
              "    .colab-df-container {\n",
              "      display:flex;\n",
              "      flex-wrap:wrap;\n",
              "      gap: 12px;\n",
              "    }\n",
              "\n",
              "    .colab-df-convert {\n",
              "      background-color: #E8F0FE;\n",
              "      border: none;\n",
              "      border-radius: 50%;\n",
              "      cursor: pointer;\n",
              "      display: none;\n",
              "      fill: #1967D2;\n",
              "      height: 32px;\n",
              "      padding: 0 0 0 0;\n",
              "      width: 32px;\n",
              "    }\n",
              "\n",
              "    .colab-df-convert:hover {\n",
              "      background-color: #E2EBFA;\n",
              "      box-shadow: 0px 1px 2px rgba(60, 64, 67, 0.3), 0px 1px 3px 1px rgba(60, 64, 67, 0.15);\n",
              "      fill: #174EA6;\n",
              "    }\n",
              "\n",
              "    [theme=dark] .colab-df-convert {\n",
              "      background-color: #3B4455;\n",
              "      fill: #D2E3FC;\n",
              "    }\n",
              "\n",
              "    [theme=dark] .colab-df-convert:hover {\n",
              "      background-color: #434B5C;\n",
              "      box-shadow: 0px 1px 3px 1px rgba(0, 0, 0, 0.15);\n",
              "      filter: drop-shadow(0px 1px 2px rgba(0, 0, 0, 0.3));\n",
              "      fill: #FFFFFF;\n",
              "    }\n",
              "  </style>\n",
              "\n",
              "      <script>\n",
              "        const buttonEl =\n",
              "          document.querySelector('#df-d6a2d57b-f899-4b5a-9072-b88649a10a14 button.colab-df-convert');\n",
              "        buttonEl.style.display =\n",
              "          google.colab.kernel.accessAllowed ? 'block' : 'none';\n",
              "\n",
              "        async function convertToInteractive(key) {\n",
              "          const element = document.querySelector('#df-d6a2d57b-f899-4b5a-9072-b88649a10a14');\n",
              "          const dataTable =\n",
              "            await google.colab.kernel.invokeFunction('convertToInteractive',\n",
              "                                                     [key], {});\n",
              "          if (!dataTable) return;\n",
              "\n",
              "          const docLinkHtml = 'Like what you see? Visit the ' +\n",
              "            '<a target=\"_blank\" href=https://colab.research.google.com/notebooks/data_table.ipynb>data table notebook</a>'\n",
              "            + ' to learn more about interactive tables.';\n",
              "          element.innerHTML = '';\n",
              "          dataTable['output_type'] = 'display_data';\n",
              "          await google.colab.output.renderOutput(dataTable, element);\n",
              "          const docLink = document.createElement('div');\n",
              "          docLink.innerHTML = docLinkHtml;\n",
              "          element.appendChild(docLink);\n",
              "        }\n",
              "      </script>\n",
              "    </div>\n",
              "  </div>\n",
              "  "
            ]
          },
          "metadata": {},
          "execution_count": 42
        }
      ],
      "source": [
        "#rounding an average price value\n",
        "#and transforming it for dollars\n",
        "unique_Items=purchase_data['Item ID'].unique().size\n",
        "average_price_val=round(np.average(purchase_data['Price']),2)\n",
        "average_price_dollars_ct = \"${:.2f}\".format(average_price_val)\n",
        "average_price_dollars_ct\n",
        "\n",
        "#correlating the Purchase Unique Identifier to the average dollors computed\n",
        "\n",
        "Purchase_ct=purchase_data['Purchase ID'].unique().size\n",
        "total_Revenue=purchase_data.Price.sum()\n",
        "total_Revenue_dollars = \"${:.2f}\".format(total_Revenue)\n",
        "total_Revenue_dollars\n",
        "\n",
        "#finally, displaying all of the fields and displaying it using\n",
        "#a new dataframe\n",
        "data=[[unique_Items,average_price_dollars_ct,Purchase_ct,total_Revenue_dollars]]\n",
        "df=pd.DataFrame(data,columns=['Unique items','Average Price','Total Purchases',\n",
        "                             'Total Revenue'])\n",
        "df\n",
        "\n"
      ]
    },
    {
      "cell_type": "markdown",
      "metadata": {
        "id": "7Jr0fSW6q7fJ"
      },
      "source": [
        "### Q4- Gender Demographics"
      ]
    },
    {
      "cell_type": "markdown",
      "metadata": {
        "id": "O7_kV8rOq7fK"
      },
      "source": [
        "* Percentage and Count of Male Players\n",
        "\n",
        "\n",
        "* Percentage and Count of Female Players\n",
        "\n",
        "\n",
        "* Percentage and Count of Other / Non-Disclosed\n",
        "\n",
        "\n"
      ]
    },
    {
      "cell_type": "code",
      "execution_count": 43,
      "metadata": {
        "colab": {
          "base_uri": "https://localhost:8080/",
          "height": 143
        },
        "id": "TfPcPx3xq7fK",
        "outputId": "1f941c38-3154-4cbc-d2b7-15e2dcede39b"
      },
      "outputs": [
        {
          "output_type": "execute_result",
          "data": {
            "text/plain": [
              "                         Count Percent of Total Players\n",
              "0                  Male    484                   84.03%\n",
              "1                Female     81                   14.06%\n",
              "2  Other/ Non-Disclosed     11                    1.91%"
            ],
            "text/html": [
              "\n",
              "  <div id=\"df-d3ac45d0-7c4c-4c1b-9c00-647f035da8c7\">\n",
              "    <div class=\"colab-df-container\">\n",
              "      <div>\n",
              "<style scoped>\n",
              "    .dataframe tbody tr th:only-of-type {\n",
              "        vertical-align: middle;\n",
              "    }\n",
              "\n",
              "    .dataframe tbody tr th {\n",
              "        vertical-align: top;\n",
              "    }\n",
              "\n",
              "    .dataframe thead th {\n",
              "        text-align: right;\n",
              "    }\n",
              "</style>\n",
              "<table border=\"1\" class=\"dataframe\">\n",
              "  <thead>\n",
              "    <tr style=\"text-align: right;\">\n",
              "      <th></th>\n",
              "      <th></th>\n",
              "      <th>Count</th>\n",
              "      <th>Percent of Total Players</th>\n",
              "    </tr>\n",
              "  </thead>\n",
              "  <tbody>\n",
              "    <tr>\n",
              "      <th>0</th>\n",
              "      <td>Male</td>\n",
              "      <td>484</td>\n",
              "      <td>84.03%</td>\n",
              "    </tr>\n",
              "    <tr>\n",
              "      <th>1</th>\n",
              "      <td>Female</td>\n",
              "      <td>81</td>\n",
              "      <td>14.06%</td>\n",
              "    </tr>\n",
              "    <tr>\n",
              "      <th>2</th>\n",
              "      <td>Other/ Non-Disclosed</td>\n",
              "      <td>11</td>\n",
              "      <td>1.91%</td>\n",
              "    </tr>\n",
              "  </tbody>\n",
              "</table>\n",
              "</div>\n",
              "      <button class=\"colab-df-convert\" onclick=\"convertToInteractive('df-d3ac45d0-7c4c-4c1b-9c00-647f035da8c7')\"\n",
              "              title=\"Convert this dataframe to an interactive table.\"\n",
              "              style=\"display:none;\">\n",
              "        \n",
              "  <svg xmlns=\"http://www.w3.org/2000/svg\" height=\"24px\"viewBox=\"0 0 24 24\"\n",
              "       width=\"24px\">\n",
              "    <path d=\"M0 0h24v24H0V0z\" fill=\"none\"/>\n",
              "    <path d=\"M18.56 5.44l.94 2.06.94-2.06 2.06-.94-2.06-.94-.94-2.06-.94 2.06-2.06.94zm-11 1L8.5 8.5l.94-2.06 2.06-.94-2.06-.94L8.5 2.5l-.94 2.06-2.06.94zm10 10l.94 2.06.94-2.06 2.06-.94-2.06-.94-.94-2.06-.94 2.06-2.06.94z\"/><path d=\"M17.41 7.96l-1.37-1.37c-.4-.4-.92-.59-1.43-.59-.52 0-1.04.2-1.43.59L10.3 9.45l-7.72 7.72c-.78.78-.78 2.05 0 2.83L4 21.41c.39.39.9.59 1.41.59.51 0 1.02-.2 1.41-.59l7.78-7.78 2.81-2.81c.8-.78.8-2.07 0-2.86zM5.41 20L4 18.59l7.72-7.72 1.47 1.35L5.41 20z\"/>\n",
              "  </svg>\n",
              "      </button>\n",
              "      \n",
              "  <style>\n",
              "    .colab-df-container {\n",
              "      display:flex;\n",
              "      flex-wrap:wrap;\n",
              "      gap: 12px;\n",
              "    }\n",
              "\n",
              "    .colab-df-convert {\n",
              "      background-color: #E8F0FE;\n",
              "      border: none;\n",
              "      border-radius: 50%;\n",
              "      cursor: pointer;\n",
              "      display: none;\n",
              "      fill: #1967D2;\n",
              "      height: 32px;\n",
              "      padding: 0 0 0 0;\n",
              "      width: 32px;\n",
              "    }\n",
              "\n",
              "    .colab-df-convert:hover {\n",
              "      background-color: #E2EBFA;\n",
              "      box-shadow: 0px 1px 2px rgba(60, 64, 67, 0.3), 0px 1px 3px 1px rgba(60, 64, 67, 0.15);\n",
              "      fill: #174EA6;\n",
              "    }\n",
              "\n",
              "    [theme=dark] .colab-df-convert {\n",
              "      background-color: #3B4455;\n",
              "      fill: #D2E3FC;\n",
              "    }\n",
              "\n",
              "    [theme=dark] .colab-df-convert:hover {\n",
              "      background-color: #434B5C;\n",
              "      box-shadow: 0px 1px 3px 1px rgba(0, 0, 0, 0.15);\n",
              "      filter: drop-shadow(0px 1px 2px rgba(0, 0, 0, 0.3));\n",
              "      fill: #FFFFFF;\n",
              "    }\n",
              "  </style>\n",
              "\n",
              "      <script>\n",
              "        const buttonEl =\n",
              "          document.querySelector('#df-d3ac45d0-7c4c-4c1b-9c00-647f035da8c7 button.colab-df-convert');\n",
              "        buttonEl.style.display =\n",
              "          google.colab.kernel.accessAllowed ? 'block' : 'none';\n",
              "\n",
              "        async function convertToInteractive(key) {\n",
              "          const element = document.querySelector('#df-d3ac45d0-7c4c-4c1b-9c00-647f035da8c7');\n",
              "          const dataTable =\n",
              "            await google.colab.kernel.invokeFunction('convertToInteractive',\n",
              "                                                     [key], {});\n",
              "          if (!dataTable) return;\n",
              "\n",
              "          const docLinkHtml = 'Like what you see? Visit the ' +\n",
              "            '<a target=\"_blank\" href=https://colab.research.google.com/notebooks/data_table.ipynb>data table notebook</a>'\n",
              "            + ' to learn more about interactive tables.';\n",
              "          element.innerHTML = '';\n",
              "          dataTable['output_type'] = 'display_data';\n",
              "          await google.colab.output.renderOutput(dataTable, element);\n",
              "          const docLink = document.createElement('div');\n",
              "          docLink.innerHTML = docLinkHtml;\n",
              "          element.appendChild(docLink);\n",
              "        }\n",
              "      </script>\n",
              "    </div>\n",
              "  </div>\n",
              "  "
            ]
          },
          "metadata": {},
          "execution_count": 43
        }
      ],
      "source": [
        "#computing the total count of other/Non-Disclosed players from the left over\n",
        "#players under Male and Female\n",
        "Gender_ct=purchase_data.groupby('Gender')['SN'].nunique()\n",
        "total_Count=Gender_ct.Male+Gender_ct.Female+Gender_ct['Other / Non-Disclosed']\n",
        "percent_Male= round(((Gender_ct.Male/total_Count)*100),2)\n",
        "percent_Female= round(((Gender_ct.Female/total_Count)*100),2)\n",
        "percent_Other= round(((Gender_ct['Other / Non-Disclosed']/total_Count)*100),2)\n",
        "\n",
        "#converting to percentage values for male, female and other\n",
        "male_Percent=\"{:.2f}%\".format(percent_Male)\n",
        "female_Percent=\"{:.2f}%\".format(percent_Female)\n",
        "other_Percent=\"{:.2f}%\".format(percent_Other)\n",
        "\n",
        "#finally, displaying all of the fields and displaying it using\n",
        "#a new dataframe\n",
        "data=[['Male',count_Gender.Male,male_Percent],['Female',Gender_ct.Female,female_Percent],\n",
        "      ['Other/ Non-Disclosed',Gender_ct['Other / Non-Disclosed'],other_Percent]]\n",
        "df=pd.DataFrame(data,columns=['','Count','Percent of Total Players'])\n",
        "df\n"
      ]
    },
    {
      "cell_type": "markdown",
      "metadata": {
        "id": "Fd6eFKA7q7fK"
      },
      "source": [
        "\n",
        "### Q5-Purchasing Analysis (Gender)"
      ]
    },
    {
      "cell_type": "markdown",
      "metadata": {
        "id": "eX4vMRNyq7fL"
      },
      "source": [
        "* Run basic calculations to obtain purchase count, avg. purchase price, avg. purchase total per person etc. by gender\n",
        "\n",
        "\n",
        "\n",
        "\n",
        "* Create a summary data frame to hold the results\n",
        "\n",
        "\n",
        "* Optional: give the displayed data cleaner formatting\n",
        "\n",
        "\n"
      ]
    },
    {
      "cell_type": "code",
      "execution_count": 48,
      "metadata": {
        "colab": {
          "base_uri": "https://localhost:8080/"
        },
        "id": "yuQA9QI8q7fL",
        "outputId": "c3fc1139-1b54-431b-fa46-17f07b315e9a"
      },
      "outputs": [
        {
          "output_type": "execute_result",
          "data": {
            "text/plain": [
              "Gender\n",
              "Female                    361.94\n",
              "Male                     1967.64\n",
              "Other / Non-Disclosed      50.19\n",
              "Name: Price, dtype: float64"
            ]
          },
          "metadata": {},
          "execution_count": 48
        }
      ],
      "source": [
        "#here we are displaying the mechanism of the groupby in-built function\n",
        "\n",
        "purchase_data.groupby(['Gender'])['SN'].nunique()\n",
        "purchase_data.groupby(['Gender'])['Item Name'].nunique()\n",
        "purchase_data.groupby(['Gender'])['Price'].mean()\n",
        "purchase_data.groupby(['Gender'])['Price'].sum()"
      ]
    },
    {
      "cell_type": "markdown",
      "metadata": {
        "id": "-cEqNv_vq7fL"
      },
      "source": [
        "#### Q6-Display the summary data frame"
      ]
    },
    {
      "cell_type": "code",
      "execution_count": 58,
      "metadata": {
        "colab": {
          "base_uri": "https://localhost:8080/",
          "height": 300
        },
        "id": "XP5y9sExq7fL",
        "outputId": "cd63c539-1647-4781-c2f5-42b60f59660f"
      },
      "outputs": [
        {
          "output_type": "execute_result",
          "data": {
            "text/plain": [
              "       Purchase ID         Age     Item ID       Price\n",
              "count   780.000000  780.000000  780.000000  780.000000\n",
              "mean    389.500000   22.714103   92.114103    3.050987\n",
              "std     225.310896    6.659444   52.775943    1.169549\n",
              "min       0.000000    7.000000    0.000000    1.000000\n",
              "25%     194.750000   20.000000   48.000000    1.980000\n",
              "50%     389.500000   22.000000   93.000000    3.150000\n",
              "75%     584.250000   25.000000  139.000000    4.080000\n",
              "max     779.000000   45.000000  183.000000    4.990000"
            ],
            "text/html": [
              "\n",
              "  <div id=\"df-6c8ae47a-1b8f-4182-bd3d-f1b27afbb0ea\">\n",
              "    <div class=\"colab-df-container\">\n",
              "      <div>\n",
              "<style scoped>\n",
              "    .dataframe tbody tr th:only-of-type {\n",
              "        vertical-align: middle;\n",
              "    }\n",
              "\n",
              "    .dataframe tbody tr th {\n",
              "        vertical-align: top;\n",
              "    }\n",
              "\n",
              "    .dataframe thead th {\n",
              "        text-align: right;\n",
              "    }\n",
              "</style>\n",
              "<table border=\"1\" class=\"dataframe\">\n",
              "  <thead>\n",
              "    <tr style=\"text-align: right;\">\n",
              "      <th></th>\n",
              "      <th>Purchase ID</th>\n",
              "      <th>Age</th>\n",
              "      <th>Item ID</th>\n",
              "      <th>Price</th>\n",
              "    </tr>\n",
              "  </thead>\n",
              "  <tbody>\n",
              "    <tr>\n",
              "      <th>count</th>\n",
              "      <td>780.000000</td>\n",
              "      <td>780.000000</td>\n",
              "      <td>780.000000</td>\n",
              "      <td>780.000000</td>\n",
              "    </tr>\n",
              "    <tr>\n",
              "      <th>mean</th>\n",
              "      <td>389.500000</td>\n",
              "      <td>22.714103</td>\n",
              "      <td>92.114103</td>\n",
              "      <td>3.050987</td>\n",
              "    </tr>\n",
              "    <tr>\n",
              "      <th>std</th>\n",
              "      <td>225.310896</td>\n",
              "      <td>6.659444</td>\n",
              "      <td>52.775943</td>\n",
              "      <td>1.169549</td>\n",
              "    </tr>\n",
              "    <tr>\n",
              "      <th>min</th>\n",
              "      <td>0.000000</td>\n",
              "      <td>7.000000</td>\n",
              "      <td>0.000000</td>\n",
              "      <td>1.000000</td>\n",
              "    </tr>\n",
              "    <tr>\n",
              "      <th>25%</th>\n",
              "      <td>194.750000</td>\n",
              "      <td>20.000000</td>\n",
              "      <td>48.000000</td>\n",
              "      <td>1.980000</td>\n",
              "    </tr>\n",
              "    <tr>\n",
              "      <th>50%</th>\n",
              "      <td>389.500000</td>\n",
              "      <td>22.000000</td>\n",
              "      <td>93.000000</td>\n",
              "      <td>3.150000</td>\n",
              "    </tr>\n",
              "    <tr>\n",
              "      <th>75%</th>\n",
              "      <td>584.250000</td>\n",
              "      <td>25.000000</td>\n",
              "      <td>139.000000</td>\n",
              "      <td>4.080000</td>\n",
              "    </tr>\n",
              "    <tr>\n",
              "      <th>max</th>\n",
              "      <td>779.000000</td>\n",
              "      <td>45.000000</td>\n",
              "      <td>183.000000</td>\n",
              "      <td>4.990000</td>\n",
              "    </tr>\n",
              "  </tbody>\n",
              "</table>\n",
              "</div>\n",
              "      <button class=\"colab-df-convert\" onclick=\"convertToInteractive('df-6c8ae47a-1b8f-4182-bd3d-f1b27afbb0ea')\"\n",
              "              title=\"Convert this dataframe to an interactive table.\"\n",
              "              style=\"display:none;\">\n",
              "        \n",
              "  <svg xmlns=\"http://www.w3.org/2000/svg\" height=\"24px\"viewBox=\"0 0 24 24\"\n",
              "       width=\"24px\">\n",
              "    <path d=\"M0 0h24v24H0V0z\" fill=\"none\"/>\n",
              "    <path d=\"M18.56 5.44l.94 2.06.94-2.06 2.06-.94-2.06-.94-.94-2.06-.94 2.06-2.06.94zm-11 1L8.5 8.5l.94-2.06 2.06-.94-2.06-.94L8.5 2.5l-.94 2.06-2.06.94zm10 10l.94 2.06.94-2.06 2.06-.94-2.06-.94-.94-2.06-.94 2.06-2.06.94z\"/><path d=\"M17.41 7.96l-1.37-1.37c-.4-.4-.92-.59-1.43-.59-.52 0-1.04.2-1.43.59L10.3 9.45l-7.72 7.72c-.78.78-.78 2.05 0 2.83L4 21.41c.39.39.9.59 1.41.59.51 0 1.02-.2 1.41-.59l7.78-7.78 2.81-2.81c.8-.78.8-2.07 0-2.86zM5.41 20L4 18.59l7.72-7.72 1.47 1.35L5.41 20z\"/>\n",
              "  </svg>\n",
              "      </button>\n",
              "      \n",
              "  <style>\n",
              "    .colab-df-container {\n",
              "      display:flex;\n",
              "      flex-wrap:wrap;\n",
              "      gap: 12px;\n",
              "    }\n",
              "\n",
              "    .colab-df-convert {\n",
              "      background-color: #E8F0FE;\n",
              "      border: none;\n",
              "      border-radius: 50%;\n",
              "      cursor: pointer;\n",
              "      display: none;\n",
              "      fill: #1967D2;\n",
              "      height: 32px;\n",
              "      padding: 0 0 0 0;\n",
              "      width: 32px;\n",
              "    }\n",
              "\n",
              "    .colab-df-convert:hover {\n",
              "      background-color: #E2EBFA;\n",
              "      box-shadow: 0px 1px 2px rgba(60, 64, 67, 0.3), 0px 1px 3px 1px rgba(60, 64, 67, 0.15);\n",
              "      fill: #174EA6;\n",
              "    }\n",
              "\n",
              "    [theme=dark] .colab-df-convert {\n",
              "      background-color: #3B4455;\n",
              "      fill: #D2E3FC;\n",
              "    }\n",
              "\n",
              "    [theme=dark] .colab-df-convert:hover {\n",
              "      background-color: #434B5C;\n",
              "      box-shadow: 0px 1px 3px 1px rgba(0, 0, 0, 0.15);\n",
              "      filter: drop-shadow(0px 1px 2px rgba(0, 0, 0, 0.3));\n",
              "      fill: #FFFFFF;\n",
              "    }\n",
              "  </style>\n",
              "\n",
              "      <script>\n",
              "        const buttonEl =\n",
              "          document.querySelector('#df-6c8ae47a-1b8f-4182-bd3d-f1b27afbb0ea button.colab-df-convert');\n",
              "        buttonEl.style.display =\n",
              "          google.colab.kernel.accessAllowed ? 'block' : 'none';\n",
              "\n",
              "        async function convertToInteractive(key) {\n",
              "          const element = document.querySelector('#df-6c8ae47a-1b8f-4182-bd3d-f1b27afbb0ea');\n",
              "          const dataTable =\n",
              "            await google.colab.kernel.invokeFunction('convertToInteractive',\n",
              "                                                     [key], {});\n",
              "          if (!dataTable) return;\n",
              "\n",
              "          const docLinkHtml = 'Like what you see? Visit the ' +\n",
              "            '<a target=\"_blank\" href=https://colab.research.google.com/notebooks/data_table.ipynb>data table notebook</a>'\n",
              "            + ' to learn more about interactive tables.';\n",
              "          element.innerHTML = '';\n",
              "          dataTable['output_type'] = 'display_data';\n",
              "          await google.colab.output.renderOutput(dataTable, element);\n",
              "          const docLink = document.createElement('div');\n",
              "          docLink.innerHTML = docLinkHtml;\n",
              "          element.appendChild(docLink);\n",
              "        }\n",
              "      </script>\n",
              "    </div>\n",
              "  </div>\n",
              "  "
            ]
          },
          "metadata": {},
          "execution_count": 58
        }
      ],
      "source": [
        "#describe function for displaying\n",
        "#the summary data frame\n",
        "purchase_data.describe()"
      ]
    },
    {
      "cell_type": "code",
      "source": [
        "total_players = len(purchase_data['SN'].value_counts())\n",
        "\n",
        "age_bin = [0, 9.99, 14.99, 19.99, 24.99, 29.99, 34.99, 39.99, 1000]\n",
        "age_groups =['<10', '10-14', '15-19', '20-24', '25-29', '30-34', '35-39', '40+']\n",
        "purchase_data['Age Group'] = pd.cut(purchase_data['Age'], age_bin, labels=age_groups, include_lowest=True)\n",
        "agegroup_data_df = purchase_data.groupby('Age Group')\n",
        "count_player_agegroup = agegroup_data_df['SN'].nunique()\n",
        "percent_players_agegroup = count_player_agegroup / total_players * 100\n",
        "age_demographics_df = pd.DataFrame({'Total Count':count_player_agegroup,\n",
        "                       'Players Percentage':percent_players_agegroup})\n",
        "\n",
        "age_demographics_df.index.name = None\n",
        "age_demographics_df.style.format({'Players Percentage':'{:,.2f}%'})"
      ],
      "metadata": {
        "colab": {
          "base_uri": "https://localhost:8080/",
          "height": 300
        },
        "id": "XeAfR_5w_iEg",
        "outputId": "7427cc8c-e974-4bdf-881e-82c726bd4061"
      },
      "execution_count": 83,
      "outputs": [
        {
          "output_type": "execute_result",
          "data": {
            "text/plain": [
              "<pandas.io.formats.style.Styler at 0x7ffa109fd790>"
            ],
            "text/html": [
              "<style type=\"text/css\">\n",
              "</style>\n",
              "<table id=\"T_13851_\" class=\"dataframe\">\n",
              "  <thead>\n",
              "    <tr>\n",
              "      <th class=\"blank level0\" >&nbsp;</th>\n",
              "      <th class=\"col_heading level0 col0\" >Total Count</th>\n",
              "      <th class=\"col_heading level0 col1\" >Players Percentage</th>\n",
              "    </tr>\n",
              "  </thead>\n",
              "  <tbody>\n",
              "    <tr>\n",
              "      <th id=\"T_13851_level0_row0\" class=\"row_heading level0 row0\" ><10</th>\n",
              "      <td id=\"T_13851_row0_col0\" class=\"data row0 col0\" >17</td>\n",
              "      <td id=\"T_13851_row0_col1\" class=\"data row0 col1\" >2.95%</td>\n",
              "    </tr>\n",
              "    <tr>\n",
              "      <th id=\"T_13851_level0_row1\" class=\"row_heading level0 row1\" >10-14</th>\n",
              "      <td id=\"T_13851_row1_col0\" class=\"data row1 col0\" >22</td>\n",
              "      <td id=\"T_13851_row1_col1\" class=\"data row1 col1\" >3.82%</td>\n",
              "    </tr>\n",
              "    <tr>\n",
              "      <th id=\"T_13851_level0_row2\" class=\"row_heading level0 row2\" >15-19</th>\n",
              "      <td id=\"T_13851_row2_col0\" class=\"data row2 col0\" >107</td>\n",
              "      <td id=\"T_13851_row2_col1\" class=\"data row2 col1\" >18.58%</td>\n",
              "    </tr>\n",
              "    <tr>\n",
              "      <th id=\"T_13851_level0_row3\" class=\"row_heading level0 row3\" >20-24</th>\n",
              "      <td id=\"T_13851_row3_col0\" class=\"data row3 col0\" >258</td>\n",
              "      <td id=\"T_13851_row3_col1\" class=\"data row3 col1\" >44.79%</td>\n",
              "    </tr>\n",
              "    <tr>\n",
              "      <th id=\"T_13851_level0_row4\" class=\"row_heading level0 row4\" >25-29</th>\n",
              "      <td id=\"T_13851_row4_col0\" class=\"data row4 col0\" >77</td>\n",
              "      <td id=\"T_13851_row4_col1\" class=\"data row4 col1\" >13.37%</td>\n",
              "    </tr>\n",
              "    <tr>\n",
              "      <th id=\"T_13851_level0_row5\" class=\"row_heading level0 row5\" >30-34</th>\n",
              "      <td id=\"T_13851_row5_col0\" class=\"data row5 col0\" >52</td>\n",
              "      <td id=\"T_13851_row5_col1\" class=\"data row5 col1\" >9.03%</td>\n",
              "    </tr>\n",
              "    <tr>\n",
              "      <th id=\"T_13851_level0_row6\" class=\"row_heading level0 row6\" >35-39</th>\n",
              "      <td id=\"T_13851_row6_col0\" class=\"data row6 col0\" >31</td>\n",
              "      <td id=\"T_13851_row6_col1\" class=\"data row6 col1\" >5.38%</td>\n",
              "    </tr>\n",
              "    <tr>\n",
              "      <th id=\"T_13851_level0_row7\" class=\"row_heading level0 row7\" >40+</th>\n",
              "      <td id=\"T_13851_row7_col0\" class=\"data row7 col0\" >12</td>\n",
              "      <td id=\"T_13851_row7_col1\" class=\"data row7 col1\" >2.08%</td>\n",
              "    </tr>\n",
              "  </tbody>\n",
              "</table>\n"
            ]
          },
          "metadata": {},
          "execution_count": 83
        }
      ]
    },
    {
      "cell_type": "markdown",
      "metadata": {
        "id": "VP9BaUWdq7fL"
      },
      "source": [
        "### Q7- Age Demographics"
      ]
    },
    {
      "cell_type": "markdown",
      "metadata": {
        "id": "UPgMB4pPq7fL"
      },
      "source": [
        "* Establish bins for ages\n",
        "\n",
        "\n",
        "* Categorize the existing players using the age bins. Hint: use pd.cut()\n",
        "\n",
        "\n",
        "* Calculate the numbers and percentages by age group\n",
        "\n",
        "\n",
        "* Create a summary data frame to hold the results\n",
        "\n",
        "\n",
        "* Optional: round the percentage column to two decimal points\n",
        "\n",
        "\n",
        "* Display Age Demographics Table\n"
      ]
    },
    {
      "cell_type": "code",
      "execution_count": 88,
      "metadata": {
        "colab": {
          "base_uri": "https://localhost:8080/",
          "height": 300
        },
        "id": "WFP_rHK_q7fM",
        "outputId": "5b5ede0e-3649-423f-dfc2-5a41ba72f18f"
      },
      "outputs": [
        {
          "output_type": "execute_result",
          "data": {
            "text/plain": [
              "<pandas.io.formats.style.Styler at 0x7ffa10728070>"
            ],
            "text/html": [
              "<style type=\"text/css\">\n",
              "</style>\n",
              "<table id=\"T_e29ec_\" class=\"dataframe\">\n",
              "  <thead>\n",
              "    <tr>\n",
              "      <th class=\"blank level0\" >&nbsp;</th>\n",
              "      <th class=\"col_heading level0 col0\" >Total Count</th>\n",
              "      <th class=\"col_heading level0 col1\" >Players Percentage</th>\n",
              "    </tr>\n",
              "  </thead>\n",
              "  <tbody>\n",
              "    <tr>\n",
              "      <th id=\"T_e29ec_level0_row0\" class=\"row_heading level0 row0\" ><10</th>\n",
              "      <td id=\"T_e29ec_row0_col0\" class=\"data row0 col0\" >17</td>\n",
              "      <td id=\"T_e29ec_row0_col1\" class=\"data row0 col1\" >2.95%</td>\n",
              "    </tr>\n",
              "    <tr>\n",
              "      <th id=\"T_e29ec_level0_row1\" class=\"row_heading level0 row1\" >10-14</th>\n",
              "      <td id=\"T_e29ec_row1_col0\" class=\"data row1 col0\" >22</td>\n",
              "      <td id=\"T_e29ec_row1_col1\" class=\"data row1 col1\" >3.82%</td>\n",
              "    </tr>\n",
              "    <tr>\n",
              "      <th id=\"T_e29ec_level0_row2\" class=\"row_heading level0 row2\" >15-19</th>\n",
              "      <td id=\"T_e29ec_row2_col0\" class=\"data row2 col0\" >107</td>\n",
              "      <td id=\"T_e29ec_row2_col1\" class=\"data row2 col1\" >18.58%</td>\n",
              "    </tr>\n",
              "    <tr>\n",
              "      <th id=\"T_e29ec_level0_row3\" class=\"row_heading level0 row3\" >20-24</th>\n",
              "      <td id=\"T_e29ec_row3_col0\" class=\"data row3 col0\" >258</td>\n",
              "      <td id=\"T_e29ec_row3_col1\" class=\"data row3 col1\" >44.79%</td>\n",
              "    </tr>\n",
              "    <tr>\n",
              "      <th id=\"T_e29ec_level0_row4\" class=\"row_heading level0 row4\" >25-29</th>\n",
              "      <td id=\"T_e29ec_row4_col0\" class=\"data row4 col0\" >77</td>\n",
              "      <td id=\"T_e29ec_row4_col1\" class=\"data row4 col1\" >13.37%</td>\n",
              "    </tr>\n",
              "    <tr>\n",
              "      <th id=\"T_e29ec_level0_row5\" class=\"row_heading level0 row5\" >30-34</th>\n",
              "      <td id=\"T_e29ec_row5_col0\" class=\"data row5 col0\" >52</td>\n",
              "      <td id=\"T_e29ec_row5_col1\" class=\"data row5 col1\" >9.03%</td>\n",
              "    </tr>\n",
              "    <tr>\n",
              "      <th id=\"T_e29ec_level0_row6\" class=\"row_heading level0 row6\" >35-39</th>\n",
              "      <td id=\"T_e29ec_row6_col0\" class=\"data row6 col0\" >31</td>\n",
              "      <td id=\"T_e29ec_row6_col1\" class=\"data row6 col1\" >5.38%</td>\n",
              "    </tr>\n",
              "    <tr>\n",
              "      <th id=\"T_e29ec_level0_row7\" class=\"row_heading level0 row7\" >40+</th>\n",
              "      <td id=\"T_e29ec_row7_col0\" class=\"data row7 col0\" >12</td>\n",
              "      <td id=\"T_e29ec_row7_col1\" class=\"data row7 col1\" >2.08%</td>\n",
              "    </tr>\n",
              "  </tbody>\n",
              "</table>\n"
            ]
          },
          "metadata": {},
          "execution_count": 88
        }
      ],
      "source": [
        "total_players = len(purchase_data['SN'].value_counts())\n",
        "\n",
        "age_bin = [0, 9.99, 14.99, 19.99, 24.99, 29.99, 34.99, 39.99, 1000]\n",
        "age_groups =['<10', '10-14', '15-19', '20-24', '25-29', '30-34', '35-39', '40+']\n",
        "purchase_data['Age Group'] = pd.cut(purchase_data['Age'], age_bin, labels=age_groups, include_lowest=True)\n",
        "agegroup_data_df = purchase_data.groupby('Age Group')\n",
        "count_player_agegroup = agegroup_data_df['SN'].nunique()\n",
        "percent_players_agegroup = count_player_agegroup / total_players * 100\n",
        "age_demographics_df = pd.DataFrame({'Total Count':count_player_agegroup,\n",
        "                       'Players Percentage':percent_players_agegroup})\n",
        "\n",
        "age_demographics_df.index.name = None\n",
        "age_demographics_df.style.format({'Players Percentage':'{:,.2f}%'})"
      ]
    },
    {
      "cell_type": "markdown",
      "metadata": {
        "id": "2YsfUbePq7fM"
      },
      "source": [
        "### Q8- Purchasing Analysis (Age)"
      ]
    },
    {
      "cell_type": "markdown",
      "metadata": {
        "id": "xebz91ZEq7fM"
      },
      "source": [
        "* Bin the purchase_data data frame by age\n",
        "\n",
        "\n",
        "* Run basic calculations to obtain purchase count, avg. purchase price, avg. purchase total per person etc. in the table below\n",
        "\n",
        "\n",
        "* Create a summary data frame to hold the results\n",
        "\n",
        "\n",
        "* Optional: give the displayed data cleaner formatting\n",
        "\n",
        "\n",
        "* Display the summary data frame"
      ]
    },
    {
      "cell_type": "code",
      "execution_count": 84,
      "metadata": {
        "colab": {
          "base_uri": "https://localhost:8080/",
          "height": 331
        },
        "id": "JJHNMqvQq7fM",
        "outputId": "7948836a-e8f8-405e-b691-3f270269526c"
      },
      "outputs": [
        {
          "output_type": "execute_result",
          "data": {
            "text/plain": [
              "<pandas.io.formats.style.Styler at 0x7ffa10a69040>"
            ],
            "text/html": [
              "<style type=\"text/css\">\n",
              "</style>\n",
              "<table id=\"T_6f3f6_\" class=\"dataframe\">\n",
              "  <thead>\n",
              "    <tr>\n",
              "      <th class=\"blank level0\" >&nbsp;</th>\n",
              "      <th class=\"col_heading level0 col0\" >Purchase Count</th>\n",
              "      <th class=\"col_heading level0 col1\" >Average Purchase Price</th>\n",
              "      <th class=\"col_heading level0 col2\" >Total Purchase Value</th>\n",
              "      <th class=\"col_heading level0 col3\" >Avg Total Purchase per Person</th>\n",
              "    </tr>\n",
              "    <tr>\n",
              "      <th class=\"index_name level0\" >Age Ranges</th>\n",
              "      <th class=\"blank col0\" >&nbsp;</th>\n",
              "      <th class=\"blank col1\" >&nbsp;</th>\n",
              "      <th class=\"blank col2\" >&nbsp;</th>\n",
              "      <th class=\"blank col3\" >&nbsp;</th>\n",
              "    </tr>\n",
              "  </thead>\n",
              "  <tbody>\n",
              "    <tr>\n",
              "      <th id=\"T_6f3f6_level0_row0\" class=\"row_heading level0 row0\" ><10</th>\n",
              "      <td id=\"T_6f3f6_row0_col0\" class=\"data row0 col0\" >23</td>\n",
              "      <td id=\"T_6f3f6_row0_col1\" class=\"data row0 col1\" >$3.35</td>\n",
              "      <td id=\"T_6f3f6_row0_col2\" class=\"data row0 col2\" >$77.13</td>\n",
              "      <td id=\"T_6f3f6_row0_col3\" class=\"data row0 col3\" >$4.54</td>\n",
              "    </tr>\n",
              "    <tr>\n",
              "      <th id=\"T_6f3f6_level0_row1\" class=\"row_heading level0 row1\" >10-14</th>\n",
              "      <td id=\"T_6f3f6_row1_col0\" class=\"data row1 col0\" >28</td>\n",
              "      <td id=\"T_6f3f6_row1_col1\" class=\"data row1 col1\" >$2.96</td>\n",
              "      <td id=\"T_6f3f6_row1_col2\" class=\"data row1 col2\" >$82.78</td>\n",
              "      <td id=\"T_6f3f6_row1_col3\" class=\"data row1 col3\" >$3.76</td>\n",
              "    </tr>\n",
              "    <tr>\n",
              "      <th id=\"T_6f3f6_level0_row2\" class=\"row_heading level0 row2\" >15-19</th>\n",
              "      <td id=\"T_6f3f6_row2_col0\" class=\"data row2 col0\" >136</td>\n",
              "      <td id=\"T_6f3f6_row2_col1\" class=\"data row2 col1\" >$3.04</td>\n",
              "      <td id=\"T_6f3f6_row2_col2\" class=\"data row2 col2\" >$412.89</td>\n",
              "      <td id=\"T_6f3f6_row2_col3\" class=\"data row2 col3\" >$3.86</td>\n",
              "    </tr>\n",
              "    <tr>\n",
              "      <th id=\"T_6f3f6_level0_row3\" class=\"row_heading level0 row3\" >20-24</th>\n",
              "      <td id=\"T_6f3f6_row3_col0\" class=\"data row3 col0\" >365</td>\n",
              "      <td id=\"T_6f3f6_row3_col1\" class=\"data row3 col1\" >$3.05</td>\n",
              "      <td id=\"T_6f3f6_row3_col2\" class=\"data row3 col2\" >$1,114.06</td>\n",
              "      <td id=\"T_6f3f6_row3_col3\" class=\"data row3 col3\" >$4.32</td>\n",
              "    </tr>\n",
              "    <tr>\n",
              "      <th id=\"T_6f3f6_level0_row4\" class=\"row_heading level0 row4\" >25-29</th>\n",
              "      <td id=\"T_6f3f6_row4_col0\" class=\"data row4 col0\" >101</td>\n",
              "      <td id=\"T_6f3f6_row4_col1\" class=\"data row4 col1\" >$2.90</td>\n",
              "      <td id=\"T_6f3f6_row4_col2\" class=\"data row4 col2\" >$293.00</td>\n",
              "      <td id=\"T_6f3f6_row4_col3\" class=\"data row4 col3\" >$3.81</td>\n",
              "    </tr>\n",
              "    <tr>\n",
              "      <th id=\"T_6f3f6_level0_row5\" class=\"row_heading level0 row5\" >30-34</th>\n",
              "      <td id=\"T_6f3f6_row5_col0\" class=\"data row5 col0\" >73</td>\n",
              "      <td id=\"T_6f3f6_row5_col1\" class=\"data row5 col1\" >$2.93</td>\n",
              "      <td id=\"T_6f3f6_row5_col2\" class=\"data row5 col2\" >$214.00</td>\n",
              "      <td id=\"T_6f3f6_row5_col3\" class=\"data row5 col3\" >$4.12</td>\n",
              "    </tr>\n",
              "    <tr>\n",
              "      <th id=\"T_6f3f6_level0_row6\" class=\"row_heading level0 row6\" >35-39</th>\n",
              "      <td id=\"T_6f3f6_row6_col0\" class=\"data row6 col0\" >41</td>\n",
              "      <td id=\"T_6f3f6_row6_col1\" class=\"data row6 col1\" >$3.60</td>\n",
              "      <td id=\"T_6f3f6_row6_col2\" class=\"data row6 col2\" >$147.67</td>\n",
              "      <td id=\"T_6f3f6_row6_col3\" class=\"data row6 col3\" >$4.76</td>\n",
              "    </tr>\n",
              "    <tr>\n",
              "      <th id=\"T_6f3f6_level0_row7\" class=\"row_heading level0 row7\" >40+</th>\n",
              "      <td id=\"T_6f3f6_row7_col0\" class=\"data row7 col0\" >13</td>\n",
              "      <td id=\"T_6f3f6_row7_col1\" class=\"data row7 col1\" >$2.94</td>\n",
              "      <td id=\"T_6f3f6_row7_col2\" class=\"data row7 col2\" >$38.24</td>\n",
              "      <td id=\"T_6f3f6_row7_col3\" class=\"data row7 col3\" >$3.19</td>\n",
              "    </tr>\n",
              "  </tbody>\n",
              "</table>\n"
            ]
          },
          "metadata": {},
          "execution_count": 84
        }
      ],
      "source": [
        "count_agegroup = agegroup_data_df['SN'].count()\n",
        "avg_price_agegroup = agegroup_data_df['Price'].mean()\n",
        "purchase_agegroup = agegroup_data_df['Price'].sum()\n",
        "person_agegroup= purchase_agegroup / count_player_agegroup\n",
        "analysis_agegroup = pd.DataFrame({'Purchase Count':count_agegroup,'Average Purchase Price':avg_price_agegroup,'Total Purchase Value':purchase_agegroup,'Avg Total Purchase per Person':person_agegroup})\n",
        "analysis_agegroup.index.name = 'Age Ranges'\n",
        "analysis_agegroup.style.format({'Average Purchase Price':'${:,.2f}','Total Purchase Value':'${:,.2f}','Avg Total Purchase per Person':'${:,.2f}'})"
      ]
    },
    {
      "cell_type": "markdown",
      "metadata": {
        "id": "FBWvtsn_q7fN"
      },
      "source": [
        "### Q9-Top Spenders"
      ]
    },
    {
      "cell_type": "markdown",
      "metadata": {
        "id": "oXFwX1JIq7fN"
      },
      "source": [
        "* Run basic calculations to obtain the results in the table below\n",
        "\n",
        "\n",
        "* Create a summary data frame to hold the results\n",
        "\n",
        "\n",
        "* Sort the total purchase value column in descending order\n",
        "\n",
        "\n",
        "* Optional: give the displayed data cleaner formatting\n",
        "\n",
        "\n",
        "* Display a preview of the summary data frame\n",
        "\n"
      ]
    },
    {
      "cell_type": "code",
      "execution_count": 85,
      "metadata": {
        "colab": {
          "base_uri": "https://localhost:8080/",
          "height": 237
        },
        "id": "EoZAFxM6q7fN",
        "outputId": "6d05a714-fd2c-44ea-b6ca-81b0023ff566"
      },
      "outputs": [
        {
          "output_type": "execute_result",
          "data": {
            "text/plain": [
              "<pandas.io.formats.style.Styler at 0x7ffa1076a9a0>"
            ],
            "text/html": [
              "<style type=\"text/css\">\n",
              "</style>\n",
              "<table id=\"T_ac0d1_\" class=\"dataframe\">\n",
              "  <thead>\n",
              "    <tr>\n",
              "      <th class=\"blank level0\" >&nbsp;</th>\n",
              "      <th class=\"col_heading level0 col0\" >Purchase Count</th>\n",
              "      <th class=\"col_heading level0 col1\" >Average Purchase Price</th>\n",
              "      <th class=\"col_heading level0 col2\" >Total Purchase Value</th>\n",
              "    </tr>\n",
              "    <tr>\n",
              "      <th class=\"index_name level0\" >SN</th>\n",
              "      <th class=\"blank col0\" >&nbsp;</th>\n",
              "      <th class=\"blank col1\" >&nbsp;</th>\n",
              "      <th class=\"blank col2\" >&nbsp;</th>\n",
              "    </tr>\n",
              "  </thead>\n",
              "  <tbody>\n",
              "    <tr>\n",
              "      <th id=\"T_ac0d1_level0_row0\" class=\"row_heading level0 row0\" >Lisosia93</th>\n",
              "      <td id=\"T_ac0d1_row0_col0\" class=\"data row0 col0\" >5</td>\n",
              "      <td id=\"T_ac0d1_row0_col1\" class=\"data row0 col1\" >$3.79</td>\n",
              "      <td id=\"T_ac0d1_row0_col2\" class=\"data row0 col2\" >$18.96</td>\n",
              "    </tr>\n",
              "    <tr>\n",
              "      <th id=\"T_ac0d1_level0_row1\" class=\"row_heading level0 row1\" >Idastidru52</th>\n",
              "      <td id=\"T_ac0d1_row1_col0\" class=\"data row1 col0\" >4</td>\n",
              "      <td id=\"T_ac0d1_row1_col1\" class=\"data row1 col1\" >$3.86</td>\n",
              "      <td id=\"T_ac0d1_row1_col2\" class=\"data row1 col2\" >$15.45</td>\n",
              "    </tr>\n",
              "    <tr>\n",
              "      <th id=\"T_ac0d1_level0_row2\" class=\"row_heading level0 row2\" >Chamjask73</th>\n",
              "      <td id=\"T_ac0d1_row2_col0\" class=\"data row2 col0\" >3</td>\n",
              "      <td id=\"T_ac0d1_row2_col1\" class=\"data row2 col1\" >$4.61</td>\n",
              "      <td id=\"T_ac0d1_row2_col2\" class=\"data row2 col2\" >$13.83</td>\n",
              "    </tr>\n",
              "    <tr>\n",
              "      <th id=\"T_ac0d1_level0_row3\" class=\"row_heading level0 row3\" >Iral74</th>\n",
              "      <td id=\"T_ac0d1_row3_col0\" class=\"data row3 col0\" >4</td>\n",
              "      <td id=\"T_ac0d1_row3_col1\" class=\"data row3 col1\" >$3.41</td>\n",
              "      <td id=\"T_ac0d1_row3_col2\" class=\"data row3 col2\" >$13.62</td>\n",
              "    </tr>\n",
              "    <tr>\n",
              "      <th id=\"T_ac0d1_level0_row4\" class=\"row_heading level0 row4\" >Iskadarya95</th>\n",
              "      <td id=\"T_ac0d1_row4_col0\" class=\"data row4 col0\" >3</td>\n",
              "      <td id=\"T_ac0d1_row4_col1\" class=\"data row4 col1\" >$4.37</td>\n",
              "      <td id=\"T_ac0d1_row4_col2\" class=\"data row4 col2\" >$13.10</td>\n",
              "    </tr>\n",
              "  </tbody>\n",
              "</table>\n"
            ]
          },
          "metadata": {},
          "execution_count": 85
        }
      ],
      "source": [
        "spend_data_df = purchase_data.groupby('SN')\n",
        "count_spender = spend_data_df['Purchase ID'].count()\n",
        "avg_spend_spender = spend_data_df['Price'].mean()\n",
        "total_spend_sn = spend_data_df['Price'].sum()\n",
        "spender_analysis = pd.DataFrame({'Purchase Count':count_spender,'Average Purchase Price':avg_spend_spender,'Total Purchase Value':total_spend_sn,})\n",
        "spender_analysis.sort_values('Total Purchase Value', ascending=False).head().style.format({'Average Purchase Price':'${:,.2f}', 'Total Purchase Value':'${:,.2f}',})"
      ]
    },
    {
      "cell_type": "markdown",
      "metadata": {
        "id": "9-wyatDoq7fN"
      },
      "source": [
        "### Q10-Most Popular Items"
      ]
    },
    {
      "cell_type": "markdown",
      "metadata": {
        "id": "vrZ1mYzXq7fN"
      },
      "source": [
        "* Retrieve the Item ID, Item Name, and Item Price columns\n",
        "\n",
        "\n",
        "* Group by Item ID and Item Name. Perform calculations to obtain purchase count, item price, and total purchase value\n",
        "\n",
        "\n",
        "* Create a summary data frame to hold the results\n",
        "\n",
        "\n",
        "* Sort the purchase count column in descending order\n",
        "\n",
        "\n",
        "* Optional: give the displayed data cleaner formatting\n",
        "\n",
        "\n",
        "* Display a preview of the summary data frame\n",
        "\n"
      ]
    },
    {
      "cell_type": "code",
      "execution_count": 86,
      "metadata": {
        "colab": {
          "base_uri": "https://localhost:8080/",
          "height": 237
        },
        "id": "mb5l2ImTq7fO",
        "outputId": "4478df46-e1a1-4952-e07d-6c1d78091d6d"
      },
      "outputs": [
        {
          "output_type": "execute_result",
          "data": {
            "text/plain": [
              "<pandas.io.formats.style.Styler at 0x7ffa1070fdc0>"
            ],
            "text/html": [
              "<style type=\"text/css\">\n",
              "</style>\n",
              "<table id=\"T_b8213_\" class=\"dataframe\">\n",
              "  <thead>\n",
              "    <tr>\n",
              "      <th class=\"blank\" >&nbsp;</th>\n",
              "      <th class=\"blank level0\" >&nbsp;</th>\n",
              "      <th class=\"col_heading level0 col0\" >Purchase Count</th>\n",
              "      <th class=\"col_heading level0 col1\" >Item Price</th>\n",
              "      <th class=\"col_heading level0 col2\" >Total Purchase Value</th>\n",
              "    </tr>\n",
              "    <tr>\n",
              "      <th class=\"index_name level0\" >Item ID</th>\n",
              "      <th class=\"index_name level1\" >Item Name</th>\n",
              "      <th class=\"blank col0\" >&nbsp;</th>\n",
              "      <th class=\"blank col1\" >&nbsp;</th>\n",
              "      <th class=\"blank col2\" >&nbsp;</th>\n",
              "    </tr>\n",
              "  </thead>\n",
              "  <tbody>\n",
              "    <tr>\n",
              "      <th id=\"T_b8213_level0_row0\" class=\"row_heading level0 row0\" >178</th>\n",
              "      <th id=\"T_b8213_level1_row0\" class=\"row_heading level1 row0\" >Oathbreaker, Last Hope of the Breaking Storm</th>\n",
              "      <td id=\"T_b8213_row0_col0\" class=\"data row0 col0\" >12</td>\n",
              "      <td id=\"T_b8213_row0_col1\" class=\"data row0 col1\" >$4.23</td>\n",
              "      <td id=\"T_b8213_row0_col2\" class=\"data row0 col2\" >$50.76</td>\n",
              "    </tr>\n",
              "    <tr>\n",
              "      <th id=\"T_b8213_level0_row1\" class=\"row_heading level0 row1\" >145</th>\n",
              "      <th id=\"T_b8213_level1_row1\" class=\"row_heading level1 row1\" >Fiery Glass Crusader</th>\n",
              "      <td id=\"T_b8213_row1_col0\" class=\"data row1 col0\" >9</td>\n",
              "      <td id=\"T_b8213_row1_col1\" class=\"data row1 col1\" >$4.58</td>\n",
              "      <td id=\"T_b8213_row1_col2\" class=\"data row1 col2\" >$41.22</td>\n",
              "    </tr>\n",
              "    <tr>\n",
              "      <th id=\"T_b8213_level0_row2\" class=\"row_heading level0 row2\" >108</th>\n",
              "      <th id=\"T_b8213_level1_row2\" class=\"row_heading level1 row2\" >Extraction, Quickblade Of Trembling Hands</th>\n",
              "      <td id=\"T_b8213_row2_col0\" class=\"data row2 col0\" >9</td>\n",
              "      <td id=\"T_b8213_row2_col1\" class=\"data row2 col1\" >$3.53</td>\n",
              "      <td id=\"T_b8213_row2_col2\" class=\"data row2 col2\" >$31.77</td>\n",
              "    </tr>\n",
              "    <tr>\n",
              "      <th id=\"T_b8213_level0_row3\" class=\"row_heading level0 row3\" >82</th>\n",
              "      <th id=\"T_b8213_level1_row3\" class=\"row_heading level1 row3\" >Nirvana</th>\n",
              "      <td id=\"T_b8213_row3_col0\" class=\"data row3 col0\" >9</td>\n",
              "      <td id=\"T_b8213_row3_col1\" class=\"data row3 col1\" >$4.90</td>\n",
              "      <td id=\"T_b8213_row3_col2\" class=\"data row3 col2\" >$44.10</td>\n",
              "    </tr>\n",
              "    <tr>\n",
              "      <th id=\"T_b8213_level0_row4\" class=\"row_heading level0 row4\" >19</th>\n",
              "      <th id=\"T_b8213_level1_row4\" class=\"row_heading level1 row4\" >Pursuit, Cudgel of Necromancy</th>\n",
              "      <td id=\"T_b8213_row4_col0\" class=\"data row4 col0\" >8</td>\n",
              "      <td id=\"T_b8213_row4_col1\" class=\"data row4 col1\" >$1.02</td>\n",
              "      <td id=\"T_b8213_row4_col2\" class=\"data row4 col2\" >$8.16</td>\n",
              "    </tr>\n",
              "  </tbody>\n",
              "</table>\n"
            ]
          },
          "metadata": {},
          "execution_count": 86
        }
      ],
      "source": [
        "items_df = purchase_data[['Item ID', 'Item Name', 'Price']]\n",
        "idName_df = items_df.groupby(['Item ID', 'Item Name'])\n",
        "count_purchase = idName_df['Item ID'].count()\n",
        "total_purchase = idName_df['Price'].sum()\n",
        "item_price = total_purchase / count_purchase\n",
        "item_analysis = pd.DataFrame({'Purchase Count':count_purchase,'Item Price':item_price,'Total Purchase Value':total_purchase})\n",
        "item_analysis.sort_values('Purchase Count', ascending=False).head().style.format({'Item Price':'${:,.2f}', 'Total Purchase Value':'${:,.2f}',})"
      ]
    },
    {
      "cell_type": "markdown",
      "metadata": {
        "id": "MDvf-3wQq7fO"
      },
      "source": [
        "### Q11-Most Profitable Items"
      ]
    },
    {
      "cell_type": "markdown",
      "metadata": {
        "id": "rxIrtvGTq7fO"
      },
      "source": [
        "* Sort the above table by total purchase value in descending order\n",
        "\n",
        "\n",
        "* Optional: give the displayed data cleaner formatting\n",
        "\n",
        "\n",
        "* Display a preview of the data frame\n",
        "\n"
      ]
    },
    {
      "cell_type": "code",
      "execution_count": 87,
      "metadata": {
        "scrolled": true,
        "colab": {
          "base_uri": "https://localhost:8080/",
          "height": 237
        },
        "id": "9_jHV7vLq7fO",
        "outputId": "578e7c97-afed-448d-935e-e6e5f6665e69"
      },
      "outputs": [
        {
          "output_type": "execute_result",
          "data": {
            "text/plain": [
              "<pandas.io.formats.style.Styler at 0x7ffa136ec910>"
            ],
            "text/html": [
              "<style type=\"text/css\">\n",
              "</style>\n",
              "<table id=\"T_63f26_\" class=\"dataframe\">\n",
              "  <thead>\n",
              "    <tr>\n",
              "      <th class=\"blank\" >&nbsp;</th>\n",
              "      <th class=\"blank level0\" >&nbsp;</th>\n",
              "      <th class=\"col_heading level0 col0\" >Purchase Count</th>\n",
              "      <th class=\"col_heading level0 col1\" >Item Price</th>\n",
              "      <th class=\"col_heading level0 col2\" >Total Purchase Value</th>\n",
              "    </tr>\n",
              "    <tr>\n",
              "      <th class=\"index_name level0\" >Item ID</th>\n",
              "      <th class=\"index_name level1\" >Item Name</th>\n",
              "      <th class=\"blank col0\" >&nbsp;</th>\n",
              "      <th class=\"blank col1\" >&nbsp;</th>\n",
              "      <th class=\"blank col2\" >&nbsp;</th>\n",
              "    </tr>\n",
              "  </thead>\n",
              "  <tbody>\n",
              "    <tr>\n",
              "      <th id=\"T_63f26_level0_row0\" class=\"row_heading level0 row0\" >178</th>\n",
              "      <th id=\"T_63f26_level1_row0\" class=\"row_heading level1 row0\" >Oathbreaker, Last Hope of the Breaking Storm</th>\n",
              "      <td id=\"T_63f26_row0_col0\" class=\"data row0 col0\" >12</td>\n",
              "      <td id=\"T_63f26_row0_col1\" class=\"data row0 col1\" >$4.23</td>\n",
              "      <td id=\"T_63f26_row0_col2\" class=\"data row0 col2\" >$50.76</td>\n",
              "    </tr>\n",
              "    <tr>\n",
              "      <th id=\"T_63f26_level0_row1\" class=\"row_heading level0 row1\" >82</th>\n",
              "      <th id=\"T_63f26_level1_row1\" class=\"row_heading level1 row1\" >Nirvana</th>\n",
              "      <td id=\"T_63f26_row1_col0\" class=\"data row1 col0\" >9</td>\n",
              "      <td id=\"T_63f26_row1_col1\" class=\"data row1 col1\" >$4.90</td>\n",
              "      <td id=\"T_63f26_row1_col2\" class=\"data row1 col2\" >$44.10</td>\n",
              "    </tr>\n",
              "    <tr>\n",
              "      <th id=\"T_63f26_level0_row2\" class=\"row_heading level0 row2\" >145</th>\n",
              "      <th id=\"T_63f26_level1_row2\" class=\"row_heading level1 row2\" >Fiery Glass Crusader</th>\n",
              "      <td id=\"T_63f26_row2_col0\" class=\"data row2 col0\" >9</td>\n",
              "      <td id=\"T_63f26_row2_col1\" class=\"data row2 col1\" >$4.58</td>\n",
              "      <td id=\"T_63f26_row2_col2\" class=\"data row2 col2\" >$41.22</td>\n",
              "    </tr>\n",
              "    <tr>\n",
              "      <th id=\"T_63f26_level0_row3\" class=\"row_heading level0 row3\" >92</th>\n",
              "      <th id=\"T_63f26_level1_row3\" class=\"row_heading level1 row3\" >Final Critic</th>\n",
              "      <td id=\"T_63f26_row3_col0\" class=\"data row3 col0\" >8</td>\n",
              "      <td id=\"T_63f26_row3_col1\" class=\"data row3 col1\" >$4.88</td>\n",
              "      <td id=\"T_63f26_row3_col2\" class=\"data row3 col2\" >$39.04</td>\n",
              "    </tr>\n",
              "    <tr>\n",
              "      <th id=\"T_63f26_level0_row4\" class=\"row_heading level0 row4\" >103</th>\n",
              "      <th id=\"T_63f26_level1_row4\" class=\"row_heading level1 row4\" >Singed Scalpel</th>\n",
              "      <td id=\"T_63f26_row4_col0\" class=\"data row4 col0\" >8</td>\n",
              "      <td id=\"T_63f26_row4_col1\" class=\"data row4 col1\" >$4.35</td>\n",
              "      <td id=\"T_63f26_row4_col2\" class=\"data row4 col2\" >$34.80</td>\n",
              "    </tr>\n",
              "  </tbody>\n",
              "</table>\n"
            ]
          },
          "metadata": {},
          "execution_count": 87
        }
      ],
      "source": [
        "item_analysis.sort_values('Total Purchase Value', ascending=False).head().style.format({'Item Price':'${:,.2f}', 'Total Purchase Value':'${:,.2f}',})"
      ]
    },
    {
      "cell_type": "markdown",
      "metadata": {
        "id": "wTeMlObhq7fO"
      },
      "source": [
        "# Section 2"
      ]
    },
    {
      "cell_type": "markdown",
      "metadata": {
        "id": "AqazdG6Zq7fO"
      },
      "source": [
        "#### Q12: Import the covid-19 dataset provided and set the state as the index of the dataframe."
      ]
    },
    {
      "cell_type": "code",
      "execution_count": 49,
      "metadata": {
        "colab": {
          "base_uri": "https://localhost:8080/",
          "height": 237
        },
        "id": "GEtMOyXoq7fP",
        "outputId": "3e4a492a-fc76-4840-f1fb-ff790dea94d7"
      },
      "outputs": [
        {
          "output_type": "execute_result",
          "data": {
            "text/plain": [
              "       death  hospitalized  negative  pending  positive  recovered    total\n",
              "state                                                                      \n",
              "WY        50         272.0     95212      NaN      5948     4791.0   101160\n",
              "NE       478        2315.0    410594      NaN     45044    33198.0   455638\n",
              "ND       191         859.0    219646      NaN     21846    17938.0   241492\n",
              "NC      3532           NaN   2824239      NaN    210632   184422.0  3034871\n",
              "MT       180         717.0    330087      NaN     13071     9256.0   343158"
            ],
            "text/html": [
              "\n",
              "  <div id=\"df-ddbb560e-ae49-49c4-9cf8-8c00a2951d39\">\n",
              "    <div class=\"colab-df-container\">\n",
              "      <div>\n",
              "<style scoped>\n",
              "    .dataframe tbody tr th:only-of-type {\n",
              "        vertical-align: middle;\n",
              "    }\n",
              "\n",
              "    .dataframe tbody tr th {\n",
              "        vertical-align: top;\n",
              "    }\n",
              "\n",
              "    .dataframe thead th {\n",
              "        text-align: right;\n",
              "    }\n",
              "</style>\n",
              "<table border=\"1\" class=\"dataframe\">\n",
              "  <thead>\n",
              "    <tr style=\"text-align: right;\">\n",
              "      <th></th>\n",
              "      <th>death</th>\n",
              "      <th>hospitalized</th>\n",
              "      <th>negative</th>\n",
              "      <th>pending</th>\n",
              "      <th>positive</th>\n",
              "      <th>recovered</th>\n",
              "      <th>total</th>\n",
              "    </tr>\n",
              "    <tr>\n",
              "      <th>state</th>\n",
              "      <th></th>\n",
              "      <th></th>\n",
              "      <th></th>\n",
              "      <th></th>\n",
              "      <th></th>\n",
              "      <th></th>\n",
              "      <th></th>\n",
              "    </tr>\n",
              "  </thead>\n",
              "  <tbody>\n",
              "    <tr>\n",
              "      <th>WY</th>\n",
              "      <td>50</td>\n",
              "      <td>272.0</td>\n",
              "      <td>95212</td>\n",
              "      <td>NaN</td>\n",
              "      <td>5948</td>\n",
              "      <td>4791.0</td>\n",
              "      <td>101160</td>\n",
              "    </tr>\n",
              "    <tr>\n",
              "      <th>NE</th>\n",
              "      <td>478</td>\n",
              "      <td>2315.0</td>\n",
              "      <td>410594</td>\n",
              "      <td>NaN</td>\n",
              "      <td>45044</td>\n",
              "      <td>33198.0</td>\n",
              "      <td>455638</td>\n",
              "    </tr>\n",
              "    <tr>\n",
              "      <th>ND</th>\n",
              "      <td>191</td>\n",
              "      <td>859.0</td>\n",
              "      <td>219646</td>\n",
              "      <td>NaN</td>\n",
              "      <td>21846</td>\n",
              "      <td>17938.0</td>\n",
              "      <td>241492</td>\n",
              "    </tr>\n",
              "    <tr>\n",
              "      <th>NC</th>\n",
              "      <td>3532</td>\n",
              "      <td>NaN</td>\n",
              "      <td>2824239</td>\n",
              "      <td>NaN</td>\n",
              "      <td>210632</td>\n",
              "      <td>184422.0</td>\n",
              "      <td>3034871</td>\n",
              "    </tr>\n",
              "    <tr>\n",
              "      <th>MT</th>\n",
              "      <td>180</td>\n",
              "      <td>717.0</td>\n",
              "      <td>330087</td>\n",
              "      <td>NaN</td>\n",
              "      <td>13071</td>\n",
              "      <td>9256.0</td>\n",
              "      <td>343158</td>\n",
              "    </tr>\n",
              "  </tbody>\n",
              "</table>\n",
              "</div>\n",
              "      <button class=\"colab-df-convert\" onclick=\"convertToInteractive('df-ddbb560e-ae49-49c4-9cf8-8c00a2951d39')\"\n",
              "              title=\"Convert this dataframe to an interactive table.\"\n",
              "              style=\"display:none;\">\n",
              "        \n",
              "  <svg xmlns=\"http://www.w3.org/2000/svg\" height=\"24px\"viewBox=\"0 0 24 24\"\n",
              "       width=\"24px\">\n",
              "    <path d=\"M0 0h24v24H0V0z\" fill=\"none\"/>\n",
              "    <path d=\"M18.56 5.44l.94 2.06.94-2.06 2.06-.94-2.06-.94-.94-2.06-.94 2.06-2.06.94zm-11 1L8.5 8.5l.94-2.06 2.06-.94-2.06-.94L8.5 2.5l-.94 2.06-2.06.94zm10 10l.94 2.06.94-2.06 2.06-.94-2.06-.94-.94-2.06-.94 2.06-2.06.94z\"/><path d=\"M17.41 7.96l-1.37-1.37c-.4-.4-.92-.59-1.43-.59-.52 0-1.04.2-1.43.59L10.3 9.45l-7.72 7.72c-.78.78-.78 2.05 0 2.83L4 21.41c.39.39.9.59 1.41.59.51 0 1.02-.2 1.41-.59l7.78-7.78 2.81-2.81c.8-.78.8-2.07 0-2.86zM5.41 20L4 18.59l7.72-7.72 1.47 1.35L5.41 20z\"/>\n",
              "  </svg>\n",
              "      </button>\n",
              "      \n",
              "  <style>\n",
              "    .colab-df-container {\n",
              "      display:flex;\n",
              "      flex-wrap:wrap;\n",
              "      gap: 12px;\n",
              "    }\n",
              "\n",
              "    .colab-df-convert {\n",
              "      background-color: #E8F0FE;\n",
              "      border: none;\n",
              "      border-radius: 50%;\n",
              "      cursor: pointer;\n",
              "      display: none;\n",
              "      fill: #1967D2;\n",
              "      height: 32px;\n",
              "      padding: 0 0 0 0;\n",
              "      width: 32px;\n",
              "    }\n",
              "\n",
              "    .colab-df-convert:hover {\n",
              "      background-color: #E2EBFA;\n",
              "      box-shadow: 0px 1px 2px rgba(60, 64, 67, 0.3), 0px 1px 3px 1px rgba(60, 64, 67, 0.15);\n",
              "      fill: #174EA6;\n",
              "    }\n",
              "\n",
              "    [theme=dark] .colab-df-convert {\n",
              "      background-color: #3B4455;\n",
              "      fill: #D2E3FC;\n",
              "    }\n",
              "\n",
              "    [theme=dark] .colab-df-convert:hover {\n",
              "      background-color: #434B5C;\n",
              "      box-shadow: 0px 1px 3px 1px rgba(0, 0, 0, 0.15);\n",
              "      filter: drop-shadow(0px 1px 2px rgba(0, 0, 0, 0.3));\n",
              "      fill: #FFFFFF;\n",
              "    }\n",
              "  </style>\n",
              "\n",
              "      <script>\n",
              "        const buttonEl =\n",
              "          document.querySelector('#df-ddbb560e-ae49-49c4-9cf8-8c00a2951d39 button.colab-df-convert');\n",
              "        buttonEl.style.display =\n",
              "          google.colab.kernel.accessAllowed ? 'block' : 'none';\n",
              "\n",
              "        async function convertToInteractive(key) {\n",
              "          const element = document.querySelector('#df-ddbb560e-ae49-49c4-9cf8-8c00a2951d39');\n",
              "          const dataTable =\n",
              "            await google.colab.kernel.invokeFunction('convertToInteractive',\n",
              "                                                     [key], {});\n",
              "          if (!dataTable) return;\n",
              "\n",
              "          const docLinkHtml = 'Like what you see? Visit the ' +\n",
              "            '<a target=\"_blank\" href=https://colab.research.google.com/notebooks/data_table.ipynb>data table notebook</a>'\n",
              "            + ' to learn more about interactive tables.';\n",
              "          element.innerHTML = '';\n",
              "          dataTable['output_type'] = 'display_data';\n",
              "          await google.colab.output.renderOutput(dataTable, element);\n",
              "          const docLink = document.createElement('div');\n",
              "          docLink.innerHTML = docLinkHtml;\n",
              "          element.appendChild(docLink);\n",
              "        }\n",
              "      </script>\n",
              "    </div>\n",
              "  </div>\n",
              "  "
            ]
          },
          "metadata": {},
          "execution_count": 49
        }
      ],
      "source": [
        "#importing the covid-19 dataset\n",
        "df_Covid = pd.read_csv('us_states_covid19_daily.csv')\n",
        "covid_df=df_Covid\n",
        "df_Covid=df_Covid.set_index('state')\n",
        "df_Covid.head()\n"
      ]
    },
    {
      "cell_type": "markdown",
      "metadata": {
        "id": "zwzN9lc5q7fP"
      },
      "source": [
        "#### Q13: Replace all the NaN values in 'pending' column with the string 'None'."
      ]
    },
    {
      "cell_type": "code",
      "execution_count": 50,
      "metadata": {
        "colab": {
          "base_uri": "https://localhost:8080/",
          "height": 237
        },
        "id": "4JjBsBZRq7fP",
        "outputId": "eb2df0aa-a7b0-4ced-aa0c-cc7a62fde1c4"
      },
      "outputs": [
        {
          "output_type": "execute_result",
          "data": {
            "text/plain": [
              "       death  hospitalized  negative pending  positive  recovered    total\n",
              "state                                                                     \n",
              "WY        50         272.0     95212    None      5948     4791.0   101160\n",
              "NE       478        2315.0    410594    None     45044    33198.0   455638\n",
              "ND       191         859.0    219646    None     21846    17938.0   241492\n",
              "NC      3532           NaN   2824239    None    210632   184422.0  3034871\n",
              "MT       180         717.0    330087    None     13071     9256.0   343158"
            ],
            "text/html": [
              "\n",
              "  <div id=\"df-7aa74572-2d09-4a9f-8fdc-6a340cf66a95\">\n",
              "    <div class=\"colab-df-container\">\n",
              "      <div>\n",
              "<style scoped>\n",
              "    .dataframe tbody tr th:only-of-type {\n",
              "        vertical-align: middle;\n",
              "    }\n",
              "\n",
              "    .dataframe tbody tr th {\n",
              "        vertical-align: top;\n",
              "    }\n",
              "\n",
              "    .dataframe thead th {\n",
              "        text-align: right;\n",
              "    }\n",
              "</style>\n",
              "<table border=\"1\" class=\"dataframe\">\n",
              "  <thead>\n",
              "    <tr style=\"text-align: right;\">\n",
              "      <th></th>\n",
              "      <th>death</th>\n",
              "      <th>hospitalized</th>\n",
              "      <th>negative</th>\n",
              "      <th>pending</th>\n",
              "      <th>positive</th>\n",
              "      <th>recovered</th>\n",
              "      <th>total</th>\n",
              "    </tr>\n",
              "    <tr>\n",
              "      <th>state</th>\n",
              "      <th></th>\n",
              "      <th></th>\n",
              "      <th></th>\n",
              "      <th></th>\n",
              "      <th></th>\n",
              "      <th></th>\n",
              "      <th></th>\n",
              "    </tr>\n",
              "  </thead>\n",
              "  <tbody>\n",
              "    <tr>\n",
              "      <th>WY</th>\n",
              "      <td>50</td>\n",
              "      <td>272.0</td>\n",
              "      <td>95212</td>\n",
              "      <td>None</td>\n",
              "      <td>5948</td>\n",
              "      <td>4791.0</td>\n",
              "      <td>101160</td>\n",
              "    </tr>\n",
              "    <tr>\n",
              "      <th>NE</th>\n",
              "      <td>478</td>\n",
              "      <td>2315.0</td>\n",
              "      <td>410594</td>\n",
              "      <td>None</td>\n",
              "      <td>45044</td>\n",
              "      <td>33198.0</td>\n",
              "      <td>455638</td>\n",
              "    </tr>\n",
              "    <tr>\n",
              "      <th>ND</th>\n",
              "      <td>191</td>\n",
              "      <td>859.0</td>\n",
              "      <td>219646</td>\n",
              "      <td>None</td>\n",
              "      <td>21846</td>\n",
              "      <td>17938.0</td>\n",
              "      <td>241492</td>\n",
              "    </tr>\n",
              "    <tr>\n",
              "      <th>NC</th>\n",
              "      <td>3532</td>\n",
              "      <td>NaN</td>\n",
              "      <td>2824239</td>\n",
              "      <td>None</td>\n",
              "      <td>210632</td>\n",
              "      <td>184422.0</td>\n",
              "      <td>3034871</td>\n",
              "    </tr>\n",
              "    <tr>\n",
              "      <th>MT</th>\n",
              "      <td>180</td>\n",
              "      <td>717.0</td>\n",
              "      <td>330087</td>\n",
              "      <td>None</td>\n",
              "      <td>13071</td>\n",
              "      <td>9256.0</td>\n",
              "      <td>343158</td>\n",
              "    </tr>\n",
              "  </tbody>\n",
              "</table>\n",
              "</div>\n",
              "      <button class=\"colab-df-convert\" onclick=\"convertToInteractive('df-7aa74572-2d09-4a9f-8fdc-6a340cf66a95')\"\n",
              "              title=\"Convert this dataframe to an interactive table.\"\n",
              "              style=\"display:none;\">\n",
              "        \n",
              "  <svg xmlns=\"http://www.w3.org/2000/svg\" height=\"24px\"viewBox=\"0 0 24 24\"\n",
              "       width=\"24px\">\n",
              "    <path d=\"M0 0h24v24H0V0z\" fill=\"none\"/>\n",
              "    <path d=\"M18.56 5.44l.94 2.06.94-2.06 2.06-.94-2.06-.94-.94-2.06-.94 2.06-2.06.94zm-11 1L8.5 8.5l.94-2.06 2.06-.94-2.06-.94L8.5 2.5l-.94 2.06-2.06.94zm10 10l.94 2.06.94-2.06 2.06-.94-2.06-.94-.94-2.06-.94 2.06-2.06.94z\"/><path d=\"M17.41 7.96l-1.37-1.37c-.4-.4-.92-.59-1.43-.59-.52 0-1.04.2-1.43.59L10.3 9.45l-7.72 7.72c-.78.78-.78 2.05 0 2.83L4 21.41c.39.39.9.59 1.41.59.51 0 1.02-.2 1.41-.59l7.78-7.78 2.81-2.81c.8-.78.8-2.07 0-2.86zM5.41 20L4 18.59l7.72-7.72 1.47 1.35L5.41 20z\"/>\n",
              "  </svg>\n",
              "      </button>\n",
              "      \n",
              "  <style>\n",
              "    .colab-df-container {\n",
              "      display:flex;\n",
              "      flex-wrap:wrap;\n",
              "      gap: 12px;\n",
              "    }\n",
              "\n",
              "    .colab-df-convert {\n",
              "      background-color: #E8F0FE;\n",
              "      border: none;\n",
              "      border-radius: 50%;\n",
              "      cursor: pointer;\n",
              "      display: none;\n",
              "      fill: #1967D2;\n",
              "      height: 32px;\n",
              "      padding: 0 0 0 0;\n",
              "      width: 32px;\n",
              "    }\n",
              "\n",
              "    .colab-df-convert:hover {\n",
              "      background-color: #E2EBFA;\n",
              "      box-shadow: 0px 1px 2px rgba(60, 64, 67, 0.3), 0px 1px 3px 1px rgba(60, 64, 67, 0.15);\n",
              "      fill: #174EA6;\n",
              "    }\n",
              "\n",
              "    [theme=dark] .colab-df-convert {\n",
              "      background-color: #3B4455;\n",
              "      fill: #D2E3FC;\n",
              "    }\n",
              "\n",
              "    [theme=dark] .colab-df-convert:hover {\n",
              "      background-color: #434B5C;\n",
              "      box-shadow: 0px 1px 3px 1px rgba(0, 0, 0, 0.15);\n",
              "      filter: drop-shadow(0px 1px 2px rgba(0, 0, 0, 0.3));\n",
              "      fill: #FFFFFF;\n",
              "    }\n",
              "  </style>\n",
              "\n",
              "      <script>\n",
              "        const buttonEl =\n",
              "          document.querySelector('#df-7aa74572-2d09-4a9f-8fdc-6a340cf66a95 button.colab-df-convert');\n",
              "        buttonEl.style.display =\n",
              "          google.colab.kernel.accessAllowed ? 'block' : 'none';\n",
              "\n",
              "        async function convertToInteractive(key) {\n",
              "          const element = document.querySelector('#df-7aa74572-2d09-4a9f-8fdc-6a340cf66a95');\n",
              "          const dataTable =\n",
              "            await google.colab.kernel.invokeFunction('convertToInteractive',\n",
              "                                                     [key], {});\n",
              "          if (!dataTable) return;\n",
              "\n",
              "          const docLinkHtml = 'Like what you see? Visit the ' +\n",
              "            '<a target=\"_blank\" href=https://colab.research.google.com/notebooks/data_table.ipynb>data table notebook</a>'\n",
              "            + ' to learn more about interactive tables.';\n",
              "          element.innerHTML = '';\n",
              "          dataTable['output_type'] = 'display_data';\n",
              "          await google.colab.output.renderOutput(dataTable, element);\n",
              "          const docLink = document.createElement('div');\n",
              "          docLink.innerHTML = docLinkHtml;\n",
              "          element.appendChild(docLink);\n",
              "        }\n",
              "      </script>\n",
              "    </div>\n",
              "  </div>\n",
              "  "
            ]
          },
          "metadata": {},
          "execution_count": 50
        }
      ],
      "source": [
        "#we are replacing the NaN values in the pending column \n",
        "#wiht a string saying = 'none'\n",
        "df_Covid['pending'].fillna(value = 'None',\n",
        "          inplace = True)\n",
        "df_Covid.head()"
      ]
    },
    {
      "cell_type": "markdown",
      "metadata": {
        "id": "oldkwordq7fP"
      },
      "source": [
        "#### Q14: Replace the NaN values in the 'hospitalized' columns with the mean value of the column."
      ]
    },
    {
      "cell_type": "code",
      "execution_count": 51,
      "metadata": {
        "colab": {
          "base_uri": "https://localhost:8080/",
          "height": 237
        },
        "id": "z0eZh9k3q7fP",
        "outputId": "6f6e6899-0fe5-445f-8d3a-d79184259b55"
      },
      "outputs": [
        {
          "output_type": "execute_result",
          "data": {
            "text/plain": [
              "       death  hospitalized  negative pending  positive  recovered    total\n",
              "state                                                                     \n",
              "WY        50    272.000000     95212    None      5948     4791.0   101160\n",
              "NE       478   2315.000000    410594    None     45044    33198.0   455638\n",
              "ND       191    859.000000    219646    None     21846    17938.0   241492\n",
              "NC      3532  11044.567568   2824239    None    210632   184422.0  3034871\n",
              "MT       180    717.000000    330087    None     13071     9256.0   343158"
            ],
            "text/html": [
              "\n",
              "  <div id=\"df-3a7aa9e9-d548-42ec-ba1f-03c44e36ed9e\">\n",
              "    <div class=\"colab-df-container\">\n",
              "      <div>\n",
              "<style scoped>\n",
              "    .dataframe tbody tr th:only-of-type {\n",
              "        vertical-align: middle;\n",
              "    }\n",
              "\n",
              "    .dataframe tbody tr th {\n",
              "        vertical-align: top;\n",
              "    }\n",
              "\n",
              "    .dataframe thead th {\n",
              "        text-align: right;\n",
              "    }\n",
              "</style>\n",
              "<table border=\"1\" class=\"dataframe\">\n",
              "  <thead>\n",
              "    <tr style=\"text-align: right;\">\n",
              "      <th></th>\n",
              "      <th>death</th>\n",
              "      <th>hospitalized</th>\n",
              "      <th>negative</th>\n",
              "      <th>pending</th>\n",
              "      <th>positive</th>\n",
              "      <th>recovered</th>\n",
              "      <th>total</th>\n",
              "    </tr>\n",
              "    <tr>\n",
              "      <th>state</th>\n",
              "      <th></th>\n",
              "      <th></th>\n",
              "      <th></th>\n",
              "      <th></th>\n",
              "      <th></th>\n",
              "      <th></th>\n",
              "      <th></th>\n",
              "    </tr>\n",
              "  </thead>\n",
              "  <tbody>\n",
              "    <tr>\n",
              "      <th>WY</th>\n",
              "      <td>50</td>\n",
              "      <td>272.000000</td>\n",
              "      <td>95212</td>\n",
              "      <td>None</td>\n",
              "      <td>5948</td>\n",
              "      <td>4791.0</td>\n",
              "      <td>101160</td>\n",
              "    </tr>\n",
              "    <tr>\n",
              "      <th>NE</th>\n",
              "      <td>478</td>\n",
              "      <td>2315.000000</td>\n",
              "      <td>410594</td>\n",
              "      <td>None</td>\n",
              "      <td>45044</td>\n",
              "      <td>33198.0</td>\n",
              "      <td>455638</td>\n",
              "    </tr>\n",
              "    <tr>\n",
              "      <th>ND</th>\n",
              "      <td>191</td>\n",
              "      <td>859.000000</td>\n",
              "      <td>219646</td>\n",
              "      <td>None</td>\n",
              "      <td>21846</td>\n",
              "      <td>17938.0</td>\n",
              "      <td>241492</td>\n",
              "    </tr>\n",
              "    <tr>\n",
              "      <th>NC</th>\n",
              "      <td>3532</td>\n",
              "      <td>11044.567568</td>\n",
              "      <td>2824239</td>\n",
              "      <td>None</td>\n",
              "      <td>210632</td>\n",
              "      <td>184422.0</td>\n",
              "      <td>3034871</td>\n",
              "    </tr>\n",
              "    <tr>\n",
              "      <th>MT</th>\n",
              "      <td>180</td>\n",
              "      <td>717.000000</td>\n",
              "      <td>330087</td>\n",
              "      <td>None</td>\n",
              "      <td>13071</td>\n",
              "      <td>9256.0</td>\n",
              "      <td>343158</td>\n",
              "    </tr>\n",
              "  </tbody>\n",
              "</table>\n",
              "</div>\n",
              "      <button class=\"colab-df-convert\" onclick=\"convertToInteractive('df-3a7aa9e9-d548-42ec-ba1f-03c44e36ed9e')\"\n",
              "              title=\"Convert this dataframe to an interactive table.\"\n",
              "              style=\"display:none;\">\n",
              "        \n",
              "  <svg xmlns=\"http://www.w3.org/2000/svg\" height=\"24px\"viewBox=\"0 0 24 24\"\n",
              "       width=\"24px\">\n",
              "    <path d=\"M0 0h24v24H0V0z\" fill=\"none\"/>\n",
              "    <path d=\"M18.56 5.44l.94 2.06.94-2.06 2.06-.94-2.06-.94-.94-2.06-.94 2.06-2.06.94zm-11 1L8.5 8.5l.94-2.06 2.06-.94-2.06-.94L8.5 2.5l-.94 2.06-2.06.94zm10 10l.94 2.06.94-2.06 2.06-.94-2.06-.94-.94-2.06-.94 2.06-2.06.94z\"/><path d=\"M17.41 7.96l-1.37-1.37c-.4-.4-.92-.59-1.43-.59-.52 0-1.04.2-1.43.59L10.3 9.45l-7.72 7.72c-.78.78-.78 2.05 0 2.83L4 21.41c.39.39.9.59 1.41.59.51 0 1.02-.2 1.41-.59l7.78-7.78 2.81-2.81c.8-.78.8-2.07 0-2.86zM5.41 20L4 18.59l7.72-7.72 1.47 1.35L5.41 20z\"/>\n",
              "  </svg>\n",
              "      </button>\n",
              "      \n",
              "  <style>\n",
              "    .colab-df-container {\n",
              "      display:flex;\n",
              "      flex-wrap:wrap;\n",
              "      gap: 12px;\n",
              "    }\n",
              "\n",
              "    .colab-df-convert {\n",
              "      background-color: #E8F0FE;\n",
              "      border: none;\n",
              "      border-radius: 50%;\n",
              "      cursor: pointer;\n",
              "      display: none;\n",
              "      fill: #1967D2;\n",
              "      height: 32px;\n",
              "      padding: 0 0 0 0;\n",
              "      width: 32px;\n",
              "    }\n",
              "\n",
              "    .colab-df-convert:hover {\n",
              "      background-color: #E2EBFA;\n",
              "      box-shadow: 0px 1px 2px rgba(60, 64, 67, 0.3), 0px 1px 3px 1px rgba(60, 64, 67, 0.15);\n",
              "      fill: #174EA6;\n",
              "    }\n",
              "\n",
              "    [theme=dark] .colab-df-convert {\n",
              "      background-color: #3B4455;\n",
              "      fill: #D2E3FC;\n",
              "    }\n",
              "\n",
              "    [theme=dark] .colab-df-convert:hover {\n",
              "      background-color: #434B5C;\n",
              "      box-shadow: 0px 1px 3px 1px rgba(0, 0, 0, 0.15);\n",
              "      filter: drop-shadow(0px 1px 2px rgba(0, 0, 0, 0.3));\n",
              "      fill: #FFFFFF;\n",
              "    }\n",
              "  </style>\n",
              "\n",
              "      <script>\n",
              "        const buttonEl =\n",
              "          document.querySelector('#df-3a7aa9e9-d548-42ec-ba1f-03c44e36ed9e button.colab-df-convert');\n",
              "        buttonEl.style.display =\n",
              "          google.colab.kernel.accessAllowed ? 'block' : 'none';\n",
              "\n",
              "        async function convertToInteractive(key) {\n",
              "          const element = document.querySelector('#df-3a7aa9e9-d548-42ec-ba1f-03c44e36ed9e');\n",
              "          const dataTable =\n",
              "            await google.colab.kernel.invokeFunction('convertToInteractive',\n",
              "                                                     [key], {});\n",
              "          if (!dataTable) return;\n",
              "\n",
              "          const docLinkHtml = 'Like what you see? Visit the ' +\n",
              "            '<a target=\"_blank\" href=https://colab.research.google.com/notebooks/data_table.ipynb>data table notebook</a>'\n",
              "            + ' to learn more about interactive tables.';\n",
              "          element.innerHTML = '';\n",
              "          dataTable['output_type'] = 'display_data';\n",
              "          await google.colab.output.renderOutput(dataTable, element);\n",
              "          const docLink = document.createElement('div');\n",
              "          docLink.innerHTML = docLinkHtml;\n",
              "          element.appendChild(docLink);\n",
              "        }\n",
              "      </script>\n",
              "    </div>\n",
              "  </div>\n",
              "  "
            ]
          },
          "metadata": {},
          "execution_count": 51
        }
      ],
      "source": [
        "#we are replacing the NaN values in the hospitalized column \n",
        "#wiht a string saying = 'none'\n",
        "df_Covid['hospitalized'].fillna(value = df_Covid['hospitalized'].mean(),\n",
        "          inplace = True)\n",
        "df_Covid.head()"
      ]
    },
    {
      "cell_type": "markdown",
      "metadata": {
        "id": "7Nl2JNRrq7fP"
      },
      "source": [
        "#### Q15: Find the death percentage (round to 2 decimal points) of covid positive patients for each state and add it as a column in the dataset. (death% = death/positive)"
      ]
    },
    {
      "cell_type": "code",
      "execution_count": 52,
      "metadata": {
        "colab": {
          "base_uri": "https://localhost:8080/",
          "height": 237
        },
        "id": "qt8pDIwoq7fP",
        "outputId": "70e0d8d9-07b5-4906-b076-59beaef5f6db"
      },
      "outputs": [
        {
          "output_type": "execute_result",
          "data": {
            "text/plain": [
              "       death  hospitalized  negative pending  positive  recovered    total  \\\n",
              "state                                                                        \n",
              "WY        50    272.000000     95212    None      5948     4791.0   101160   \n",
              "NE       478   2315.000000    410594    None     45044    33198.0   455638   \n",
              "ND       191    859.000000    219646    None     21846    17938.0   241492   \n",
              "NC      3532  11044.567568   2824239    None    210632   184422.0  3034871   \n",
              "MT       180    717.000000    330087    None     13071     9256.0   343158   \n",
              "\n",
              "       death percentage  \n",
              "state                    \n",
              "WY                 0.84  \n",
              "NE                 1.06  \n",
              "ND                 0.87  \n",
              "NC                 1.68  \n",
              "MT                 1.38  "
            ],
            "text/html": [
              "\n",
              "  <div id=\"df-843c8e1d-0be0-41b3-baad-107ecf08d2da\">\n",
              "    <div class=\"colab-df-container\">\n",
              "      <div>\n",
              "<style scoped>\n",
              "    .dataframe tbody tr th:only-of-type {\n",
              "        vertical-align: middle;\n",
              "    }\n",
              "\n",
              "    .dataframe tbody tr th {\n",
              "        vertical-align: top;\n",
              "    }\n",
              "\n",
              "    .dataframe thead th {\n",
              "        text-align: right;\n",
              "    }\n",
              "</style>\n",
              "<table border=\"1\" class=\"dataframe\">\n",
              "  <thead>\n",
              "    <tr style=\"text-align: right;\">\n",
              "      <th></th>\n",
              "      <th>death</th>\n",
              "      <th>hospitalized</th>\n",
              "      <th>negative</th>\n",
              "      <th>pending</th>\n",
              "      <th>positive</th>\n",
              "      <th>recovered</th>\n",
              "      <th>total</th>\n",
              "      <th>death percentage</th>\n",
              "    </tr>\n",
              "    <tr>\n",
              "      <th>state</th>\n",
              "      <th></th>\n",
              "      <th></th>\n",
              "      <th></th>\n",
              "      <th></th>\n",
              "      <th></th>\n",
              "      <th></th>\n",
              "      <th></th>\n",
              "      <th></th>\n",
              "    </tr>\n",
              "  </thead>\n",
              "  <tbody>\n",
              "    <tr>\n",
              "      <th>WY</th>\n",
              "      <td>50</td>\n",
              "      <td>272.000000</td>\n",
              "      <td>95212</td>\n",
              "      <td>None</td>\n",
              "      <td>5948</td>\n",
              "      <td>4791.0</td>\n",
              "      <td>101160</td>\n",
              "      <td>0.84</td>\n",
              "    </tr>\n",
              "    <tr>\n",
              "      <th>NE</th>\n",
              "      <td>478</td>\n",
              "      <td>2315.000000</td>\n",
              "      <td>410594</td>\n",
              "      <td>None</td>\n",
              "      <td>45044</td>\n",
              "      <td>33198.0</td>\n",
              "      <td>455638</td>\n",
              "      <td>1.06</td>\n",
              "    </tr>\n",
              "    <tr>\n",
              "      <th>ND</th>\n",
              "      <td>191</td>\n",
              "      <td>859.000000</td>\n",
              "      <td>219646</td>\n",
              "      <td>None</td>\n",
              "      <td>21846</td>\n",
              "      <td>17938.0</td>\n",
              "      <td>241492</td>\n",
              "      <td>0.87</td>\n",
              "    </tr>\n",
              "    <tr>\n",
              "      <th>NC</th>\n",
              "      <td>3532</td>\n",
              "      <td>11044.567568</td>\n",
              "      <td>2824239</td>\n",
              "      <td>None</td>\n",
              "      <td>210632</td>\n",
              "      <td>184422.0</td>\n",
              "      <td>3034871</td>\n",
              "      <td>1.68</td>\n",
              "    </tr>\n",
              "    <tr>\n",
              "      <th>MT</th>\n",
              "      <td>180</td>\n",
              "      <td>717.000000</td>\n",
              "      <td>330087</td>\n",
              "      <td>None</td>\n",
              "      <td>13071</td>\n",
              "      <td>9256.0</td>\n",
              "      <td>343158</td>\n",
              "      <td>1.38</td>\n",
              "    </tr>\n",
              "  </tbody>\n",
              "</table>\n",
              "</div>\n",
              "      <button class=\"colab-df-convert\" onclick=\"convertToInteractive('df-843c8e1d-0be0-41b3-baad-107ecf08d2da')\"\n",
              "              title=\"Convert this dataframe to an interactive table.\"\n",
              "              style=\"display:none;\">\n",
              "        \n",
              "  <svg xmlns=\"http://www.w3.org/2000/svg\" height=\"24px\"viewBox=\"0 0 24 24\"\n",
              "       width=\"24px\">\n",
              "    <path d=\"M0 0h24v24H0V0z\" fill=\"none\"/>\n",
              "    <path d=\"M18.56 5.44l.94 2.06.94-2.06 2.06-.94-2.06-.94-.94-2.06-.94 2.06-2.06.94zm-11 1L8.5 8.5l.94-2.06 2.06-.94-2.06-.94L8.5 2.5l-.94 2.06-2.06.94zm10 10l.94 2.06.94-2.06 2.06-.94-2.06-.94-.94-2.06-.94 2.06-2.06.94z\"/><path d=\"M17.41 7.96l-1.37-1.37c-.4-.4-.92-.59-1.43-.59-.52 0-1.04.2-1.43.59L10.3 9.45l-7.72 7.72c-.78.78-.78 2.05 0 2.83L4 21.41c.39.39.9.59 1.41.59.51 0 1.02-.2 1.41-.59l7.78-7.78 2.81-2.81c.8-.78.8-2.07 0-2.86zM5.41 20L4 18.59l7.72-7.72 1.47 1.35L5.41 20z\"/>\n",
              "  </svg>\n",
              "      </button>\n",
              "      \n",
              "  <style>\n",
              "    .colab-df-container {\n",
              "      display:flex;\n",
              "      flex-wrap:wrap;\n",
              "      gap: 12px;\n",
              "    }\n",
              "\n",
              "    .colab-df-convert {\n",
              "      background-color: #E8F0FE;\n",
              "      border: none;\n",
              "      border-radius: 50%;\n",
              "      cursor: pointer;\n",
              "      display: none;\n",
              "      fill: #1967D2;\n",
              "      height: 32px;\n",
              "      padding: 0 0 0 0;\n",
              "      width: 32px;\n",
              "    }\n",
              "\n",
              "    .colab-df-convert:hover {\n",
              "      background-color: #E2EBFA;\n",
              "      box-shadow: 0px 1px 2px rgba(60, 64, 67, 0.3), 0px 1px 3px 1px rgba(60, 64, 67, 0.15);\n",
              "      fill: #174EA6;\n",
              "    }\n",
              "\n",
              "    [theme=dark] .colab-df-convert {\n",
              "      background-color: #3B4455;\n",
              "      fill: #D2E3FC;\n",
              "    }\n",
              "\n",
              "    [theme=dark] .colab-df-convert:hover {\n",
              "      background-color: #434B5C;\n",
              "      box-shadow: 0px 1px 3px 1px rgba(0, 0, 0, 0.15);\n",
              "      filter: drop-shadow(0px 1px 2px rgba(0, 0, 0, 0.3));\n",
              "      fill: #FFFFFF;\n",
              "    }\n",
              "  </style>\n",
              "\n",
              "      <script>\n",
              "        const buttonEl =\n",
              "          document.querySelector('#df-843c8e1d-0be0-41b3-baad-107ecf08d2da button.colab-df-convert');\n",
              "        buttonEl.style.display =\n",
              "          google.colab.kernel.accessAllowed ? 'block' : 'none';\n",
              "\n",
              "        async function convertToInteractive(key) {\n",
              "          const element = document.querySelector('#df-843c8e1d-0be0-41b3-baad-107ecf08d2da');\n",
              "          const dataTable =\n",
              "            await google.colab.kernel.invokeFunction('convertToInteractive',\n",
              "                                                     [key], {});\n",
              "          if (!dataTable) return;\n",
              "\n",
              "          const docLinkHtml = 'Like what you see? Visit the ' +\n",
              "            '<a target=\"_blank\" href=https://colab.research.google.com/notebooks/data_table.ipynb>data table notebook</a>'\n",
              "            + ' to learn more about interactive tables.';\n",
              "          element.innerHTML = '';\n",
              "          dataTable['output_type'] = 'display_data';\n",
              "          await google.colab.output.renderOutput(dataTable, element);\n",
              "          const docLink = document.createElement('div');\n",
              "          docLink.innerHTML = docLinkHtml;\n",
              "          element.appendChild(docLink);\n",
              "        }\n",
              "      </script>\n",
              "    </div>\n",
              "  </div>\n",
              "  "
            ]
          },
          "metadata": {},
          "execution_count": 52
        }
      ],
      "source": [
        "#computing the death percentage keeping in mind to round up\n",
        "#to 2 decimal points \n",
        "df_Covid['death percentage'] = round(df_Covid['death']/df_Covid['positive']*100\n",
        "                                     ,2)\n",
        "df_Covid.head()"
      ]
    },
    {
      "cell_type": "markdown",
      "metadata": {
        "id": "H2iIAmssq7fP"
      },
      "source": [
        "#### Q16: Print the total number of negative, positive, and recovered cases in the US."
      ]
    },
    {
      "cell_type": "code",
      "execution_count": 53,
      "metadata": {
        "colab": {
          "base_uri": "https://localhost:8080/"
        },
        "id": "sWNcpPyDq7fQ",
        "outputId": "cb6a4073-4beb-487c-8b3b-3bbcabaeb2d6"
      },
      "outputs": [
        {
          "output_type": "stream",
          "name": "stdout",
          "text": [
            "Total number of covid negative patients: 92955835\n",
            "Total number of covid positive patients: 7198622\n",
            "Total number of covid recovered patients: 2840747.0\n"
          ]
        }
      ],
      "source": [
        "#displaying total number of patients\n",
        "#in three new frames\n",
        "print('Total number of covid negative patients:',df_Covid['negative'].sum())\n",
        "print('Total number of covid positive patients:',df_Covid['positive'].sum())\n",
        "print('Total number of covid recovered patients:',df_Covid['recovered'].sum())\n"
      ]
    },
    {
      "cell_type": "markdown",
      "metadata": {
        "id": "84D6KcN7q7fQ"
      },
      "source": [
        "#### Q17: What percent of the covid positive patients from the state of NY were hospitalized (round the value to 2 decimal places)?"
      ]
    },
    {
      "cell_type": "code",
      "execution_count": 54,
      "metadata": {
        "colab": {
          "base_uri": "https://localhost:8080/"
        },
        "id": "RHlDSwVxq7fQ",
        "outputId": "e19bd743-3c9d-4dd5-b6bd-cea2f218bd93"
      },
      "outputs": [
        {
          "output_type": "stream",
          "name": "stdout",
          "text": [
            "17    458649\n",
            "Name: positive, dtype: int64\n"
          ]
        }
      ],
      "source": [
        "#displaying the total nymber of Covid Positive Patients\n",
        "#from the state of NY\n",
        "print(covid_df.loc[covid_df['state'] == 'NY']['positive'])"
      ]
    },
    {
      "cell_type": "markdown",
      "metadata": {
        "id": "GW9DovU1q7fQ"
      },
      "source": [
        "#### Q18: Return the state name with the maximum number of covid positive cases"
      ]
    },
    {
      "cell_type": "code",
      "execution_count": 55,
      "metadata": {
        "colab": {
          "base_uri": "https://localhost:8080/"
        },
        "id": "31xSFVGyq7fQ",
        "outputId": "3201e670-4ca7-4465-88f3-81490f9318f0"
      },
      "outputs": [
        {
          "output_type": "stream",
          "name": "stdout",
          "text": [
            "46    CA\n",
            "Name: state, dtype: object\n"
          ]
        }
      ],
      "source": [
        "#returning the corresponding state for which patients\n",
        "#were found out to be positive\n",
        "print(covid_df.loc[covid_df['positive'] == covid_df['positive'].max()]['state'])"
      ]
    },
    {
      "cell_type": "markdown",
      "metadata": {
        "id": "u5Dci8nIq7fQ"
      },
      "source": [
        "#### Q19: Return the number of states with more than the mean value of positive cases"
      ]
    },
    {
      "cell_type": "code",
      "execution_count": 56,
      "metadata": {
        "colab": {
          "base_uri": "https://localhost:8080/"
        },
        "id": "9SZ-E3dTq7fQ",
        "outputId": "08aa6a17-0220-4c10-ddf7-4aad0163dbdf"
      },
      "outputs": [
        {
          "output_type": "stream",
          "name": "stdout",
          "text": [
            "19\n"
          ]
        }
      ],
      "source": [
        "#returining the number of states\n",
        "#with meanvalue for postivie cases >\n",
        "print(covid_df.loc[covid_df['positive'] > covid_df['positive'].mean()]\n",
        "      ['state'].count())"
      ]
    },
    {
      "cell_type": "markdown",
      "metadata": {
        "id": "LT71wLuxq7fR"
      },
      "source": [
        "#### Q20: Print the data of those states whose no of negative cases is greater than the number of negative cases for MT. Then sort the dataframe wrt the total column values in descending order."
      ]
    },
    {
      "cell_type": "code",
      "execution_count": 57,
      "metadata": {
        "colab": {
          "base_uri": "https://localhost:8080/"
        },
        "id": "qquULkVXq7fR",
        "outputId": "2b468c3e-a77b-4511-f1d4-e369b27853fd"
      },
      "outputs": [
        {
          "output_type": "stream",
          "name": "stdout",
          "text": [
            "1     NE\n",
            "3     NC\n",
            "7     MO\n",
            "8     MN\n",
            "9     MI\n",
            "10    ME\n",
            "11    NJ\n",
            "12    MD\n",
            "13    NM\n",
            "14    MA\n",
            "15    NV\n",
            "16    LA\n",
            "17    NY\n",
            "18    KY\n",
            "19    OH\n",
            "20    KS\n",
            "21    OK\n",
            "22    IN\n",
            "23    OR\n",
            "24    IL\n",
            "25    PA\n",
            "28    IA\n",
            "31    SC\n",
            "34    GA\n",
            "35    TN\n",
            "36    FL\n",
            "37    TX\n",
            "39    UT\n",
            "40    DC\n",
            "41    VA\n",
            "42    CT\n",
            "44    CO\n",
            "46    CA\n",
            "47    WA\n",
            "48    AZ\n",
            "49    WI\n",
            "51    WV\n",
            "52    AR\n",
            "53    MS\n",
            "54    AL\n",
            "55    AK\n",
            "Name: state, dtype: object\n"
          ]
        }
      ],
      "source": [
        "#displaying the data of the states\n",
        "#whose negative cases > negative cases (MT)\n",
        "print(covid_df.loc[covid_df['negative'] > \n",
        "                   covid_df.loc[covid_df['state'] == 'MT']['negative'][4]]\n",
        "      ['state'])"
      ]
    },
    {
      "cell_type": "markdown",
      "metadata": {
        "id": "nR0txMxEq7fR"
      },
      "source": [
        "#### Q21: Create a new column called recovery_rate which classifies a state as- \n",
        "    a) 'High Recovery' when recovered% > 50\n",
        "    b) 'Modearate Recovery' when recovered% is between 25 and 50 \n",
        "    c) 'Low Recovery' when recovered% is less than 25\n",
        "#### where recovered% = recovered / positive for each state"
      ]
    },
    {
      "cell_type": "code",
      "source": [
        "#creating a new column where the percentage of recovered\n",
        "# is equated to recovered / positive (For each state)\n",
        "df_Covid['recovery_percentage'] = (df_Covid['recovered']/df_Covid\n",
        "                                     ['positive']*100)\n",
        "df_Covid['recovery_rate'] = pd.cut(df_Covid['recovery_percentage'],\n",
        "                                     bins = [0,25,50,100], include_lowest=True,\n",
        "                                     labels=['Low Recovery','Moderate Recovery',\n",
        "                                             'High Recovery'])\n",
        "df_Covid"
      ],
      "metadata": {
        "colab": {
          "base_uri": "https://localhost:8080/",
          "height": 1000
        },
        "id": "qUrQC0kxsVhI",
        "outputId": "993360b9-5c65-49a8-9d2c-39928798988c"
      },
      "execution_count": 59,
      "outputs": [
        {
          "output_type": "execute_result",
          "data": {
            "text/plain": [
              "       death  hospitalized  negative pending  positive  recovered     total  \\\n",
              "state                                                                         \n",
              "WY        50    272.000000     95212    None      5948     4791.0    101160   \n",
              "NE       478   2315.000000    410594    None     45044    33198.0    455638   \n",
              "ND       191    859.000000    219646    None     21846    17938.0    241492   \n",
              "NC      3532  11044.567568   2824239    None    210632   184422.0   3034871   \n",
              "MT       180    717.000000    330087    None     13071     9256.0    343158   \n",
              "NH       439    738.000000    265447    None      8266     7522.0    273713   \n",
              "MP         2      4.000000     15112    None        70       29.0     15182   \n",
              "MO      2118  11044.567568   1178272    None    126113        NaN   1304385   \n",
              "MN      2089   7701.000000   1315567    None     99134    89392.0   1414701   \n",
              "MI      7083  11044.567568   3509848    None    138014    95051.0   3647862   \n",
              "ME       141    449.000000    429709    None      5391     4678.0    435100   \n",
              "NJ     16126  23439.000000   3407757    None    205275    34859.0   3613032   \n",
              "MD      3949  15530.000000   1493282    None    124725     7536.0   1618007   \n",
              "NM       875   3475.000000    885829    None     29157    16565.0    914986   \n",
              "MA      9456  12686.000000   2104449    None    132116   113768.0   2236565   \n",
              "NV      1600  11044.567568    618116    None     79980     2220.0    698096   \n",
              "LA      5511  11044.567568   2151146    None    167458   154163.0   2318604   \n",
              "NY     25479  89995.000000  10288664    None    458649    76754.0  10747313   \n",
              "KY      1174   5279.000000   1315769    None     68840    11840.0   1384609   \n",
              "OH      4804  15516.000000   3011948    None    153987   132980.0   3165935   \n",
              "KS       678   2917.000000    461701    None     59749     2095.0    521450   \n",
              "OK      1031   6449.000000   1116829  4926.0     87199    73100.0   1204028   \n",
              "IN      3632  12814.000000   1259831    None    120019    94816.0   1379850   \n",
              "OR       559   2598.000000    652364    None     33509     5720.0    685873   \n",
              "IL      8916  11044.567568   5331548    None    295763        NaN   5627311   \n",
              "PA      8142  11044.567568   1879127    None    158967   130352.0   2038094   \n",
              "ID       464   1847.000000    269007    None     41434    21976.0    310441   \n",
              "PR       661  11044.567568    305972    None     48755        NaN    354727   \n",
              "IA      1344  11044.567568    679271    None     85596    68456.0    764867   \n",
              "RI      1114   2782.000000    315853    None     24748     2322.0    340601   \n",
              "HI       132    832.000000    284211    None     12290    10256.0    296501   \n",
              "SC      3378   9160.000000   1161156    None    147942    71691.0   1309098   \n",
              "GU        49  11044.567568     47626    None      2488     1822.0     50114   \n",
              "SD       223   1549.000000    168380    None     22389    18508.0    190769   \n",
              "GA      7021  28522.000000   2615653    None    318026        NaN   2933679   \n",
              "TN      2454   8733.000000   2688217    None    196139   179322.0   2884356   \n",
              "FL     14488  44608.000000   4594668  3980.0    706516        NaN   5301184   \n",
              "TX     15711  11044.567568   5488190    None    748967   664883.0   6237157   \n",
              "DE       636  11044.567568    265949    None     20613    10622.0    286562   \n",
              "UT       459   3847.000000    756928    None     73042    55141.0    829970   \n",
              "DC       627  11044.567568    372534    None     15326    12155.0    387860   \n",
              "VA      3208  18541.000000   1909374   314.0    148271    17633.0   2057645   \n",
              "CT      4508  11560.000000   1536443    None     57550     9310.0   1593993   \n",
              "VI        20  11044.567568     19243    21.0      1318     1254.0     20561   \n",
              "CO      1952   7558.000000    837127    None     70025     6500.0    907152   \n",
              "VT        58  11044.567568    160975    None      1752     1606.0    162727   \n",
              "CA     15792  11044.567568  13894577    None    810625        NaN  14705202   \n",
              "WA      2124   7483.000000   1767357    None     87042        NaN   1854399   \n",
              "AZ      5650  22119.000000   1243641    None    218507    35261.0   1462148   \n",
              "WI      1337   7300.000000   1423247   190.0    129123    99925.0   1552370   \n",
              "AS         0  11044.567568      1571    None         0        NaN      1571   \n",
              "WV       350  11044.567568    545720    None     15848    11507.0    561568   \n",
              "AR      1369   5354.000000    949107    None     83697    75312.0   1032804   \n",
              "MS      2969   5844.000000    638843    None     98190    89737.0    737033   \n",
              "AL      2540  17257.000000    994475    None    154701    67948.0   1149176   \n",
              "AK        56  11044.567568    448427    None      8780     4555.0    457207   \n",
              "\n",
              "       death percentage  recovery_percentage      recovery_rate  \n",
              "state                                                            \n",
              "WY                 0.84            80.548083      High Recovery  \n",
              "NE                 1.06            73.701270      High Recovery  \n",
              "ND                 0.87            82.111142      High Recovery  \n",
              "NC                 1.68            87.556497      High Recovery  \n",
              "MT                 1.38            70.813251      High Recovery  \n",
              "NH                 5.31            90.999274      High Recovery  \n",
              "MP                 2.86            41.428571  Moderate Recovery  \n",
              "MO                 1.68                  NaN                NaN  \n",
              "MN                 2.11            90.172897      High Recovery  \n",
              "MI                 5.13            68.870549      High Recovery  \n",
              "ME                 2.62            86.774253      High Recovery  \n",
              "NJ                 7.86            16.981610       Low Recovery  \n",
              "MD                 3.17             6.042093       Low Recovery  \n",
              "NM                 3.00            56.813115      High Recovery  \n",
              "MA                 7.16            86.112204      High Recovery  \n",
              "NV                 2.00             2.775694       Low Recovery  \n",
              "LA                 3.29            92.060696      High Recovery  \n",
              "NY                 5.56            16.734802       Low Recovery  \n",
              "KY                 1.71            17.199303       Low Recovery  \n",
              "OH                 3.12            86.357939      High Recovery  \n",
              "KS                 1.13             3.506335       Low Recovery  \n",
              "OK                 1.18            83.831237      High Recovery  \n",
              "IN                 3.03            79.000825      High Recovery  \n",
              "OR                 1.67            17.070041       Low Recovery  \n",
              "IL                 3.01                  NaN                NaN  \n",
              "PA                 5.12            81.999409      High Recovery  \n",
              "ID                 1.12            53.038567      High Recovery  \n",
              "PR                 1.36                  NaN                NaN  \n",
              "IA                 1.57            79.975700      High Recovery  \n",
              "RI                 4.50             9.382576       Low Recovery  \n",
              "HI                 1.07            83.449959      High Recovery  \n",
              "SC                 2.28            48.458855  Moderate Recovery  \n",
              "GU                 1.97            73.231511      High Recovery  \n",
              "SD                 1.00            82.665595      High Recovery  \n",
              "GA                 2.21                  NaN                NaN  \n",
              "TN                 1.25            91.425979      High Recovery  \n",
              "FL                 2.05                  NaN                NaN  \n",
              "TX                 2.10            88.773337      High Recovery  \n",
              "DE                 3.09            51.530587      High Recovery  \n",
              "UT                 0.63            75.492183      High Recovery  \n",
              "DC                 4.09            79.309670      High Recovery  \n",
              "VA                 2.16            11.892413       Low Recovery  \n",
              "CT                 7.83            16.177237       Low Recovery  \n",
              "VI                 1.52            95.144158      High Recovery  \n",
              "CO                 2.79             9.282399       Low Recovery  \n",
              "VT                 3.31            91.666667      High Recovery  \n",
              "CA                 1.95                  NaN                NaN  \n",
              "WA                 2.44                  NaN                NaN  \n",
              "AZ                 2.59            16.137240       Low Recovery  \n",
              "WI                 1.04            77.387452      High Recovery  \n",
              "AS                  NaN                  NaN                NaN  \n",
              "WV                 2.21            72.608531      High Recovery  \n",
              "AR                 1.64            89.981720      High Recovery  \n",
              "MS                 3.02            91.391180      High Recovery  \n",
              "AL                 1.64            43.922147  Moderate Recovery  \n",
              "AK                 0.64            51.879271      High Recovery  "
            ],
            "text/html": [
              "\n",
              "  <div id=\"df-6245c1af-1ff1-4503-983c-d61912d6ac13\">\n",
              "    <div class=\"colab-df-container\">\n",
              "      <div>\n",
              "<style scoped>\n",
              "    .dataframe tbody tr th:only-of-type {\n",
              "        vertical-align: middle;\n",
              "    }\n",
              "\n",
              "    .dataframe tbody tr th {\n",
              "        vertical-align: top;\n",
              "    }\n",
              "\n",
              "    .dataframe thead th {\n",
              "        text-align: right;\n",
              "    }\n",
              "</style>\n",
              "<table border=\"1\" class=\"dataframe\">\n",
              "  <thead>\n",
              "    <tr style=\"text-align: right;\">\n",
              "      <th></th>\n",
              "      <th>death</th>\n",
              "      <th>hospitalized</th>\n",
              "      <th>negative</th>\n",
              "      <th>pending</th>\n",
              "      <th>positive</th>\n",
              "      <th>recovered</th>\n",
              "      <th>total</th>\n",
              "      <th>death percentage</th>\n",
              "      <th>recovery_percentage</th>\n",
              "      <th>recovery_rate</th>\n",
              "    </tr>\n",
              "    <tr>\n",
              "      <th>state</th>\n",
              "      <th></th>\n",
              "      <th></th>\n",
              "      <th></th>\n",
              "      <th></th>\n",
              "      <th></th>\n",
              "      <th></th>\n",
              "      <th></th>\n",
              "      <th></th>\n",
              "      <th></th>\n",
              "      <th></th>\n",
              "    </tr>\n",
              "  </thead>\n",
              "  <tbody>\n",
              "    <tr>\n",
              "      <th>WY</th>\n",
              "      <td>50</td>\n",
              "      <td>272.000000</td>\n",
              "      <td>95212</td>\n",
              "      <td>None</td>\n",
              "      <td>5948</td>\n",
              "      <td>4791.0</td>\n",
              "      <td>101160</td>\n",
              "      <td>0.84</td>\n",
              "      <td>80.548083</td>\n",
              "      <td>High Recovery</td>\n",
              "    </tr>\n",
              "    <tr>\n",
              "      <th>NE</th>\n",
              "      <td>478</td>\n",
              "      <td>2315.000000</td>\n",
              "      <td>410594</td>\n",
              "      <td>None</td>\n",
              "      <td>45044</td>\n",
              "      <td>33198.0</td>\n",
              "      <td>455638</td>\n",
              "      <td>1.06</td>\n",
              "      <td>73.701270</td>\n",
              "      <td>High Recovery</td>\n",
              "    </tr>\n",
              "    <tr>\n",
              "      <th>ND</th>\n",
              "      <td>191</td>\n",
              "      <td>859.000000</td>\n",
              "      <td>219646</td>\n",
              "      <td>None</td>\n",
              "      <td>21846</td>\n",
              "      <td>17938.0</td>\n",
              "      <td>241492</td>\n",
              "      <td>0.87</td>\n",
              "      <td>82.111142</td>\n",
              "      <td>High Recovery</td>\n",
              "    </tr>\n",
              "    <tr>\n",
              "      <th>NC</th>\n",
              "      <td>3532</td>\n",
              "      <td>11044.567568</td>\n",
              "      <td>2824239</td>\n",
              "      <td>None</td>\n",
              "      <td>210632</td>\n",
              "      <td>184422.0</td>\n",
              "      <td>3034871</td>\n",
              "      <td>1.68</td>\n",
              "      <td>87.556497</td>\n",
              "      <td>High Recovery</td>\n",
              "    </tr>\n",
              "    <tr>\n",
              "      <th>MT</th>\n",
              "      <td>180</td>\n",
              "      <td>717.000000</td>\n",
              "      <td>330087</td>\n",
              "      <td>None</td>\n",
              "      <td>13071</td>\n",
              "      <td>9256.0</td>\n",
              "      <td>343158</td>\n",
              "      <td>1.38</td>\n",
              "      <td>70.813251</td>\n",
              "      <td>High Recovery</td>\n",
              "    </tr>\n",
              "    <tr>\n",
              "      <th>NH</th>\n",
              "      <td>439</td>\n",
              "      <td>738.000000</td>\n",
              "      <td>265447</td>\n",
              "      <td>None</td>\n",
              "      <td>8266</td>\n",
              "      <td>7522.0</td>\n",
              "      <td>273713</td>\n",
              "      <td>5.31</td>\n",
              "      <td>90.999274</td>\n",
              "      <td>High Recovery</td>\n",
              "    </tr>\n",
              "    <tr>\n",
              "      <th>MP</th>\n",
              "      <td>2</td>\n",
              "      <td>4.000000</td>\n",
              "      <td>15112</td>\n",
              "      <td>None</td>\n",
              "      <td>70</td>\n",
              "      <td>29.0</td>\n",
              "      <td>15182</td>\n",
              "      <td>2.86</td>\n",
              "      <td>41.428571</td>\n",
              "      <td>Moderate Recovery</td>\n",
              "    </tr>\n",
              "    <tr>\n",
              "      <th>MO</th>\n",
              "      <td>2118</td>\n",
              "      <td>11044.567568</td>\n",
              "      <td>1178272</td>\n",
              "      <td>None</td>\n",
              "      <td>126113</td>\n",
              "      <td>NaN</td>\n",
              "      <td>1304385</td>\n",
              "      <td>1.68</td>\n",
              "      <td>NaN</td>\n",
              "      <td>NaN</td>\n",
              "    </tr>\n",
              "    <tr>\n",
              "      <th>MN</th>\n",
              "      <td>2089</td>\n",
              "      <td>7701.000000</td>\n",
              "      <td>1315567</td>\n",
              "      <td>None</td>\n",
              "      <td>99134</td>\n",
              "      <td>89392.0</td>\n",
              "      <td>1414701</td>\n",
              "      <td>2.11</td>\n",
              "      <td>90.172897</td>\n",
              "      <td>High Recovery</td>\n",
              "    </tr>\n",
              "    <tr>\n",
              "      <th>MI</th>\n",
              "      <td>7083</td>\n",
              "      <td>11044.567568</td>\n",
              "      <td>3509848</td>\n",
              "      <td>None</td>\n",
              "      <td>138014</td>\n",
              "      <td>95051.0</td>\n",
              "      <td>3647862</td>\n",
              "      <td>5.13</td>\n",
              "      <td>68.870549</td>\n",
              "      <td>High Recovery</td>\n",
              "    </tr>\n",
              "    <tr>\n",
              "      <th>ME</th>\n",
              "      <td>141</td>\n",
              "      <td>449.000000</td>\n",
              "      <td>429709</td>\n",
              "      <td>None</td>\n",
              "      <td>5391</td>\n",
              "      <td>4678.0</td>\n",
              "      <td>435100</td>\n",
              "      <td>2.62</td>\n",
              "      <td>86.774253</td>\n",
              "      <td>High Recovery</td>\n",
              "    </tr>\n",
              "    <tr>\n",
              "      <th>NJ</th>\n",
              "      <td>16126</td>\n",
              "      <td>23439.000000</td>\n",
              "      <td>3407757</td>\n",
              "      <td>None</td>\n",
              "      <td>205275</td>\n",
              "      <td>34859.0</td>\n",
              "      <td>3613032</td>\n",
              "      <td>7.86</td>\n",
              "      <td>16.981610</td>\n",
              "      <td>Low Recovery</td>\n",
              "    </tr>\n",
              "    <tr>\n",
              "      <th>MD</th>\n",
              "      <td>3949</td>\n",
              "      <td>15530.000000</td>\n",
              "      <td>1493282</td>\n",
              "      <td>None</td>\n",
              "      <td>124725</td>\n",
              "      <td>7536.0</td>\n",
              "      <td>1618007</td>\n",
              "      <td>3.17</td>\n",
              "      <td>6.042093</td>\n",
              "      <td>Low Recovery</td>\n",
              "    </tr>\n",
              "    <tr>\n",
              "      <th>NM</th>\n",
              "      <td>875</td>\n",
              "      <td>3475.000000</td>\n",
              "      <td>885829</td>\n",
              "      <td>None</td>\n",
              "      <td>29157</td>\n",
              "      <td>16565.0</td>\n",
              "      <td>914986</td>\n",
              "      <td>3.00</td>\n",
              "      <td>56.813115</td>\n",
              "      <td>High Recovery</td>\n",
              "    </tr>\n",
              "    <tr>\n",
              "      <th>MA</th>\n",
              "      <td>9456</td>\n",
              "      <td>12686.000000</td>\n",
              "      <td>2104449</td>\n",
              "      <td>None</td>\n",
              "      <td>132116</td>\n",
              "      <td>113768.0</td>\n",
              "      <td>2236565</td>\n",
              "      <td>7.16</td>\n",
              "      <td>86.112204</td>\n",
              "      <td>High Recovery</td>\n",
              "    </tr>\n",
              "    <tr>\n",
              "      <th>NV</th>\n",
              "      <td>1600</td>\n",
              "      <td>11044.567568</td>\n",
              "      <td>618116</td>\n",
              "      <td>None</td>\n",
              "      <td>79980</td>\n",
              "      <td>2220.0</td>\n",
              "      <td>698096</td>\n",
              "      <td>2.00</td>\n",
              "      <td>2.775694</td>\n",
              "      <td>Low Recovery</td>\n",
              "    </tr>\n",
              "    <tr>\n",
              "      <th>LA</th>\n",
              "      <td>5511</td>\n",
              "      <td>11044.567568</td>\n",
              "      <td>2151146</td>\n",
              "      <td>None</td>\n",
              "      <td>167458</td>\n",
              "      <td>154163.0</td>\n",
              "      <td>2318604</td>\n",
              "      <td>3.29</td>\n",
              "      <td>92.060696</td>\n",
              "      <td>High Recovery</td>\n",
              "    </tr>\n",
              "    <tr>\n",
              "      <th>NY</th>\n",
              "      <td>25479</td>\n",
              "      <td>89995.000000</td>\n",
              "      <td>10288664</td>\n",
              "      <td>None</td>\n",
              "      <td>458649</td>\n",
              "      <td>76754.0</td>\n",
              "      <td>10747313</td>\n",
              "      <td>5.56</td>\n",
              "      <td>16.734802</td>\n",
              "      <td>Low Recovery</td>\n",
              "    </tr>\n",
              "    <tr>\n",
              "      <th>KY</th>\n",
              "      <td>1174</td>\n",
              "      <td>5279.000000</td>\n",
              "      <td>1315769</td>\n",
              "      <td>None</td>\n",
              "      <td>68840</td>\n",
              "      <td>11840.0</td>\n",
              "      <td>1384609</td>\n",
              "      <td>1.71</td>\n",
              "      <td>17.199303</td>\n",
              "      <td>Low Recovery</td>\n",
              "    </tr>\n",
              "    <tr>\n",
              "      <th>OH</th>\n",
              "      <td>4804</td>\n",
              "      <td>15516.000000</td>\n",
              "      <td>3011948</td>\n",
              "      <td>None</td>\n",
              "      <td>153987</td>\n",
              "      <td>132980.0</td>\n",
              "      <td>3165935</td>\n",
              "      <td>3.12</td>\n",
              "      <td>86.357939</td>\n",
              "      <td>High Recovery</td>\n",
              "    </tr>\n",
              "    <tr>\n",
              "      <th>KS</th>\n",
              "      <td>678</td>\n",
              "      <td>2917.000000</td>\n",
              "      <td>461701</td>\n",
              "      <td>None</td>\n",
              "      <td>59749</td>\n",
              "      <td>2095.0</td>\n",
              "      <td>521450</td>\n",
              "      <td>1.13</td>\n",
              "      <td>3.506335</td>\n",
              "      <td>Low Recovery</td>\n",
              "    </tr>\n",
              "    <tr>\n",
              "      <th>OK</th>\n",
              "      <td>1031</td>\n",
              "      <td>6449.000000</td>\n",
              "      <td>1116829</td>\n",
              "      <td>4926.0</td>\n",
              "      <td>87199</td>\n",
              "      <td>73100.0</td>\n",
              "      <td>1204028</td>\n",
              "      <td>1.18</td>\n",
              "      <td>83.831237</td>\n",
              "      <td>High Recovery</td>\n",
              "    </tr>\n",
              "    <tr>\n",
              "      <th>IN</th>\n",
              "      <td>3632</td>\n",
              "      <td>12814.000000</td>\n",
              "      <td>1259831</td>\n",
              "      <td>None</td>\n",
              "      <td>120019</td>\n",
              "      <td>94816.0</td>\n",
              "      <td>1379850</td>\n",
              "      <td>3.03</td>\n",
              "      <td>79.000825</td>\n",
              "      <td>High Recovery</td>\n",
              "    </tr>\n",
              "    <tr>\n",
              "      <th>OR</th>\n",
              "      <td>559</td>\n",
              "      <td>2598.000000</td>\n",
              "      <td>652364</td>\n",
              "      <td>None</td>\n",
              "      <td>33509</td>\n",
              "      <td>5720.0</td>\n",
              "      <td>685873</td>\n",
              "      <td>1.67</td>\n",
              "      <td>17.070041</td>\n",
              "      <td>Low Recovery</td>\n",
              "    </tr>\n",
              "    <tr>\n",
              "      <th>IL</th>\n",
              "      <td>8916</td>\n",
              "      <td>11044.567568</td>\n",
              "      <td>5331548</td>\n",
              "      <td>None</td>\n",
              "      <td>295763</td>\n",
              "      <td>NaN</td>\n",
              "      <td>5627311</td>\n",
              "      <td>3.01</td>\n",
              "      <td>NaN</td>\n",
              "      <td>NaN</td>\n",
              "    </tr>\n",
              "    <tr>\n",
              "      <th>PA</th>\n",
              "      <td>8142</td>\n",
              "      <td>11044.567568</td>\n",
              "      <td>1879127</td>\n",
              "      <td>None</td>\n",
              "      <td>158967</td>\n",
              "      <td>130352.0</td>\n",
              "      <td>2038094</td>\n",
              "      <td>5.12</td>\n",
              "      <td>81.999409</td>\n",
              "      <td>High Recovery</td>\n",
              "    </tr>\n",
              "    <tr>\n",
              "      <th>ID</th>\n",
              "      <td>464</td>\n",
              "      <td>1847.000000</td>\n",
              "      <td>269007</td>\n",
              "      <td>None</td>\n",
              "      <td>41434</td>\n",
              "      <td>21976.0</td>\n",
              "      <td>310441</td>\n",
              "      <td>1.12</td>\n",
              "      <td>53.038567</td>\n",
              "      <td>High Recovery</td>\n",
              "    </tr>\n",
              "    <tr>\n",
              "      <th>PR</th>\n",
              "      <td>661</td>\n",
              "      <td>11044.567568</td>\n",
              "      <td>305972</td>\n",
              "      <td>None</td>\n",
              "      <td>48755</td>\n",
              "      <td>NaN</td>\n",
              "      <td>354727</td>\n",
              "      <td>1.36</td>\n",
              "      <td>NaN</td>\n",
              "      <td>NaN</td>\n",
              "    </tr>\n",
              "    <tr>\n",
              "      <th>IA</th>\n",
              "      <td>1344</td>\n",
              "      <td>11044.567568</td>\n",
              "      <td>679271</td>\n",
              "      <td>None</td>\n",
              "      <td>85596</td>\n",
              "      <td>68456.0</td>\n",
              "      <td>764867</td>\n",
              "      <td>1.57</td>\n",
              "      <td>79.975700</td>\n",
              "      <td>High Recovery</td>\n",
              "    </tr>\n",
              "    <tr>\n",
              "      <th>RI</th>\n",
              "      <td>1114</td>\n",
              "      <td>2782.000000</td>\n",
              "      <td>315853</td>\n",
              "      <td>None</td>\n",
              "      <td>24748</td>\n",
              "      <td>2322.0</td>\n",
              "      <td>340601</td>\n",
              "      <td>4.50</td>\n",
              "      <td>9.382576</td>\n",
              "      <td>Low Recovery</td>\n",
              "    </tr>\n",
              "    <tr>\n",
              "      <th>HI</th>\n",
              "      <td>132</td>\n",
              "      <td>832.000000</td>\n",
              "      <td>284211</td>\n",
              "      <td>None</td>\n",
              "      <td>12290</td>\n",
              "      <td>10256.0</td>\n",
              "      <td>296501</td>\n",
              "      <td>1.07</td>\n",
              "      <td>83.449959</td>\n",
              "      <td>High Recovery</td>\n",
              "    </tr>\n",
              "    <tr>\n",
              "      <th>SC</th>\n",
              "      <td>3378</td>\n",
              "      <td>9160.000000</td>\n",
              "      <td>1161156</td>\n",
              "      <td>None</td>\n",
              "      <td>147942</td>\n",
              "      <td>71691.0</td>\n",
              "      <td>1309098</td>\n",
              "      <td>2.28</td>\n",
              "      <td>48.458855</td>\n",
              "      <td>Moderate Recovery</td>\n",
              "    </tr>\n",
              "    <tr>\n",
              "      <th>GU</th>\n",
              "      <td>49</td>\n",
              "      <td>11044.567568</td>\n",
              "      <td>47626</td>\n",
              "      <td>None</td>\n",
              "      <td>2488</td>\n",
              "      <td>1822.0</td>\n",
              "      <td>50114</td>\n",
              "      <td>1.97</td>\n",
              "      <td>73.231511</td>\n",
              "      <td>High Recovery</td>\n",
              "    </tr>\n",
              "    <tr>\n",
              "      <th>SD</th>\n",
              "      <td>223</td>\n",
              "      <td>1549.000000</td>\n",
              "      <td>168380</td>\n",
              "      <td>None</td>\n",
              "      <td>22389</td>\n",
              "      <td>18508.0</td>\n",
              "      <td>190769</td>\n",
              "      <td>1.00</td>\n",
              "      <td>82.665595</td>\n",
              "      <td>High Recovery</td>\n",
              "    </tr>\n",
              "    <tr>\n",
              "      <th>GA</th>\n",
              "      <td>7021</td>\n",
              "      <td>28522.000000</td>\n",
              "      <td>2615653</td>\n",
              "      <td>None</td>\n",
              "      <td>318026</td>\n",
              "      <td>NaN</td>\n",
              "      <td>2933679</td>\n",
              "      <td>2.21</td>\n",
              "      <td>NaN</td>\n",
              "      <td>NaN</td>\n",
              "    </tr>\n",
              "    <tr>\n",
              "      <th>TN</th>\n",
              "      <td>2454</td>\n",
              "      <td>8733.000000</td>\n",
              "      <td>2688217</td>\n",
              "      <td>None</td>\n",
              "      <td>196139</td>\n",
              "      <td>179322.0</td>\n",
              "      <td>2884356</td>\n",
              "      <td>1.25</td>\n",
              "      <td>91.425979</td>\n",
              "      <td>High Recovery</td>\n",
              "    </tr>\n",
              "    <tr>\n",
              "      <th>FL</th>\n",
              "      <td>14488</td>\n",
              "      <td>44608.000000</td>\n",
              "      <td>4594668</td>\n",
              "      <td>3980.0</td>\n",
              "      <td>706516</td>\n",
              "      <td>NaN</td>\n",
              "      <td>5301184</td>\n",
              "      <td>2.05</td>\n",
              "      <td>NaN</td>\n",
              "      <td>NaN</td>\n",
              "    </tr>\n",
              "    <tr>\n",
              "      <th>TX</th>\n",
              "      <td>15711</td>\n",
              "      <td>11044.567568</td>\n",
              "      <td>5488190</td>\n",
              "      <td>None</td>\n",
              "      <td>748967</td>\n",
              "      <td>664883.0</td>\n",
              "      <td>6237157</td>\n",
              "      <td>2.10</td>\n",
              "      <td>88.773337</td>\n",
              "      <td>High Recovery</td>\n",
              "    </tr>\n",
              "    <tr>\n",
              "      <th>DE</th>\n",
              "      <td>636</td>\n",
              "      <td>11044.567568</td>\n",
              "      <td>265949</td>\n",
              "      <td>None</td>\n",
              "      <td>20613</td>\n",
              "      <td>10622.0</td>\n",
              "      <td>286562</td>\n",
              "      <td>3.09</td>\n",
              "      <td>51.530587</td>\n",
              "      <td>High Recovery</td>\n",
              "    </tr>\n",
              "    <tr>\n",
              "      <th>UT</th>\n",
              "      <td>459</td>\n",
              "      <td>3847.000000</td>\n",
              "      <td>756928</td>\n",
              "      <td>None</td>\n",
              "      <td>73042</td>\n",
              "      <td>55141.0</td>\n",
              "      <td>829970</td>\n",
              "      <td>0.63</td>\n",
              "      <td>75.492183</td>\n",
              "      <td>High Recovery</td>\n",
              "    </tr>\n",
              "    <tr>\n",
              "      <th>DC</th>\n",
              "      <td>627</td>\n",
              "      <td>11044.567568</td>\n",
              "      <td>372534</td>\n",
              "      <td>None</td>\n",
              "      <td>15326</td>\n",
              "      <td>12155.0</td>\n",
              "      <td>387860</td>\n",
              "      <td>4.09</td>\n",
              "      <td>79.309670</td>\n",
              "      <td>High Recovery</td>\n",
              "    </tr>\n",
              "    <tr>\n",
              "      <th>VA</th>\n",
              "      <td>3208</td>\n",
              "      <td>18541.000000</td>\n",
              "      <td>1909374</td>\n",
              "      <td>314.0</td>\n",
              "      <td>148271</td>\n",
              "      <td>17633.0</td>\n",
              "      <td>2057645</td>\n",
              "      <td>2.16</td>\n",
              "      <td>11.892413</td>\n",
              "      <td>Low Recovery</td>\n",
              "    </tr>\n",
              "    <tr>\n",
              "      <th>CT</th>\n",
              "      <td>4508</td>\n",
              "      <td>11560.000000</td>\n",
              "      <td>1536443</td>\n",
              "      <td>None</td>\n",
              "      <td>57550</td>\n",
              "      <td>9310.0</td>\n",
              "      <td>1593993</td>\n",
              "      <td>7.83</td>\n",
              "      <td>16.177237</td>\n",
              "      <td>Low Recovery</td>\n",
              "    </tr>\n",
              "    <tr>\n",
              "      <th>VI</th>\n",
              "      <td>20</td>\n",
              "      <td>11044.567568</td>\n",
              "      <td>19243</td>\n",
              "      <td>21.0</td>\n",
              "      <td>1318</td>\n",
              "      <td>1254.0</td>\n",
              "      <td>20561</td>\n",
              "      <td>1.52</td>\n",
              "      <td>95.144158</td>\n",
              "      <td>High Recovery</td>\n",
              "    </tr>\n",
              "    <tr>\n",
              "      <th>CO</th>\n",
              "      <td>1952</td>\n",
              "      <td>7558.000000</td>\n",
              "      <td>837127</td>\n",
              "      <td>None</td>\n",
              "      <td>70025</td>\n",
              "      <td>6500.0</td>\n",
              "      <td>907152</td>\n",
              "      <td>2.79</td>\n",
              "      <td>9.282399</td>\n",
              "      <td>Low Recovery</td>\n",
              "    </tr>\n",
              "    <tr>\n",
              "      <th>VT</th>\n",
              "      <td>58</td>\n",
              "      <td>11044.567568</td>\n",
              "      <td>160975</td>\n",
              "      <td>None</td>\n",
              "      <td>1752</td>\n",
              "      <td>1606.0</td>\n",
              "      <td>162727</td>\n",
              "      <td>3.31</td>\n",
              "      <td>91.666667</td>\n",
              "      <td>High Recovery</td>\n",
              "    </tr>\n",
              "    <tr>\n",
              "      <th>CA</th>\n",
              "      <td>15792</td>\n",
              "      <td>11044.567568</td>\n",
              "      <td>13894577</td>\n",
              "      <td>None</td>\n",
              "      <td>810625</td>\n",
              "      <td>NaN</td>\n",
              "      <td>14705202</td>\n",
              "      <td>1.95</td>\n",
              "      <td>NaN</td>\n",
              "      <td>NaN</td>\n",
              "    </tr>\n",
              "    <tr>\n",
              "      <th>WA</th>\n",
              "      <td>2124</td>\n",
              "      <td>7483.000000</td>\n",
              "      <td>1767357</td>\n",
              "      <td>None</td>\n",
              "      <td>87042</td>\n",
              "      <td>NaN</td>\n",
              "      <td>1854399</td>\n",
              "      <td>2.44</td>\n",
              "      <td>NaN</td>\n",
              "      <td>NaN</td>\n",
              "    </tr>\n",
              "    <tr>\n",
              "      <th>AZ</th>\n",
              "      <td>5650</td>\n",
              "      <td>22119.000000</td>\n",
              "      <td>1243641</td>\n",
              "      <td>None</td>\n",
              "      <td>218507</td>\n",
              "      <td>35261.0</td>\n",
              "      <td>1462148</td>\n",
              "      <td>2.59</td>\n",
              "      <td>16.137240</td>\n",
              "      <td>Low Recovery</td>\n",
              "    </tr>\n",
              "    <tr>\n",
              "      <th>WI</th>\n",
              "      <td>1337</td>\n",
              "      <td>7300.000000</td>\n",
              "      <td>1423247</td>\n",
              "      <td>190.0</td>\n",
              "      <td>129123</td>\n",
              "      <td>99925.0</td>\n",
              "      <td>1552370</td>\n",
              "      <td>1.04</td>\n",
              "      <td>77.387452</td>\n",
              "      <td>High Recovery</td>\n",
              "    </tr>\n",
              "    <tr>\n",
              "      <th>AS</th>\n",
              "      <td>0</td>\n",
              "      <td>11044.567568</td>\n",
              "      <td>1571</td>\n",
              "      <td>None</td>\n",
              "      <td>0</td>\n",
              "      <td>NaN</td>\n",
              "      <td>1571</td>\n",
              "      <td>NaN</td>\n",
              "      <td>NaN</td>\n",
              "      <td>NaN</td>\n",
              "    </tr>\n",
              "    <tr>\n",
              "      <th>WV</th>\n",
              "      <td>350</td>\n",
              "      <td>11044.567568</td>\n",
              "      <td>545720</td>\n",
              "      <td>None</td>\n",
              "      <td>15848</td>\n",
              "      <td>11507.0</td>\n",
              "      <td>561568</td>\n",
              "      <td>2.21</td>\n",
              "      <td>72.608531</td>\n",
              "      <td>High Recovery</td>\n",
              "    </tr>\n",
              "    <tr>\n",
              "      <th>AR</th>\n",
              "      <td>1369</td>\n",
              "      <td>5354.000000</td>\n",
              "      <td>949107</td>\n",
              "      <td>None</td>\n",
              "      <td>83697</td>\n",
              "      <td>75312.0</td>\n",
              "      <td>1032804</td>\n",
              "      <td>1.64</td>\n",
              "      <td>89.981720</td>\n",
              "      <td>High Recovery</td>\n",
              "    </tr>\n",
              "    <tr>\n",
              "      <th>MS</th>\n",
              "      <td>2969</td>\n",
              "      <td>5844.000000</td>\n",
              "      <td>638843</td>\n",
              "      <td>None</td>\n",
              "      <td>98190</td>\n",
              "      <td>89737.0</td>\n",
              "      <td>737033</td>\n",
              "      <td>3.02</td>\n",
              "      <td>91.391180</td>\n",
              "      <td>High Recovery</td>\n",
              "    </tr>\n",
              "    <tr>\n",
              "      <th>AL</th>\n",
              "      <td>2540</td>\n",
              "      <td>17257.000000</td>\n",
              "      <td>994475</td>\n",
              "      <td>None</td>\n",
              "      <td>154701</td>\n",
              "      <td>67948.0</td>\n",
              "      <td>1149176</td>\n",
              "      <td>1.64</td>\n",
              "      <td>43.922147</td>\n",
              "      <td>Moderate Recovery</td>\n",
              "    </tr>\n",
              "    <tr>\n",
              "      <th>AK</th>\n",
              "      <td>56</td>\n",
              "      <td>11044.567568</td>\n",
              "      <td>448427</td>\n",
              "      <td>None</td>\n",
              "      <td>8780</td>\n",
              "      <td>4555.0</td>\n",
              "      <td>457207</td>\n",
              "      <td>0.64</td>\n",
              "      <td>51.879271</td>\n",
              "      <td>High Recovery</td>\n",
              "    </tr>\n",
              "  </tbody>\n",
              "</table>\n",
              "</div>\n",
              "      <button class=\"colab-df-convert\" onclick=\"convertToInteractive('df-6245c1af-1ff1-4503-983c-d61912d6ac13')\"\n",
              "              title=\"Convert this dataframe to an interactive table.\"\n",
              "              style=\"display:none;\">\n",
              "        \n",
              "  <svg xmlns=\"http://www.w3.org/2000/svg\" height=\"24px\"viewBox=\"0 0 24 24\"\n",
              "       width=\"24px\">\n",
              "    <path d=\"M0 0h24v24H0V0z\" fill=\"none\"/>\n",
              "    <path d=\"M18.56 5.44l.94 2.06.94-2.06 2.06-.94-2.06-.94-.94-2.06-.94 2.06-2.06.94zm-11 1L8.5 8.5l.94-2.06 2.06-.94-2.06-.94L8.5 2.5l-.94 2.06-2.06.94zm10 10l.94 2.06.94-2.06 2.06-.94-2.06-.94-.94-2.06-.94 2.06-2.06.94z\"/><path d=\"M17.41 7.96l-1.37-1.37c-.4-.4-.92-.59-1.43-.59-.52 0-1.04.2-1.43.59L10.3 9.45l-7.72 7.72c-.78.78-.78 2.05 0 2.83L4 21.41c.39.39.9.59 1.41.59.51 0 1.02-.2 1.41-.59l7.78-7.78 2.81-2.81c.8-.78.8-2.07 0-2.86zM5.41 20L4 18.59l7.72-7.72 1.47 1.35L5.41 20z\"/>\n",
              "  </svg>\n",
              "      </button>\n",
              "      \n",
              "  <style>\n",
              "    .colab-df-container {\n",
              "      display:flex;\n",
              "      flex-wrap:wrap;\n",
              "      gap: 12px;\n",
              "    }\n",
              "\n",
              "    .colab-df-convert {\n",
              "      background-color: #E8F0FE;\n",
              "      border: none;\n",
              "      border-radius: 50%;\n",
              "      cursor: pointer;\n",
              "      display: none;\n",
              "      fill: #1967D2;\n",
              "      height: 32px;\n",
              "      padding: 0 0 0 0;\n",
              "      width: 32px;\n",
              "    }\n",
              "\n",
              "    .colab-df-convert:hover {\n",
              "      background-color: #E2EBFA;\n",
              "      box-shadow: 0px 1px 2px rgba(60, 64, 67, 0.3), 0px 1px 3px 1px rgba(60, 64, 67, 0.15);\n",
              "      fill: #174EA6;\n",
              "    }\n",
              "\n",
              "    [theme=dark] .colab-df-convert {\n",
              "      background-color: #3B4455;\n",
              "      fill: #D2E3FC;\n",
              "    }\n",
              "\n",
              "    [theme=dark] .colab-df-convert:hover {\n",
              "      background-color: #434B5C;\n",
              "      box-shadow: 0px 1px 3px 1px rgba(0, 0, 0, 0.15);\n",
              "      filter: drop-shadow(0px 1px 2px rgba(0, 0, 0, 0.3));\n",
              "      fill: #FFFFFF;\n",
              "    }\n",
              "  </style>\n",
              "\n",
              "      <script>\n",
              "        const buttonEl =\n",
              "          document.querySelector('#df-6245c1af-1ff1-4503-983c-d61912d6ac13 button.colab-df-convert');\n",
              "        buttonEl.style.display =\n",
              "          google.colab.kernel.accessAllowed ? 'block' : 'none';\n",
              "\n",
              "        async function convertToInteractive(key) {\n",
              "          const element = document.querySelector('#df-6245c1af-1ff1-4503-983c-d61912d6ac13');\n",
              "          const dataTable =\n",
              "            await google.colab.kernel.invokeFunction('convertToInteractive',\n",
              "                                                     [key], {});\n",
              "          if (!dataTable) return;\n",
              "\n",
              "          const docLinkHtml = 'Like what you see? Visit the ' +\n",
              "            '<a target=\"_blank\" href=https://colab.research.google.com/notebooks/data_table.ipynb>data table notebook</a>'\n",
              "            + ' to learn more about interactive tables.';\n",
              "          element.innerHTML = '';\n",
              "          dataTable['output_type'] = 'display_data';\n",
              "          await google.colab.output.renderOutput(dataTable, element);\n",
              "          const docLink = document.createElement('div');\n",
              "          docLink.innerHTML = docLinkHtml;\n",
              "          element.appendChild(docLink);\n",
              "        }\n",
              "      </script>\n",
              "    </div>\n",
              "  </div>\n",
              "  "
            ]
          },
          "metadata": {},
          "execution_count": 59
        }
      ]
    },
    {
      "cell_type": "markdown",
      "metadata": {
        "id": "hMQUwVPeq7fR"
      },
      "source": [
        "# Plotting pandas using IRIS dataset"
      ]
    },
    {
      "cell_type": "markdown",
      "metadata": {
        "id": "hI2fKHB2q7fR"
      },
      "source": [
        "#### Note: This problem makes use of the iris data set and depends upon your having completed the previous problem, so please do that first.\n"
      ]
    },
    {
      "cell_type": "code",
      "execution_count": 62,
      "metadata": {
        "colab": {
          "base_uri": "https://localhost:8080/",
          "height": 206
        },
        "id": "5z_tVfJoq7fR",
        "outputId": "d7196b0b-a954-49f6-d9d8-831598fc2856"
      },
      "outputs": [
        {
          "output_type": "execute_result",
          "data": {
            "text/plain": [
              "   SepalLength  SepalWidth  PetalLength  PetalWidth         Name\n",
              "0          5.1         3.5          1.4         0.2  Iris-setosa\n",
              "1          4.9         3.0          1.4         0.2  Iris-setosa\n",
              "2          4.7         3.2          1.3         0.2  Iris-setosa\n",
              "3          4.6         3.1          1.5         0.2  Iris-setosa\n",
              "4          5.0         3.6          1.4         0.2  Iris-setosa"
            ],
            "text/html": [
              "\n",
              "  <div id=\"df-be5f0880-e61d-417c-aab2-064cec981ed0\">\n",
              "    <div class=\"colab-df-container\">\n",
              "      <div>\n",
              "<style scoped>\n",
              "    .dataframe tbody tr th:only-of-type {\n",
              "        vertical-align: middle;\n",
              "    }\n",
              "\n",
              "    .dataframe tbody tr th {\n",
              "        vertical-align: top;\n",
              "    }\n",
              "\n",
              "    .dataframe thead th {\n",
              "        text-align: right;\n",
              "    }\n",
              "</style>\n",
              "<table border=\"1\" class=\"dataframe\">\n",
              "  <thead>\n",
              "    <tr style=\"text-align: right;\">\n",
              "      <th></th>\n",
              "      <th>SepalLength</th>\n",
              "      <th>SepalWidth</th>\n",
              "      <th>PetalLength</th>\n",
              "      <th>PetalWidth</th>\n",
              "      <th>Name</th>\n",
              "    </tr>\n",
              "  </thead>\n",
              "  <tbody>\n",
              "    <tr>\n",
              "      <th>0</th>\n",
              "      <td>5.1</td>\n",
              "      <td>3.5</td>\n",
              "      <td>1.4</td>\n",
              "      <td>0.2</td>\n",
              "      <td>Iris-setosa</td>\n",
              "    </tr>\n",
              "    <tr>\n",
              "      <th>1</th>\n",
              "      <td>4.9</td>\n",
              "      <td>3.0</td>\n",
              "      <td>1.4</td>\n",
              "      <td>0.2</td>\n",
              "      <td>Iris-setosa</td>\n",
              "    </tr>\n",
              "    <tr>\n",
              "      <th>2</th>\n",
              "      <td>4.7</td>\n",
              "      <td>3.2</td>\n",
              "      <td>1.3</td>\n",
              "      <td>0.2</td>\n",
              "      <td>Iris-setosa</td>\n",
              "    </tr>\n",
              "    <tr>\n",
              "      <th>3</th>\n",
              "      <td>4.6</td>\n",
              "      <td>3.1</td>\n",
              "      <td>1.5</td>\n",
              "      <td>0.2</td>\n",
              "      <td>Iris-setosa</td>\n",
              "    </tr>\n",
              "    <tr>\n",
              "      <th>4</th>\n",
              "      <td>5.0</td>\n",
              "      <td>3.6</td>\n",
              "      <td>1.4</td>\n",
              "      <td>0.2</td>\n",
              "      <td>Iris-setosa</td>\n",
              "    </tr>\n",
              "  </tbody>\n",
              "</table>\n",
              "</div>\n",
              "      <button class=\"colab-df-convert\" onclick=\"convertToInteractive('df-be5f0880-e61d-417c-aab2-064cec981ed0')\"\n",
              "              title=\"Convert this dataframe to an interactive table.\"\n",
              "              style=\"display:none;\">\n",
              "        \n",
              "  <svg xmlns=\"http://www.w3.org/2000/svg\" height=\"24px\"viewBox=\"0 0 24 24\"\n",
              "       width=\"24px\">\n",
              "    <path d=\"M0 0h24v24H0V0z\" fill=\"none\"/>\n",
              "    <path d=\"M18.56 5.44l.94 2.06.94-2.06 2.06-.94-2.06-.94-.94-2.06-.94 2.06-2.06.94zm-11 1L8.5 8.5l.94-2.06 2.06-.94-2.06-.94L8.5 2.5l-.94 2.06-2.06.94zm10 10l.94 2.06.94-2.06 2.06-.94-2.06-.94-.94-2.06-.94 2.06-2.06.94z\"/><path d=\"M17.41 7.96l-1.37-1.37c-.4-.4-.92-.59-1.43-.59-.52 0-1.04.2-1.43.59L10.3 9.45l-7.72 7.72c-.78.78-.78 2.05 0 2.83L4 21.41c.39.39.9.59 1.41.59.51 0 1.02-.2 1.41-.59l7.78-7.78 2.81-2.81c.8-.78.8-2.07 0-2.86zM5.41 20L4 18.59l7.72-7.72 1.47 1.35L5.41 20z\"/>\n",
              "  </svg>\n",
              "      </button>\n",
              "      \n",
              "  <style>\n",
              "    .colab-df-container {\n",
              "      display:flex;\n",
              "      flex-wrap:wrap;\n",
              "      gap: 12px;\n",
              "    }\n",
              "\n",
              "    .colab-df-convert {\n",
              "      background-color: #E8F0FE;\n",
              "      border: none;\n",
              "      border-radius: 50%;\n",
              "      cursor: pointer;\n",
              "      display: none;\n",
              "      fill: #1967D2;\n",
              "      height: 32px;\n",
              "      padding: 0 0 0 0;\n",
              "      width: 32px;\n",
              "    }\n",
              "\n",
              "    .colab-df-convert:hover {\n",
              "      background-color: #E2EBFA;\n",
              "      box-shadow: 0px 1px 2px rgba(60, 64, 67, 0.3), 0px 1px 3px 1px rgba(60, 64, 67, 0.15);\n",
              "      fill: #174EA6;\n",
              "    }\n",
              "\n",
              "    [theme=dark] .colab-df-convert {\n",
              "      background-color: #3B4455;\n",
              "      fill: #D2E3FC;\n",
              "    }\n",
              "\n",
              "    [theme=dark] .colab-df-convert:hover {\n",
              "      background-color: #434B5C;\n",
              "      box-shadow: 0px 1px 3px 1px rgba(0, 0, 0, 0.15);\n",
              "      filter: drop-shadow(0px 1px 2px rgba(0, 0, 0, 0.3));\n",
              "      fill: #FFFFFF;\n",
              "    }\n",
              "  </style>\n",
              "\n",
              "      <script>\n",
              "        const buttonEl =\n",
              "          document.querySelector('#df-be5f0880-e61d-417c-aab2-064cec981ed0 button.colab-df-convert');\n",
              "        buttonEl.style.display =\n",
              "          google.colab.kernel.accessAllowed ? 'block' : 'none';\n",
              "\n",
              "        async function convertToInteractive(key) {\n",
              "          const element = document.querySelector('#df-be5f0880-e61d-417c-aab2-064cec981ed0');\n",
              "          const dataTable =\n",
              "            await google.colab.kernel.invokeFunction('convertToInteractive',\n",
              "                                                     [key], {});\n",
              "          if (!dataTable) return;\n",
              "\n",
              "          const docLinkHtml = 'Like what you see? Visit the ' +\n",
              "            '<a target=\"_blank\" href=https://colab.research.google.com/notebooks/data_table.ipynb>data table notebook</a>'\n",
              "            + ' to learn more about interactive tables.';\n",
              "          element.innerHTML = '';\n",
              "          dataTable['output_type'] = 'display_data';\n",
              "          await google.colab.output.renderOutput(dataTable, element);\n",
              "          const docLink = document.createElement('div');\n",
              "          docLink.innerHTML = docLinkHtml;\n",
              "          element.appendChild(docLink);\n",
              "        }\n",
              "      </script>\n",
              "    </div>\n",
              "  </div>\n",
              "  "
            ]
          },
          "metadata": {},
          "execution_count": 62
        }
      ],
      "source": [
        "#importing the dataset 'iris.csv'\n",
        "iris = pd.read_csv('iris.csv')\n",
        "iris.head()"
      ]
    },
    {
      "cell_type": "markdown",
      "metadata": {
        "id": "_1dNF1v6q7fR"
      },
      "source": [
        "#### Q22: Use the built-in pandas plotting tools to make a box-and-whisker plot showing the distribution of petal ratio and sepal ratio for each of the three species. Your plot should have two subplots, one for petal ratio and one for sepal ratio. You may choose the details of your plots (i.e., how to handle outliers, displaying mean vs median, etc) however you think is best. Please include labels on your x- and y-axes and give an appropriate title to your plot."
      ]
    },
    {
      "cell_type": "code",
      "execution_count": 64,
      "metadata": {
        "colab": {
          "base_uri": "https://localhost:8080/",
          "height": 357
        },
        "id": "sbl15bPsq7fS",
        "outputId": "c16d70d2-59bf-45eb-a50f-4be46c01845b"
      },
      "outputs": [
        {
          "output_type": "execute_result",
          "data": {
            "text/plain": [
              "array([<matplotlib.axes._subplots.AxesSubplot object at 0x7ffa13821220>,\n",
              "       <matplotlib.axes._subplots.AxesSubplot object at 0x7ffa13844bb0>],\n",
              "      dtype=object)"
            ]
          },
          "metadata": {},
          "execution_count": 64
        },
        {
          "output_type": "display_data",
          "data": {
            "text/plain": [
              "<Figure size 432x288 with 2 Axes>"
            ],
            "image/png": "[encoded data removed]"
          },
          "metadata": {
            "needs_background": "light"
          }
        }
      ],
      "source": [
        "#i've made the petal and sepal ratio taking\n",
        "#petal length/widght and sepal length/widght\n",
        "petal_ratio = round(iris['PetalLength']/iris['PetalWidth'], 2)\n",
        "sepal_ratio = round(iris['SepalLength']/iris['SepalWidth'], 2)\n",
        "\n",
        "#storing ratio in a newly made columnn\n",
        "iris['sepal_ratio'] = sepal_ratio\n",
        "iris['petal_ratio'] = petal_ratio\n",
        "iris.boxplot(column = ['sepal_ratio', 'petal_ratio'], by = ['Name'])"
      ]
    },
    {
      "cell_type": "markdown",
      "metadata": {
        "id": "O4o6a4-Rq7fS"
      },
      "source": [
        "#### Q23: Use the built-in pandas plotting tools to make a scatter matrix plot for the four original features (petal width, petal length, sepal width and sepal length). Each point in the scatter plot should be colored according to its species. Hint: see the documentation at https://pandas.pydata.org/pandas-docs/stable/visualization.html# scatter-matrix-plot to get started."
      ]
    },
    {
      "cell_type": "code",
      "execution_count": 65,
      "metadata": {
        "colab": {
          "base_uri": "https://localhost:8080/",
          "height": 444
        },
        "id": "iSVrPJ9fq7fS",
        "outputId": "0fa212f6-1d45-4be9-9744-6437601946e5"
      },
      "outputs": [
        {
          "output_type": "display_data",
          "data": {
            "text/plain": [
              "<Figure size 432x432 with 36 Axes>"
            ],
            "image/png": "[encoded data removed]"
          },
          "metadata": {
            "needs_background": "light"
          }
        }
      ],
      "source": [
        "from pandas.plotting import scatter_matrix\n",
        "\n",
        "colors = []\n",
        "\n",
        "for i in iris[\"Name\"]:\n",
        "    if i == 'Iris-setosa':\n",
        "        colors.append('red')\n",
        "    elif i=='Iris-versicolor':\n",
        "        colors.append('blue')\n",
        "    else: colors.append('green')\n",
        "\n",
        "pd.plotting.scatter_matrix(iris, color = colors, figsize=(6, 6), diagonal=\"kde\");"
      ]
    },
    {
      "cell_type": "markdown",
      "metadata": {
        "id": "K6c_gWp3q7fS"
      },
      "source": [
        "## Load the stockprice dataset"
      ]
    },
    {
      "cell_type": "code",
      "execution_count": 66,
      "metadata": {
        "colab": {
          "base_uri": "https://localhost:8080/",
          "height": 206
        },
        "id": "2sqJk6dAq7fS",
        "outputId": "dbf14309-dc63-45df-dd5f-9372c176a4c3"
      },
      "outputs": [
        {
          "output_type": "execute_result",
          "data": {
            "text/plain": [
              "     Date   Amazon  Google  Facebook\n",
              "0  5/1/18  927.800  901.94    151.74\n",
              "1  5/2/18  946.645  909.62    153.34\n",
              "2  5/3/18  946.000  914.86    153.60\n",
              "3  5/4/18  944.750  926.07    150.17\n",
              "4  5/7/18  940.520  933.54    151.45"
            ],
            "text/html": [
              "\n",
              "  <div id=\"df-a2faec4c-d6d7-417d-b3b4-efffb12a6445\">\n",
              "    <div class=\"colab-df-container\">\n",
              "      <div>\n",
              "<style scoped>\n",
              "    .dataframe tbody tr th:only-of-type {\n",
              "        vertical-align: middle;\n",
              "    }\n",
              "\n",
              "    .dataframe tbody tr th {\n",
              "        vertical-align: top;\n",
              "    }\n",
              "\n",
              "    .dataframe thead th {\n",
              "        text-align: right;\n",
              "    }\n",
              "</style>\n",
              "<table border=\"1\" class=\"dataframe\">\n",
              "  <thead>\n",
              "    <tr style=\"text-align: right;\">\n",
              "      <th></th>\n",
              "      <th>Date</th>\n",
              "      <th>Amazon</th>\n",
              "      <th>Google</th>\n",
              "      <th>Facebook</th>\n",
              "    </tr>\n",
              "  </thead>\n",
              "  <tbody>\n",
              "    <tr>\n",
              "      <th>0</th>\n",
              "      <td>5/1/18</td>\n",
              "      <td>927.800</td>\n",
              "      <td>901.94</td>\n",
              "      <td>151.74</td>\n",
              "    </tr>\n",
              "    <tr>\n",
              "      <th>1</th>\n",
              "      <td>5/2/18</td>\n",
              "      <td>946.645</td>\n",
              "      <td>909.62</td>\n",
              "      <td>153.34</td>\n",
              "    </tr>\n",
              "    <tr>\n",
              "      <th>2</th>\n",
              "      <td>5/3/18</td>\n",
              "      <td>946.000</td>\n",
              "      <td>914.86</td>\n",
              "      <td>153.60</td>\n",
              "    </tr>\n",
              "    <tr>\n",
              "      <th>3</th>\n",
              "      <td>5/4/18</td>\n",
              "      <td>944.750</td>\n",
              "      <td>926.07</td>\n",
              "      <td>150.17</td>\n",
              "    </tr>\n",
              "    <tr>\n",
              "      <th>4</th>\n",
              "      <td>5/7/18</td>\n",
              "      <td>940.520</td>\n",
              "      <td>933.54</td>\n",
              "      <td>151.45</td>\n",
              "    </tr>\n",
              "  </tbody>\n",
              "</table>\n",
              "</div>\n",
              "      <button class=\"colab-df-convert\" onclick=\"convertToInteractive('df-a2faec4c-d6d7-417d-b3b4-efffb12a6445')\"\n",
              "              title=\"Convert this dataframe to an interactive table.\"\n",
              "              style=\"display:none;\">\n",
              "        \n",
              "  <svg xmlns=\"http://www.w3.org/2000/svg\" height=\"24px\"viewBox=\"0 0 24 24\"\n",
              "       width=\"24px\">\n",
              "    <path d=\"M0 0h24v24H0V0z\" fill=\"none\"/>\n",
              "    <path d=\"M18.56 5.44l.94 2.06.94-2.06 2.06-.94-2.06-.94-.94-2.06-.94 2.06-2.06.94zm-11 1L8.5 8.5l.94-2.06 2.06-.94-2.06-.94L8.5 2.5l-.94 2.06-2.06.94zm10 10l.94 2.06.94-2.06 2.06-.94-2.06-.94-.94-2.06-.94 2.06-2.06.94z\"/><path d=\"M17.41 7.96l-1.37-1.37c-.4-.4-.92-.59-1.43-.59-.52 0-1.04.2-1.43.59L10.3 9.45l-7.72 7.72c-.78.78-.78 2.05 0 2.83L4 21.41c.39.39.9.59 1.41.59.51 0 1.02-.2 1.41-.59l7.78-7.78 2.81-2.81c.8-.78.8-2.07 0-2.86zM5.41 20L4 18.59l7.72-7.72 1.47 1.35L5.41 20z\"/>\n",
              "  </svg>\n",
              "      </button>\n",
              "      \n",
              "  <style>\n",
              "    .colab-df-container {\n",
              "      display:flex;\n",
              "      flex-wrap:wrap;\n",
              "      gap: 12px;\n",
              "    }\n",
              "\n",
              "    .colab-df-convert {\n",
              "      background-color: #E8F0FE;\n",
              "      border: none;\n",
              "      border-radius: 50%;\n",
              "      cursor: pointer;\n",
              "      display: none;\n",
              "      fill: #1967D2;\n",
              "      height: 32px;\n",
              "      padding: 0 0 0 0;\n",
              "      width: 32px;\n",
              "    }\n",
              "\n",
              "    .colab-df-convert:hover {\n",
              "      background-color: #E2EBFA;\n",
              "      box-shadow: 0px 1px 2px rgba(60, 64, 67, 0.3), 0px 1px 3px 1px rgba(60, 64, 67, 0.15);\n",
              "      fill: #174EA6;\n",
              "    }\n",
              "\n",
              "    [theme=dark] .colab-df-convert {\n",
              "      background-color: #3B4455;\n",
              "      fill: #D2E3FC;\n",
              "    }\n",
              "\n",
              "    [theme=dark] .colab-df-convert:hover {\n",
              "      background-color: #434B5C;\n",
              "      box-shadow: 0px 1px 3px 1px rgba(0, 0, 0, 0.15);\n",
              "      filter: drop-shadow(0px 1px 2px rgba(0, 0, 0, 0.3));\n",
              "      fill: #FFFFFF;\n",
              "    }\n",
              "  </style>\n",
              "\n",
              "      <script>\n",
              "        const buttonEl =\n",
              "          document.querySelector('#df-a2faec4c-d6d7-417d-b3b4-efffb12a6445 button.colab-df-convert');\n",
              "        buttonEl.style.display =\n",
              "          google.colab.kernel.accessAllowed ? 'block' : 'none';\n",
              "\n",
              "        async function convertToInteractive(key) {\n",
              "          const element = document.querySelector('#df-a2faec4c-d6d7-417d-b3b4-efffb12a6445');\n",
              "          const dataTable =\n",
              "            await google.colab.kernel.invokeFunction('convertToInteractive',\n",
              "                                                     [key], {});\n",
              "          if (!dataTable) return;\n",
              "\n",
              "          const docLinkHtml = 'Like what you see? Visit the ' +\n",
              "            '<a target=\"_blank\" href=https://colab.research.google.com/notebooks/data_table.ipynb>data table notebook</a>'\n",
              "            + ' to learn more about interactive tables.';\n",
              "          element.innerHTML = '';\n",
              "          dataTable['output_type'] = 'display_data';\n",
              "          await google.colab.output.renderOutput(dataTable, element);\n",
              "          const docLink = document.createElement('div');\n",
              "          docLink.innerHTML = docLinkHtml;\n",
              "          element.appendChild(docLink);\n",
              "        }\n",
              "      </script>\n",
              "    </div>\n",
              "  </div>\n",
              "  "
            ]
          },
          "metadata": {},
          "execution_count": 66
        }
      ],
      "source": [
        "#loading the stockprice dataset\n",
        "stock = pd.read_csv(\"timeseries_stockprice.csv\", header=0) #add header\n",
        "stock.head()"
      ]
    },
    {
      "cell_type": "markdown",
      "metadata": {
        "id": "eSOiXc45q7fS"
      },
      "source": [
        "#### Q24-Plotting a single series\n",
        "\n",
        "To plot a single series, such as the closing stock price for Amazon for each date, you can simple designate the x-axis values as Date and the y-axis values as Amazon and set the kind parameter to line."
      ]
    },
    {
      "cell_type": "code",
      "execution_count": 68,
      "metadata": {
        "colab": {
          "base_uri": "https://localhost:8080/",
          "height": 315
        },
        "id": "tQKVxKUbq7fS",
        "outputId": "e80cbe39-3c4c-4ace-e9ab-422ef6951a56"
      },
      "outputs": [
        {
          "output_type": "execute_result",
          "data": {
            "text/plain": [
              "<matplotlib.axes._subplots.AxesSubplot at 0x7ffa1456c790>"
            ]
          },
          "metadata": {},
          "execution_count": 68
        },
        {
          "output_type": "display_data",
          "data": {
            "text/plain": [
              "<Figure size 432x288 with 1 Axes>"
            ],
            "image/png": "[encoded data removed]"
          },
          "metadata": {
            "needs_background": "light"
          }
        }
      ],
      "source": [
        "#plotting a single series time data for the Amazaon against the\n",
        "#date column for timeseries_stockprice.csv\n",
        "stock.plot(kind = 'line', x = 'Date', y = ['Amazon'])"
      ]
    },
    {
      "cell_type": "markdown",
      "metadata": {
        "id": "HTUYXgL4q7fS"
      },
      "source": [
        "#### Q25-Plotting two series\n",
        "\n",
        "When plotting two series, set the y-axis values to a list containing the two column names, each being a data series."
      ]
    },
    {
      "cell_type": "code",
      "execution_count": 69,
      "metadata": {
        "colab": {
          "base_uri": "https://localhost:8080/",
          "height": 315
        },
        "id": "GAmcQnoBq7fT",
        "outputId": "583c477b-126f-41bb-c402-50057017ef05"
      },
      "outputs": [
        {
          "output_type": "execute_result",
          "data": {
            "text/plain": [
              "<matplotlib.axes._subplots.AxesSubplot at 0x7ffa14682e50>"
            ]
          },
          "metadata": {},
          "execution_count": 69
        },
        {
          "output_type": "display_data",
          "data": {
            "text/plain": [
              "<Figure size 432x288 with 1 Axes>"
            ],
            "image/png": "[encoded data removed]"
          },
          "metadata": {
            "needs_background": "light"
          }
        }
      ],
      "source": [
        "#plotting the two series for Google and Facebook\n",
        "#showing the values of each column vs Date\n",
        "stock.plot(kind = 'line', x = 'Date', y = ['Google','Facebook'])"
      ]
    },
    {
      "cell_type": "markdown",
      "metadata": {
        "id": "bV3X6bPxq7fT"
      },
      "source": [
        "#### Q26- Plotting three series\n",
        "\n",
        "When plotting three series, set the y-axis values to a list containing the three column names, each being a data series."
      ]
    },
    {
      "cell_type": "code",
      "execution_count": 70,
      "metadata": {
        "colab": {
          "base_uri": "https://localhost:8080/",
          "height": 315
        },
        "id": "sIPtM2Ayq7fT",
        "outputId": "78d66896-37ef-4412-8f92-c06b42266ae9"
      },
      "outputs": [
        {
          "output_type": "execute_result",
          "data": {
            "text/plain": [
              "<matplotlib.axes._subplots.AxesSubplot at 0x7ffa1e1bcc40>"
            ]
          },
          "metadata": {},
          "execution_count": 70
        },
        {
          "output_type": "display_data",
          "data": {
            "text/plain": [
              "<Figure size 432x288 with 1 Axes>"
            ],
            "image/png": "[encoded data removed]"
          },
          "metadata": {
            "needs_background": "light"
          }
        }
      ],
      "source": [
        "#plotting the two series for Google and Facebook and Amazon\n",
        "#showing the values of each column vs Date\n",
        "stock.plot(kind = 'line', x = 'Date', y = ['Amazon','Google','Facebook'])"
      ]
    },
    {
      "cell_type": "markdown",
      "metadata": {
        "id": "oh2RGaGFq7fT"
      },
      "source": [
        "## Load the following dataset"
      ]
    },
    {
      "cell_type": "code",
      "execution_count": 71,
      "metadata": {
        "colab": {
          "base_uri": "https://localhost:8080/",
          "height": 237
        },
        "id": "Zk_dE0aYq7fT",
        "outputId": "b3b42538-10e9-4fca-e9f3-e2389cfa8327"
      },
      "outputs": [
        {
          "output_type": "execute_result",
          "data": {
            "text/plain": [
              "                   Rank Country  Average_salary  Pre_Salary  Grad_Jobs  PhD  \\\n",
              "School                                                                        \n",
              "Chicago (Booth)       1      US          113217          63         93   96   \n",
              "Dartmouth (Tuck)      2      US          115143          62         97  100   \n",
              "Virginia (Darden)     3      US          104478          67         95   97   \n",
              "Harvard               4      US          121785          44         97   94   \n",
              "Columbia              5      US          113340          55         98   97   \n",
              "\n",
              "                   Avg_Age_Students  Avg_Work_Experience  Tuition  Duration  \n",
              "School                                                                       \n",
              "Chicago (Booth)                  27                   60   106800        21  \n",
              "Dartmouth (Tuck)                 28                   60   106980        21  \n",
              "Virginia (Darden)                27                   60   107800        21  \n",
              "Harvard                          27                   48   107000        18  \n",
              "Columbia                         28                   60   111736        20  "
            ],
            "text/html": [
              "\n",
              "  <div id=\"df-66458231-c06d-4c39-812b-6a4311cd6166\">\n",
              "    <div class=\"colab-df-container\">\n",
              "      <div>\n",
              "<style scoped>\n",
              "    .dataframe tbody tr th:only-of-type {\n",
              "        vertical-align: middle;\n",
              "    }\n",
              "\n",
              "    .dataframe tbody tr th {\n",
              "        vertical-align: top;\n",
              "    }\n",
              "\n",
              "    .dataframe thead th {\n",
              "        text-align: right;\n",
              "    }\n",
              "</style>\n",
              "<table border=\"1\" class=\"dataframe\">\n",
              "  <thead>\n",
              "    <tr style=\"text-align: right;\">\n",
              "      <th></th>\n",
              "      <th>Rank</th>\n",
              "      <th>Country</th>\n",
              "      <th>Average_salary</th>\n",
              "      <th>Pre_Salary</th>\n",
              "      <th>Grad_Jobs</th>\n",
              "      <th>PhD</th>\n",
              "      <th>Avg_Age_Students</th>\n",
              "      <th>Avg_Work_Experience</th>\n",
              "      <th>Tuition</th>\n",
              "      <th>Duration</th>\n",
              "    </tr>\n",
              "    <tr>\n",
              "      <th>School</th>\n",
              "      <th></th>\n",
              "      <th></th>\n",
              "      <th></th>\n",
              "      <th></th>\n",
              "      <th></th>\n",
              "      <th></th>\n",
              "      <th></th>\n",
              "      <th></th>\n",
              "      <th></th>\n",
              "      <th></th>\n",
              "    </tr>\n",
              "  </thead>\n",
              "  <tbody>\n",
              "    <tr>\n",
              "      <th>Chicago (Booth)</th>\n",
              "      <td>1</td>\n",
              "      <td>US</td>\n",
              "      <td>113217</td>\n",
              "      <td>63</td>\n",
              "      <td>93</td>\n",
              "      <td>96</td>\n",
              "      <td>27</td>\n",
              "      <td>60</td>\n",
              "      <td>106800</td>\n",
              "      <td>21</td>\n",
              "    </tr>\n",
              "    <tr>\n",
              "      <th>Dartmouth (Tuck)</th>\n",
              "      <td>2</td>\n",
              "      <td>US</td>\n",
              "      <td>115143</td>\n",
              "      <td>62</td>\n",
              "      <td>97</td>\n",
              "      <td>100</td>\n",
              "      <td>28</td>\n",
              "      <td>60</td>\n",
              "      <td>106980</td>\n",
              "      <td>21</td>\n",
              "    </tr>\n",
              "    <tr>\n",
              "      <th>Virginia (Darden)</th>\n",
              "      <td>3</td>\n",
              "      <td>US</td>\n",
              "      <td>104478</td>\n",
              "      <td>67</td>\n",
              "      <td>95</td>\n",
              "      <td>97</td>\n",
              "      <td>27</td>\n",
              "      <td>60</td>\n",
              "      <td>107800</td>\n",
              "      <td>21</td>\n",
              "    </tr>\n",
              "    <tr>\n",
              "      <th>Harvard</th>\n",
              "      <td>4</td>\n",
              "      <td>US</td>\n",
              "      <td>121785</td>\n",
              "      <td>44</td>\n",
              "      <td>97</td>\n",
              "      <td>94</td>\n",
              "      <td>27</td>\n",
              "      <td>48</td>\n",
              "      <td>107000</td>\n",
              "      <td>18</td>\n",
              "    </tr>\n",
              "    <tr>\n",
              "      <th>Columbia</th>\n",
              "      <td>5</td>\n",
              "      <td>US</td>\n",
              "      <td>113340</td>\n",
              "      <td>55</td>\n",
              "      <td>98</td>\n",
              "      <td>97</td>\n",
              "      <td>28</td>\n",
              "      <td>60</td>\n",
              "      <td>111736</td>\n",
              "      <td>20</td>\n",
              "    </tr>\n",
              "  </tbody>\n",
              "</table>\n",
              "</div>\n",
              "      <button class=\"colab-df-convert\" onclick=\"convertToInteractive('df-66458231-c06d-4c39-812b-6a4311cd6166')\"\n",
              "              title=\"Convert this dataframe to an interactive table.\"\n",
              "              style=\"display:none;\">\n",
              "        \n",
              "  <svg xmlns=\"http://www.w3.org/2000/svg\" height=\"24px\"viewBox=\"0 0 24 24\"\n",
              "       width=\"24px\">\n",
              "    <path d=\"M0 0h24v24H0V0z\" fill=\"none\"/>\n",
              "    <path d=\"M18.56 5.44l.94 2.06.94-2.06 2.06-.94-2.06-.94-.94-2.06-.94 2.06-2.06.94zm-11 1L8.5 8.5l.94-2.06 2.06-.94-2.06-.94L8.5 2.5l-.94 2.06-2.06.94zm10 10l.94 2.06.94-2.06 2.06-.94-2.06-.94-.94-2.06-.94 2.06-2.06.94z\"/><path d=\"M17.41 7.96l-1.37-1.37c-.4-.4-.92-.59-1.43-.59-.52 0-1.04.2-1.43.59L10.3 9.45l-7.72 7.72c-.78.78-.78 2.05 0 2.83L4 21.41c.39.39.9.59 1.41.59.51 0 1.02-.2 1.41-.59l7.78-7.78 2.81-2.81c.8-.78.8-2.07 0-2.86zM5.41 20L4 18.59l7.72-7.72 1.47 1.35L5.41 20z\"/>\n",
              "  </svg>\n",
              "      </button>\n",
              "      \n",
              "  <style>\n",
              "    .colab-df-container {\n",
              "      display:flex;\n",
              "      flex-wrap:wrap;\n",
              "      gap: 12px;\n",
              "    }\n",
              "\n",
              "    .colab-df-convert {\n",
              "      background-color: #E8F0FE;\n",
              "      border: none;\n",
              "      border-radius: 50%;\n",
              "      cursor: pointer;\n",
              "      display: none;\n",
              "      fill: #1967D2;\n",
              "      height: 32px;\n",
              "      padding: 0 0 0 0;\n",
              "      width: 32px;\n",
              "    }\n",
              "\n",
              "    .colab-df-convert:hover {\n",
              "      background-color: #E2EBFA;\n",
              "      box-shadow: 0px 1px 2px rgba(60, 64, 67, 0.3), 0px 1px 3px 1px rgba(60, 64, 67, 0.15);\n",
              "      fill: #174EA6;\n",
              "    }\n",
              "\n",
              "    [theme=dark] .colab-df-convert {\n",
              "      background-color: #3B4455;\n",
              "      fill: #D2E3FC;\n",
              "    }\n",
              "\n",
              "    [theme=dark] .colab-df-convert:hover {\n",
              "      background-color: #434B5C;\n",
              "      box-shadow: 0px 1px 3px 1px rgba(0, 0, 0, 0.15);\n",
              "      filter: drop-shadow(0px 1px 2px rgba(0, 0, 0, 0.3));\n",
              "      fill: #FFFFFF;\n",
              "    }\n",
              "  </style>\n",
              "\n",
              "      <script>\n",
              "        const buttonEl =\n",
              "          document.querySelector('#df-66458231-c06d-4c39-812b-6a4311cd6166 button.colab-df-convert');\n",
              "        buttonEl.style.display =\n",
              "          google.colab.kernel.accessAllowed ? 'block' : 'none';\n",
              "\n",
              "        async function convertToInteractive(key) {\n",
              "          const element = document.querySelector('#df-66458231-c06d-4c39-812b-6a4311cd6166');\n",
              "          const dataTable =\n",
              "            await google.colab.kernel.invokeFunction('convertToInteractive',\n",
              "                                                     [key], {});\n",
              "          if (!dataTable) return;\n",
              "\n",
              "          const docLinkHtml = 'Like what you see? Visit the ' +\n",
              "            '<a target=\"_blank\" href=https://colab.research.google.com/notebooks/data_table.ipynb>data table notebook</a>'\n",
              "            + ' to learn more about interactive tables.';\n",
              "          element.innerHTML = '';\n",
              "          dataTable['output_type'] = 'display_data';\n",
              "          await google.colab.output.renderOutput(dataTable, element);\n",
              "          const docLink = document.createElement('div');\n",
              "          docLink.innerHTML = docLinkHtml;\n",
              "          element.appendChild(docLink);\n",
              "        }\n",
              "      </script>\n",
              "    </div>\n",
              "  </div>\n",
              "  "
            ]
          },
          "metadata": {},
          "execution_count": 71
        }
      ],
      "source": [
        "#loading the mba.csv dataset\n",
        "import pandas as pd\n",
        "mydata = pd.read_csv(\"mba.csv\", header=0, index_col =\"School\") #add header and index\n",
        "mydata.head()"
      ]
    },
    {
      "cell_type": "markdown",
      "metadata": {
        "id": "-zC1Mdwuq7fT"
      },
      "source": [
        "#### Q27-Plot the Box plot using both approach available in pandas: \n",
        "\n",
        "    * .plot\n",
        "    * .boxplot"
      ]
    },
    {
      "cell_type": "code",
      "execution_count": 72,
      "metadata": {
        "colab": {
          "base_uri": "https://localhost:8080/",
          "height": 315
        },
        "id": "Fna0wWHsq7fU",
        "outputId": "97b3f814-6721-468e-c46d-9ff69ba6167a"
      },
      "outputs": [
        {
          "output_type": "execute_result",
          "data": {
            "text/plain": [
              "<matplotlib.axes._subplots.AxesSubplot at 0x7ffa1e11a970>"
            ]
          },
          "metadata": {},
          "execution_count": 72
        },
        {
          "output_type": "display_data",
          "data": {
            "text/plain": [
              "<Figure size 432x288 with 1 Axes>"
            ],
            "image/png": "[encoded data removed]"
          },
          "metadata": {
            "needs_background": "light"
          }
        }
      ],
      "source": [
        "#.plot\n",
        "#here are plotting the box plot using the first approach\n",
        "mydata.plot(kind=\"box\")"
      ]
    },
    {
      "cell_type": "code",
      "source": [
        "#.boxplot\n",
        "#here are plotting the box plot using the second approach\n",
        "mydata.boxplot()"
      ],
      "metadata": {
        "colab": {
          "base_uri": "https://localhost:8080/",
          "height": 315
        },
        "id": "IbrhFeWKsvyI",
        "outputId": "3989e65d-ceb9-423a-f256-0fb4a97cd2a7"
      },
      "execution_count": 73,
      "outputs": [
        {
          "output_type": "execute_result",
          "data": {
            "text/plain": [
              "<matplotlib.axes._subplots.AxesSubplot at 0x7ffa1e04be80>"
            ]
          },
          "metadata": {},
          "execution_count": 73
        },
        {
          "output_type": "display_data",
          "data": {
            "text/plain": [
              "<Figure size 432x288 with 1 Axes>"
            ],
            "image/png": "[encoded data removed]"
          },
          "metadata": {
            "needs_background": "light"
          }
        }
      ]
    },
    {
      "cell_type": "markdown",
      "metadata": {
        "id": "X7jPuHsxq7fU"
      },
      "source": [
        "#### Q28- creat a box plot of two variables: \"the average student\" and \"average work experience\" in one graph (side by side)"
      ]
    },
    {
      "cell_type": "code",
      "execution_count": 30,
      "metadata": {
        "colab": {
          "base_uri": "https://localhost:8080/",
          "height": 284
        },
        "id": "rp1eYc5Lq7fU",
        "outputId": "cb5165e3-620b-49e9-ef21-e7015219f75d"
      },
      "outputs": [
        {
          "output_type": "execute_result",
          "data": {
            "text/plain": [
              "<matplotlib.axes._subplots.AxesSubplot at 0x7ffa2346d400>"
            ]
          },
          "metadata": {},
          "execution_count": 30
        },
        {
          "output_type": "display_data",
          "data": {
            "text/plain": [
              "<Figure size 432x288 with 1 Axes>"
            ],
            "image/png": "[encoded data removed]"
          },
          "metadata": {
            "needs_background": "light"
          }
        }
      ],
      "source": [
        "mydata.boxplot(column=['Avg_Age_Students','Avg_Work_Experience'])"
      ]
    },
    {
      "cell_type": "markdown",
      "metadata": {
        "id": "pzsIscYaq7fU"
      },
      "source": [
        "#### Q29- Formatting with .boxplot().\n",
        "change the following parameters for the previous question as grid=False and fontsize=14:"
      ]
    },
    {
      "cell_type": "code",
      "execution_count": 76,
      "metadata": {
        "colab": {
          "base_uri": "https://localhost:8080/",
          "height": 315
        },
        "id": "Vf7oMF9Rq7fU",
        "outputId": "01aa19eb-c394-49e5-ee26-3c73cbb4a7c3"
      },
      "outputs": [
        {
          "output_type": "execute_result",
          "data": {
            "text/plain": [
              "<matplotlib.axes._subplots.AxesSubplot at 0x7ffa1332aeb0>"
            ]
          },
          "metadata": {},
          "execution_count": 76
        },
        {
          "output_type": "display_data",
          "data": {
            "text/plain": [
              "<Figure size 432x288 with 1 Axes>"
            ],
            "image/png": "[encoded data removed]"
          },
          "metadata": {
            "needs_background": "light"
          }
        }
      ],
      "source": [
        "#formatting the .boxplot() to change the formatting\n",
        "\n",
        "mydata.boxplot(column=['Avg_Age_Students','Avg_Work_Experience'], grid=False, fontsize=14)"
      ]
    },
    {
      "cell_type": "markdown",
      "metadata": {
        "id": "p5wPafKYq7fU"
      },
      "source": [
        "#### Q30-Histograms\n",
        "plot the histogram of Tuitions with proper bins"
      ]
    },
    {
      "cell_type": "code",
      "execution_count": 79,
      "metadata": {
        "colab": {
          "base_uri": "https://localhost:8080/",
          "height": 315
        },
        "id": "JUnL93Cvq7fU",
        "outputId": "faf396f9-b3bd-453a-97bf-1eddf95cb518"
      },
      "outputs": [
        {
          "output_type": "execute_result",
          "data": {
            "text/plain": [
              "<matplotlib.axes._subplots.AxesSubplot at 0x7ffa135a3af0>"
            ]
          },
          "metadata": {},
          "execution_count": 79
        },
        {
          "output_type": "display_data",
          "data": {
            "text/plain": [
              "<Figure size 432x288 with 1 Axes>"
            ],
            "image/png": "[encoded data removed]"
          },
          "metadata": {
            "needs_background": "light"
          }
        }
      ],
      "source": [
        "#plotting the histogram with bins = 3\n",
        "mydata['Tuition'].plot(kind='hist', title='Tuition', bins=3)"
      ]
    },
    {
      "cell_type": "markdown",
      "metadata": {
        "id": "A7h-ntg0q7fV"
      },
      "source": [
        "#### Q31-Scatter plots\n",
        "plot the scatter plot using Rank (x-axis) and Grad_job (y-axis) and set the proper xlim"
      ]
    },
    {
      "cell_type": "code",
      "execution_count": 80,
      "metadata": {
        "colab": {
          "base_uri": "https://localhost:8080/",
          "height": 315
        },
        "id": "TyqG9sMKq7fV",
        "outputId": "fc4c5837-4930-4aaf-f83f-c73768db165a"
      },
      "outputs": [
        {
          "output_type": "execute_result",
          "data": {
            "text/plain": [
              "<matplotlib.axes._subplots.AxesSubplot at 0x7ffa136424f0>"
            ]
          },
          "metadata": {},
          "execution_count": 80
        },
        {
          "output_type": "display_data",
          "data": {
            "text/plain": [
              "<Figure size 432x288 with 1 Axes>"
            ],
            "image/png": "[encoded data removed]"
          },
          "metadata": {
            "needs_background": "light"
          }
        }
      ],
      "source": [
        "#plotting the scatter plot with\n",
        "#x label as Rank\n",
        "#and y label as Grad_jobs\n",
        "mydata.plot.scatter(x = 'Rank', y = 'Grad_Jobs',\n",
        "                    title='Scatter plot (Rank vs Grad_job)',xlim=0)"
      ]
    },
    {
      "cell_type": "markdown",
      "metadata": {
        "id": "nk-nqjqCq7fV"
      },
      "source": [
        "#### Q32-Bar charts\n",
        "plot horrizontal bar graph for Tuition and assign a proper title for your graph - sort your bar graphs in ascending order"
      ]
    },
    {
      "cell_type": "code",
      "execution_count": 81,
      "metadata": {
        "colab": {
          "base_uri": "https://localhost:8080/",
          "height": 315
        },
        "id": "BU6mY7Itq7fV",
        "outputId": "ec85f998-83e5-4179-e0c0-fdb332ba0300"
      },
      "outputs": [
        {
          "output_type": "execute_result",
          "data": {
            "text/plain": [
              "<matplotlib.axes._subplots.AxesSubplot at 0x7ffa13569430>"
            ]
          },
          "metadata": {},
          "execution_count": 81
        },
        {
          "output_type": "display_data",
          "data": {
            "text/plain": [
              "<Figure size 432x288 with 1 Axes>"
            ],
            "image/png": "[encoded data removed]"
          },
          "metadata": {
            "needs_background": "light"
          }
        }
      ],
      "source": [
        "#plotting the scatter plot with\n",
        "#x label as Tuition\n",
        "#and Title label as as \"Bar Graph for Tuition\"\n",
        "mydata.sort_values(by='Tuition').plot.barh(x='Tuition', \n",
        "                                           title=\"Bar graph for Tuition\")"
      ]
    },
    {
      "cell_type": "markdown",
      "metadata": {
        "id": "2DTnpY4Fq7fV"
      },
      "source": [
        "### Q33-Refine the bar chart with a few aesthetic elements.\n",
        "\n",
        "\n",
        "* The legend parameter is set to False to remove the redundant legend.\n",
        "* The color parameter can set the color values using RGB. RGB is a way of making colors. You have to provide an amount of red, green and blue + the transparency and it returns a color.\n",
        "* The edgecolor parameter allows you to set the border of the bars."
      ]
    },
    {
      "cell_type": "code",
      "execution_count": 82,
      "metadata": {
        "colab": {
          "base_uri": "https://localhost:8080/",
          "height": 315
        },
        "id": "aulOFPMIq7fV",
        "outputId": "9eefbbec-25a8-410f-bc82-b2b29bb738c1"
      },
      "outputs": [
        {
          "output_type": "execute_result",
          "data": {
            "text/plain": [
              "<matplotlib.axes._subplots.AxesSubplot at 0x7ffa10b0d3d0>"
            ]
          },
          "metadata": {},
          "execution_count": 82
        },
        {
          "output_type": "display_data",
          "data": {
            "text/plain": [
              "<Figure size 432x288 with 1 Axes>"
            ],
            "image/png": "[encoded data removed]"
          },
          "metadata": {
            "needs_background": "light"
          }
        }
      ],
      "source": [
        "#not showing the legend (legend = False)\n",
        "#\n",
        "from matplotlib import rcParams\n",
        "rcParams.update({'figure.autolayout': True}) # keeps labels cutoff\n",
        "mydata.plot(kind='barh', y='Tuition',title='Total tuition for MBA programs',\n",
        "            legend=False, color=(0.45, 0.23, 0.87, 0.15), edgecolor='green')"
      ]
    }
  ],
  "metadata": {
    "anaconda-cloud": {},
    "kernel_info": {
      "name": "python3"
    },
    "kernelspec": {
      "display_name": "Python 3",
      "language": "python",
      "name": "python3"
    },
    "language_info": {
      "codemirror_mode": {
        "name": "ipython",
        "version": 3
      },
      "file_extension": ".py",
      "mimetype": "text/x-python",
      "name": "python",
      "nbconvert_exporter": "python",
      "pygments_lexer": "ipython3",
      "version": "3.7.3"
    },
    "nteract": {
      "version": "0.2.0"
    },
    "colab": {
      "provenance": []
    }
  },
  "nbformat": 4,
  "nbformat_minor": 0
}